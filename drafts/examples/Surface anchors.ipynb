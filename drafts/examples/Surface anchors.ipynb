{
 "cells": [
  {
   "cell_type": "markdown",
   "id": "0",
   "metadata": {},
   "source": [
    "# Surface Anchors"
   ]
  },
  {
   "cell_type": "code",
   "execution_count": null,
   "id": "1",
   "metadata": {},
   "outputs": [],
   "source": [
    "import torch\n",
    "import torch.nn as nn\n",
    "import torch.optim as optim\n",
    "import torchlensmaker as tlm"
   ]
  },
  {
   "cell_type": "code",
   "execution_count": null,
   "id": "2",
   "metadata": {},
   "outputs": [],
   "source": [
    "\n",
    "# Demo using surface anchors for surfaces\n",
    "\n",
    "lens_radius = 60. # lens radius in mm\n",
    "shape = tlm.CircularArc(lens_radius, nn.Parameter(torch.tensor(200.)))\n",
    "\n",
    "optics = tlm.OpticalSequence(\n",
    "    tlm.PointSourceAtInfinity(beam_diameter=0.9*lens_radius),\n",
    "    tlm.Gap(20.),\n",
    "    \n",
    "    tlm.RefractiveSurface(shape, (1.0, 1.49), anchors=(\"origin\", \"extent\")),\n",
    "    tlm.Gap(0.1),\n",
    "    tlm.RefractiveSurface(shape, (1.49, 1.0), scale=-1, anchors=(\"extent\", \"origin\")),\n",
    "\n",
    "    tlm.Gap(0.1),\n",
    "    \n",
    "    tlm.RefractiveSurface(shape, (1.0, 1.49), anchors=(\"origin\", \"extent\")),\n",
    "    tlm.Gap(0.1),\n",
    "    tlm.RefractiveSurface(shape, (1.49, 1.0), scale=-1, anchors=(\"extent\", \"origin\")),\n",
    "    \n",
    "    tlm.Gap(200.0), # focal length\n",
    "    tlm.FocalPoint(),\n",
    ")\n",
    "\n",
    "tlm.render_plt(optics)\n",
    "\n",
    "# Manually register parameters because we're not using tlm.Module\n",
    "for n, p in shape.parameters().items():\n",
    "    optics.register_parameter(n, p)\n",
    "\n",
    "tlm.optimize(\n",
    "    optics,\n",
    "    optimizer = optim.Adam(optics.parameters(), lr=1e-3),\n",
    "    sampling = {\"rays\": 10},\n",
    "    num_iter = 150\n",
    ")\n",
    "\n",
    "tlm.render_plt(optics)"
   ]
  },
  {
   "cell_type": "code",
   "execution_count": null,
   "id": "3",
   "metadata": {},
   "outputs": [],
   "source": []
  }
 ],
 "metadata": {
  "kernelspec": {
   "display_name": "Python 3 (ipykernel)",
   "language": "python",
   "name": "python3"
  },
  "language_info": {
   "codemirror_mode": {
    "name": "ipython",
    "version": 3
   },
   "file_extension": ".py",
   "mimetype": "text/x-python",
   "name": "python",
   "nbconvert_exporter": "python",
   "pygments_lexer": "ipython3",
   "version": "3.12.3"
  }
 },
 "nbformat": 4,
 "nbformat_minor": 5
}
