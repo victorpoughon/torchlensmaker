{
 "cells": [
  {
   "cell_type": "markdown",
   "id": "0",
   "metadata": {},
   "source": [
    "# Biconcave Diverging Lens"
   ]
  },
  {
   "cell_type": "markdown",
   "id": "1",
   "metadata": {},
   "source": [
    "Let's design a simple diverging lens using two concave surfaces, aka a biconcave lens.\n",
    "\n",
    "The only difference with a converging lens is actually that the focal length is negative. Is is behind the lens in the sense that rays don't actually converge on the focal point, but they spread out and appear to come from the focal point. If you extend the outgoing rays in the negative direction, they will cross at the focal point."
   ]
  },
  {
   "cell_type": "code",
   "execution_count": null,
   "id": "2",
   "metadata": {},
   "outputs": [],
   "source": [
    "import torch\n",
    "import torch.nn as nn\n",
    "import torch.optim as optim\n",
    "\n",
    "import torchlensmaker as tlm\n",
    "\n",
    "\n",
    "class Optics(tlm.Module):\n",
    "    def __init__(self):\n",
    "        super().__init__()\n",
    "\n",
    "        # A simple parabolic shape for both surfaces\n",
    "        # Wrap it in a nn.Parameter to enable optimization\n",
    "        self.shape = tlm.Parabola(height=20., a=nn.Parameter(torch.tensor(0.005)))\n",
    "\n",
    "        # Symmetric lens sharing the same mirrored shape for both surfaces\n",
    "        # We set the inner thickness because we know that the lens will be biconcave\n",
    "        # and therefore the outer thickness will be greater\n",
    "        self.lens = tlm.SymmetricLens(self.shape, (1.0, 1.49), inner_thickness=1.0)\n",
    "\n",
    "        # Setup the optical stack with a simple parallel light source and negative focal point\n",
    "        self.optics = tlm.OpticalSequence(\n",
    "            tlm.PointSourceAtInfinity(beam_diameter=15),\n",
    "            tlm.Gap(10.), \n",
    "            self.lens,\n",
    "            tlm.Gap(-25.0),\n",
    "            tlm.FocalPoint(),\n",
    "        )\n",
    "\n",
    "    def forward(self, inputs, sampling):\n",
    "        return self.optics(inputs, sampling)\n",
    "\n",
    "# Instanciate the optical stack\n",
    "optics = Optics()\n",
    "\n",
    "# Render it using the matplotlib renderer\n",
    "tlm.render_plt(optics)\n",
    "\n",
    "# Optimize the parameters, here only the shape's parabolic coefficient\n",
    "tlm.optimize(\n",
    "    optics,\n",
    "    optimizer = optim.Adam(optics.parameters(), lr=1e-3),\n",
    "    sampling = {\"rays\": 10},\n",
    "    num_iter = 100\n",
    ")\n",
    "\n",
    "# Render again after optimization\n",
    "tlm.render_plt(optics)"
   ]
  },
  {
   "cell_type": "code",
   "execution_count": null,
   "id": "3",
   "metadata": {},
   "outputs": [],
   "source": [
    "from IPython.display import display\n",
    "import build123d as bd\n",
    "\n",
    "part = tlm.lens_to_part(optics.lens)\n",
    "display(part)\n",
    "\n",
    "print(\"Outer thickness:\", optics.lens.outer_thickness().item())\n",
    "print(\"Inner thickness:\", optics.lens.inner_thickness().item())\n",
    "\n",
    "# bd.export_step(part, \"lens.step\")"
   ]
  },
  {
   "cell_type": "code",
   "execution_count": null,
   "id": "4",
   "metadata": {},
   "outputs": [],
   "source": []
  }
 ],
 "metadata": {
  "kernelspec": {
   "display_name": "Python 3 (ipykernel)",
   "language": "python",
   "name": "python3"
  },
  "language_info": {
   "codemirror_mode": {
    "name": "ipython",
    "version": 3
   },
   "file_extension": ".py",
   "mimetype": "text/x-python",
   "name": "python",
   "nbconvert_exporter": "python",
   "pygments_lexer": "ipython3",
   "version": "3.12.3"
  }
 },
 "nbformat": 4,
 "nbformat_minor": 5
}
