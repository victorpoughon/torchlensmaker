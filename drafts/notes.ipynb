{
 "cells": [
  {
   "cell_type": "markdown",
   "id": "069238c4-97c4-4519-82a7-19e56be5303e",
   "metadata": {},
   "source": [
    "## Code structure\n",
    "\n",
    "- Define an optical stack sequentially\n",
    "- If all shapes are symmetric, 2D mode can be done\n",
    "- Raytrace (2D, 3D)\n",
    "\n",
    "\n",
    "Layer 1: Optical elements: process rays in forward() Layer 2: Surfaces: Freeform\n",
    "(3D only), revolution (3D or 2D) Layer 3: 2D shapes to use as base for surfaces\n",
    "of revolution\n",
    "\n",
    "Support full position / rotation: in 3D: of course that's the point of 3D in 2D:\n",
    "    no physical sense for some configuration, but technically possible.\n",
    "    Generalization to 3D is not immediate for non symmetrical 2D systems\n",
    "\n",
    "\n",
    "Shapes are 2D curves that can also be used as 3D surfaces of revolution, they\n",
    "provide:\n",
    "\n",
    "plane: (x, r) with x principal axis, r meridional axis\n",
    "\n",
    "2D surface interface: - domain r - samples2D - f(x,r) - grad f - intersect2d\n",
    "\n",
    "3D surface interface: - domain x,z - samples 3D - is revolution (to enable lathe\n",
    "    for rendering) - intersect3d - F - grad F\n",
    "\n",
    "\n",
    "Bezier and more complex shapes: - can be fit into the implicit forms:\n",
    "    https://scholarsarchive.byu.edu/cgi/viewcontent.cgi?article=1000&context=facpub\n",
    "or https://www.shadertoy.com/view/7d2czm\n",
    "\n",
    "Free form B-spline: see diff optics supplemental paper\n",
    "\n",
    "Shape of revolution that support both 3D and 2D:\n",
    "* Plane\n",
    "* Sphere\n",
    "* Parabola\n",
    "* Polyline / Linear spline\n",
    "* Bezier spline -> splines can have different version wheter knots position is\n",
    "free or fixed -> splines have some constraints on control points position for\n",
    "smoothness\n",
    "* Asphere\n",
    "\n",
    "Freeform surfaces\n",
    "\n",
    "## How to make bezier 3D by revolution\n",
    "\n",
    "1. fix control points so that t -> x mapping is linear and easily inverted\n",
    "2. implicitize bezier, see Computer Aided Geometric Design, section 17.\n",
    "\n",
    "\n"
   ]
  },
  {
   "cell_type": "code",
   "execution_count": null,
   "id": "0394f204-e5b8-456f-991b-df5029055476",
   "metadata": {},
   "outputs": [],
   "source": []
  }
 ],
 "metadata": {
  "kernelspec": {
   "display_name": "Python 3 (ipykernel)",
   "language": "python",
   "name": "python3"
  },
  "language_info": {
   "codemirror_mode": {
    "name": "ipython",
    "version": 3
   },
   "file_extension": ".py",
   "mimetype": "text/x-python",
   "name": "python",
   "nbconvert_exporter": "python",
   "pygments_lexer": "ipython3",
   "version": "3.12.3"
  }
 },
 "nbformat": 4,
 "nbformat_minor": 5
}
