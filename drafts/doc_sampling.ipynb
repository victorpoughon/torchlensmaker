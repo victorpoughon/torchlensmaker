{
 "cells": [
  {
   "cell_type": "markdown",
   "id": "e5bbc9bd-a8a8-418a-9b2a-f77f9b2284cf",
   "metadata": {},
   "source": [
    "## Sampling dimensions\n",
    "\n",
    "An optical systems is defined with a model that represents a physical reality where there are infinitely many rays of light emanating from light sources.\n",
    "\n",
    "In practice, when simulating, we need to decide how many rays we use for computation. This is called **sampling** and the number of rays is also called the number of samples.\n",
    "\n",
    "This is not to say that rays exist for all possible values for the ray variables. Sometimes they follow a particular distribution, like wavelength can be between 400 and 600nm only ; angular distribution can be restricted to [-10, 10]°, and so on. But those distributions are continuous, and infinitly many rays can follow them.\n",
    "\n",
    "A system defines multiple dimensions, corresponding to different continuous variables that uniquely describe a ray. For example, the coordinate of the source point of a ray is one possible dimension. Another one is the wavelength of the ray.\n",
    "\n",
    "* Base dimension: This dimension is always present unless we simulate a single ray. It's the dimension along which we sample when all other variables are fixed.\n",
    "\n",
    "-> rename to angular? at infinity angular becomes linear, but really it's still the emanating angle of the ray from the object\n",
    "\n",
    "can actually not exist if simulating a single ray\n",
    "  \n",
    "* Object dimension\n",
    "* Wavelength dimension\n",
    "* System configuration\n",
    "\n",
    "Additionally, the number of spatial dimension can also be 2 or 3. When doing a 2D simulation, rays are restricted to a single meridional plane and don't have a z coordinate. This simplifies the simulation considerably, but at the price of ignoring skew rays.\n",
    "\n",
    "Note that the meridional plane in the 2D simulation is abstract and not necessarily the Z=0 plane. If the system is not rotationally symmetric, 2D mode is not possible."
   ]
  },
  {
   "cell_type": "code",
   "execution_count": null,
   "id": "d74c71e9-f5e8-4108-b19e-77e354d57e77",
   "metadata": {},
   "outputs": [],
   "source": []
  }
 ],
 "metadata": {
  "kernelspec": {
   "display_name": "Python 3 (ipykernel)",
   "language": "python",
   "name": "python3"
  },
  "language_info": {
   "codemirror_mode": {
    "name": "ipython",
    "version": 3
   },
   "file_extension": ".py",
   "mimetype": "text/x-python",
   "name": "python",
   "nbconvert_exporter": "python",
   "pygments_lexer": "ipython3",
   "version": "3.12.3"
  }
 },
 "nbformat": 4,
 "nbformat_minor": 5
}
