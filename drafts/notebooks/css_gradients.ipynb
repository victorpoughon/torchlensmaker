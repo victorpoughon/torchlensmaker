{
 "cells": [
  {
   "cell_type": "markdown",
   "id": "e5a4e098-ed40-49f5-9d99-6a76f7683037",
   "metadata": {},
   "source": [
    "# Color maps to CSS gradients"
   ]
  },
  {
   "cell_type": "markdown",
   "id": "3e9418e3-3079-49a6-bf96-606ed033ab25",
   "metadata": {},
   "source": [
    "Colormaps are functions that map from `[0, 1]` to colors. I love colormaps! Maybe a little too much? There is a huge amount of [very serious color science](https://colorcet.com) behind colormaps, and also a great Python package called [colorcet](https://github.com/holoviz/colorcet) which implements a lot of them.\n",
    "\n",
    "Would you ever need those as a CSS gradient? Probably not. Did I have fun writing a script to convert every 120 of them to a CSS gradient? Absolutely! Enjoy 😁\n",
    "\n",
    "> Note that these sample the actual colormap at N=101 points, and then your browser does [linear interpolation](https://developer.mozilla.org/en-US/docs/Web/CSS/color-interpolation-method) to fill in the gaps. The actual colormaps are [255-entry tables](https://matplotlib.org/stable/api/_as_gen/matplotlib.colors.LinearSegmentedColormap.html). So not only is this horribly inefficient by using very verbose CSS syntax, it's also destroying a lot of the original colormap's information. This is just for fun, use the original data for anything serious.\n",
    "\n",
    "> Also, I excluded the categorical colormaps because they don't really make sense as a gradient."
   ]
  },
  {
   "cell_type": "code",
   "execution_count": 28,
   "id": "0b249c4a-d901-478d-9b73-98bfa5031b53",
   "metadata": {},
   "outputs": [
    {
     "name": "stdout",
     "output_type": "stream",
     "text": [
      "{<class 'matplotlib.colors.LinearSegmentedColormap'>, <class 'matplotlib.colors.ListedColormap'>}\n",
      "{<class 'matplotlib.colors.LinearSegmentedColormap'>, <class 'matplotlib.colors.ListedColormap'>}\n"
     ]
    }
   ],
   "source": [
    "a = cc.cm.CET_R4\n",
    "b = mpl.colormaps[\"cet_CET_R4\"]\n",
    "\n",
    "print(set([type(c) for c in cc.cm.values()]))\n",
    "print(set([type(c) for c in mpl.colormaps.values()]))"
   ]
  },
  {
   "cell_type": "code",
   "execution_count": 1,
   "id": "c56c5527-0bc2-4b6a-a4e0-6585ba04ae47",
   "metadata": {},
   "outputs": [
    {
     "name": "stdout",
     "output_type": "stream",
     "text": [
      "matplotlib version 3.9.4\n",
      "colorcet version 3.1.0\n",
      "397\n",
      "397\n"
     ]
    }
   ],
   "source": [
    "import matplotlib as mpl\n",
    "import colorcet as cc\n",
    "\n",
    "from collections import defaultdict\n",
    "\n",
    "print(\"matplotlib version\", mpl.__version__)\n",
    "print(\"colorcet version\", cc.__version__)\n",
    "\n",
    "all_cmaps = {}\n",
    "other_names = defaultdict(set)\n",
    "\n",
    "def allowed(names):\n",
    "    for n in names:\n",
    "        if n.endswith(\"_r\"):\n",
    "            return False\n",
    "        if \"glasbey\" in n:\n",
    "            return False\n",
    "    return True\n",
    "\n",
    "for name, cmap in cc.cm.items():\n",
    "    if allowed([name, cmap.name]):\n",
    "        all_cmaps[cmap.name] = cmap\n",
    "        other_names[cmap.name].update([name, cmap.name])\n",
    "\n",
    "for name, cmap in mpl.colormaps.items():\n",
    "    if allowed([name, cmap.name]):\n",
    "        all_cmaps[cmap.name] = cmap\n",
    "        other_names[cmap.name].update([name, cmap.name])\n",
    "\n",
    "print(len(all_cmaps))\n",
    "print(len(other_names))"
   ]
  },
  {
   "cell_type": "code",
   "execution_count": 5,
   "id": "d9dc4dc1-9c13-405f-bb6e-77d81fcf1fe9",
   "metadata": {},
   "outputs": [],
   "source": [
    "import matplotlib as mpl\n",
    "import colorcet as cc\n",
    "import numpy as np\n",
    "from IPython.display import display, HTML\n",
    "\n",
    "\n",
    "def background_css(cmap, N):\n",
    "    N = 101\n",
    "    \n",
    "    def pl(v):\n",
    "        return map(int, np.round(np.array(cmap(v))*255))\n",
    "    \n",
    "    space = np.linspace(0, 1, N)\n",
    "    domain = np.linspace(0, 1, N)\n",
    "    \n",
    "    s = \"background: linear-gradient(90deg, \"\n",
    "    for i, j in zip(space, domain):\n",
    "        r, g, b, a = pl(i)\n",
    "        hex_str = \"#{:02x}{:02x}{:02x}\".format(r,g,b)\n",
    "        s += f\"{hex_str} {round(100*j)}%, \"\n",
    "\n",
    "    s = s[:-2]\n",
    "    s += \");\"\n",
    "\n",
    "    return s\n",
    "\n",
    "html_template = '<div class=\"gradient\" style=\"{}\"></div>'\n",
    "\n",
    "total_md = \"\"\"\n",
    "<style>\n",
    "div.gradient {\n",
    "    width: 650px;\n",
    "    height: 60px;\n",
    "    border-radius: 3px;\n",
    "    margin-bottom: 10px;\n",
    "    box-shadow: 5px 5px 5px rgb(0, 0, 0, 0.5);\n",
    "    margin: 0 auto;\n",
    "}\n",
    "pre {\n",
    "max-width: 600px;\n",
    "}\n",
    "</style>\n",
    "\n",
    "\"\"\"\n",
    "\n",
    "for name, cmap in sorted(all_cmaps.items()):\n",
    "    names = list(sorted(other_names[name]))\n",
    "\n",
    "    css = background_css(cmap, N=6)\n",
    "    html = html_template.format(css)\n",
    "    total_md += f'\\n## {\" / \".join(names)}\\n'\n",
    "    total_md += f'\\n{html}\\n'\n",
    "    #total_md += f'\\n```\\n{css}\\n```\\n'\n",
    "\n",
    "with open(\"css_gradients.md\", \"w\") as f:\n",
    "    f.write(total_md)\n",
    "\n",
    "\n"
   ]
  },
  {
   "cell_type": "code",
   "execution_count": null,
   "id": "96ccb2c2-a928-43f9-a8fc-c07d325c688b",
   "metadata": {},
   "outputs": [],
   "source": []
  }
 ],
 "metadata": {
  "kernelspec": {
   "display_name": "Python 3 (ipykernel)",
   "language": "python",
   "name": "python3"
  },
  "language_info": {
   "codemirror_mode": {
    "name": "ipython",
    "version": 3
   },
   "file_extension": ".py",
   "mimetype": "text/x-python",
   "name": "python",
   "nbconvert_exporter": "python",
   "pygments_lexer": "ipython3",
   "version": "3.12.3"
  }
 },
 "nbformat": 4,
 "nbformat_minor": 5
}
