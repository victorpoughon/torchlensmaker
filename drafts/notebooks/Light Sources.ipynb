{
 "cells": [
  {
   "cell_type": "markdown",
   "id": "0",
   "metadata": {},
   "source": [
    "# Light sources"
   ]
  },
  {
   "cell_type": "markdown",
   "id": "1",
   "metadata": {},
   "source": [
    "## Point Source"
   ]
  },
  {
   "cell_type": "code",
   "execution_count": null,
   "id": "2",
   "metadata": {},
   "outputs": [],
   "source": [
    "import torchlensmaker as tlm\n",
    "\n",
    "shape = tlm.CircularArc(height = 10., r = 12)\n",
    "lens = tlm.SymmetricLens(shape, (1.0, 1.5), outer_thickness=1.0)\n",
    "\n",
    "optics = tlm.OpticalSequence(\n",
    "    tlm.PointSource(height=0, beam_angle=25),\n",
    "    tlm.Gap(20),\n",
    "    lens,\n",
    "    tlm.Gap(25),\n",
    "    tlm.FocalPoint(),\n",
    ")\n",
    "\n",
    "tlm.render_plt(optics)"
   ]
  },
  {
   "cell_type": "markdown",
   "id": "3",
   "metadata": {},
   "source": [
    "## Multiple Point Sources"
   ]
  },
  {
   "cell_type": "code",
   "execution_count": null,
   "id": "4",
   "metadata": {},
   "outputs": [],
   "source": [
    "import torchlensmaker as tlm\n",
    "\n",
    "shape = tlm.CircularArc(height = 10., r = 20)\n",
    "lens = tlm.SymmetricLens(shape, (1.0, 1.5), outer_thickness=1.0)\n",
    "\n",
    "optics = tlm.OpticalSequence(\n",
    "    tlm.PointSource(height=0, beam_angle=25),\n",
    "    tlm.PointSource(height=1, beam_angle=25),\n",
    "    tlm.PointSource(height=2, beam_angle=25),\n",
    "    tlm.Gap(20),\n",
    "    lens,\n",
    "    tlm.Gap(25),\n",
    "    tlm.FocalPoint(),\n",
    ")\n",
    "\n",
    "tlm.render_plt(optics)"
   ]
  },
  {
   "cell_type": "markdown",
   "id": "5",
   "metadata": {},
   "source": [
    "## Point source at infinity"
   ]
  },
  {
   "cell_type": "code",
   "execution_count": null,
   "id": "6",
   "metadata": {},
   "outputs": [],
   "source": [
    "import torchlensmaker as tlm\n",
    "\n",
    "shape = tlm.CircularArc(height = 10., r = 20)\n",
    "lens = tlm.SymmetricLens(shape, (1.0, 1.5), outer_thickness=1.0)\n",
    "\n",
    "optics = tlm.OpticalSequence(\n",
    "    tlm.PointSourceAtInfinity(angle=5., beam_diameter=10),\n",
    "    tlm.Gap(5),\n",
    "    lens,\n",
    "    tlm.Gap(15),\n",
    "    tlm.FocalPoint(),\n",
    ")\n",
    "\n",
    "tlm.render_plt(optics)"
   ]
  },
  {
   "cell_type": "markdown",
   "id": "7",
   "metadata": {},
   "source": [
    "## Multiple point sources at infinity"
   ]
  },
  {
   "cell_type": "code",
   "execution_count": null,
   "id": "8",
   "metadata": {},
   "outputs": [],
   "source": [
    "import torchlensmaker as tlm\n",
    "\n",
    "shape = tlm.CircularArc(height = 10., r = 23)\n",
    "lens = tlm.SymmetricLens(shape, (1.0, 1.5), outer_thickness=1.0)\n",
    "\n",
    "optics = tlm.OpticalSequence(\n",
    "    tlm.PointSourceAtInfinity(angle=5, beam_diameter=10),\n",
    "    tlm.PointSourceAtInfinity(angle=0, beam_diameter=10),\n",
    "    tlm.PointSourceAtInfinity(angle=-5, beam_diameter=10),\n",
    "    tlm.Gap(5),\n",
    "    lens,\n",
    "    tlm.Gap(15),\n",
    "    tlm.FocalPoint(),\n",
    ")\n",
    "\n",
    "tlm.render_plt(optics)"
   ]
  },
  {
   "cell_type": "markdown",
   "id": "9",
   "metadata": {},
   "source": [
    "## Object at infinity"
   ]
  },
  {
   "cell_type": "code",
   "execution_count": null,
   "id": "10",
   "metadata": {},
   "outputs": [],
   "source": [
    "import torchlensmaker as tlm\n",
    "\n",
    "shape = tlm.CircularArc(height = 10., r = 23)\n",
    "lens = tlm.SymmetricLens(shape, (1.0, 1.5), outer_thickness=1.0)\n",
    "\n",
    "optics = tlm.OpticalSequence(\n",
    "    tlm.ObjectAtInfinity(beam_diameter=10, angular_size=10),\n",
    "    tlm.Gap(5),\n",
    "    lens,\n",
    "    tlm.Gap(22),\n",
    "    tlm.FocalPoint(),\n",
    ")\n",
    "\n",
    "tlm.render_plt(optics, color_dim=\"object\")\n",
    "\n",
    "output = optics(tlm.default_input, sampling={\"rays\": 5, \"object\": 2})\n",
    "# TODO off by one error in total number of rays here\n",
    "\n"
   ]
  },
  {
   "cell_type": "code",
   "execution_count": null,
   "id": "11",
   "metadata": {},
   "outputs": [],
   "source": [
    "# TODO make this correctly render\n",
    "\n",
    "import torchlensmaker as tlm\n",
    "\n",
    "optics = tlm.OpticalSequence(\n",
    "    tlm.PointSource(height=0, beam_angle=25),\n",
    ")\n",
    "\n",
    "tlm.render_plt(optics)"
   ]
  },
  {
   "cell_type": "code",
   "execution_count": null,
   "id": "12",
   "metadata": {},
   "outputs": [],
   "source": []
  }
 ],
 "metadata": {
  "kernelspec": {
   "display_name": "Python 3 (ipykernel)",
   "language": "python",
   "name": "python3"
  },
  "language_info": {
   "codemirror_mode": {
    "name": "ipython",
    "version": 3
   },
   "file_extension": ".py",
   "mimetype": "text/x-python",
   "name": "python",
   "nbconvert_exporter": "python",
   "pygments_lexer": "ipython3",
   "version": "3.12.3"
  }
 },
 "nbformat": 4,
 "nbformat_minor": 5
}
