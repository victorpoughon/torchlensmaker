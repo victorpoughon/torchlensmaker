{
 "cells": [
  {
   "cell_type": "code",
   "execution_count": null,
   "id": "b563c63e-17fe-4d89-b86c-b6d87ec3451e",
   "metadata": {},
   "outputs": [],
   "source": [
    "## README example1\n",
    "\n",
    "import torchlensmaker as tlm\n",
    "\n",
    "shape = tlm.CircularArc(height=60., r=70.)\n",
    "\n",
    "optics = tlm.OpticalSequence(\n",
    "    tlm.ObjectAtInfinity(beam_diameter=40, angular_size=15),\n",
    "    tlm.Gap(10.),\n",
    "    tlm.SymmetricLens(shape, (1.0, 1.5), outer_thickness=5.),\n",
    "    tlm.Gap(60.0),\n",
    "    tlm.Image(height=10),\n",
    ")\n",
    "\n",
    "tlm.render_plt(optics, sampling={\"rays\": 30, \"object\": 5}, color_dim=\"object\")"
   ]
  }
 ],
 "metadata": {
  "kernelspec": {
   "display_name": "Python 3 (ipykernel)",
   "language": "python",
   "name": "python3"
  },
  "language_info": {
   "codemirror_mode": {
    "name": "ipython",
    "version": 3
   },
   "file_extension": ".py",
   "mimetype": "text/x-python",
   "name": "python",
   "nbconvert_exporter": "python",
   "pygments_lexer": "ipython3",
   "version": "3.12.3"
  }
 },
 "nbformat": 4,
 "nbformat_minor": 5
}
