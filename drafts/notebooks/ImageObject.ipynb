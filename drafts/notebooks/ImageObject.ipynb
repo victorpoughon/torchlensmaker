{
 "cells": [
  {
   "cell_type": "markdown",
   "id": "0",
   "metadata": {},
   "source": [
    "# Dev noteboook - images\n",
    "\n",
    "SourceDiffuse\n",
    "    A diffuse light source that's not an object\n",
    "    angular power function\n",
    "    emits rays that are not associated with an object source\n",
    "\n",
    "BeamLoss:\n",
    "    Loss function for a beam of light spread,\n",
    "    usefull to minimize beam spread"
   ]
  },
  {
   "cell_type": "code",
   "execution_count": null,
   "id": "1",
   "metadata": {},
   "outputs": [],
   "source": [
    "import torch\n",
    "import torch.optim as optim\n",
    "import torchlensmaker as tlm\n",
    "\n",
    "\n",
    "class Optics(tlm.Module):\n",
    "    def __init__(self):\n",
    "        super().__init__()\n",
    "        \n",
    "        self.shape1 = tlm.CircularArc(height=60., r=tlm.Parameter(torch.tensor(120.)))\n",
    "        self.shape2 = tlm.CircularArc(height=50., r=tlm.Parameter(torch.tensor(150.)))\n",
    "\n",
    "        self.optics = tlm.OpticalSequence(\n",
    "            tlm.ObjectAtInfinity(beam_diameter=40, angular_size=15),\n",
    "            tlm.Gap(10.),\n",
    "            tlm.Aperture(height=60, diameter=35),\n",
    "            tlm.Gap(1.),\n",
    "            tlm.SymmetricLens(self.shape1, n=(1.0, 1.5), outer_thickness=5.),\n",
    "            tlm.Gap(1.),\n",
    "            tlm.PlanoLens(self.shape2, n=(1.0, 1.5), outer_thickness=5.),\n",
    "            tlm.Gap(60.0),\n",
    "            tlm.Image(height=20),\n",
    "        )\n",
    "\n",
    "    def forward(self, inputs, sampling):\n",
    "        return self.optics.forward(inputs, sampling)\n",
    "\n",
    "\n",
    "optics = Optics()\n",
    "\n",
    "tlm.render_plt(optics, sampling={\"rays\": 25, \"object\": 5}, color_dim=\"object\")\n",
    "\n",
    "output = optics(tlm.default_input, sampling={\"rays\": 10, \"object\": 3})\n",
    "print(\"loss = \", output.loss.item())\n",
    "\n",
    "tlm.optimize(\n",
    "    optics,\n",
    "    optimizer = optim.Adam(optics.parameters(), lr=1e-4),\n",
    "    sampling = {\"rays\": 10, \"object\": 5},\n",
    "    num_iter = 200,\n",
    ")\n",
    "\n",
    "tlm.render_plt(optics, sampling={\"rays\": 25, \"object\": 5}, color_dim=\"object\")\n"
   ]
  },
  {
   "cell_type": "code",
   "execution_count": null,
   "id": "3",
   "metadata": {},
   "outputs": [],
   "source": []
  }
 ],
 "metadata": {
  "kernelspec": {
   "display_name": "Python 3 (ipykernel)",
   "language": "python",
   "name": "python3"
  },
  "language_info": {
   "codemirror_mode": {
    "name": "ipython",
    "version": 3
   },
   "file_extension": ".py",
   "mimetype": "text/x-python",
   "name": "python",
   "nbconvert_exporter": "python",
   "pygments_lexer": "ipython3",
   "version": "3.12.3"
  }
 },
 "nbformat": 4,
 "nbformat_minor": 5
}
