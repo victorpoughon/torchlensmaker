{
 "cells": [
  {
   "cell_type": "markdown",
   "id": "0",
   "metadata": {},
   "source": [
    "# Simple lenses"
   ]
  },
  {
   "cell_type": "markdown",
   "id": "1",
   "metadata": {},
   "source": [
    "An overview of simple lenses - also called \"singlet\" lenses. A simple lens is made of two refractive surfaces."
   ]
  },
  {
   "cell_type": "markdown",
   "id": "2",
   "metadata": {},
   "source": [
    "## Biconvex Spherical"
   ]
  },
  {
   "cell_type": "code",
   "execution_count": null,
   "id": "3",
   "metadata": {},
   "outputs": [],
   "source": [
    "import torchlensmaker as tlm\n",
    "\n",
    "lens = tlm.SymmetricLens(\n",
    "    tlm.CircularArc(height=10, r=20), (1.0, 1.5), outer_thickness=0.5\n",
    ")\n",
    "\n",
    "optics = tlm.OpticalSequence(\n",
    "    tlm.PointSourceAtInfinity(beam_diameter=8),\n",
    "    tlm.Gap(5),\n",
    "    lens,\n",
    ")\n",
    "\n",
    "tlm.render_plt(optics, end=30)"
   ]
  },
  {
   "cell_type": "code",
   "execution_count": null,
   "id": "4",
   "metadata": {},
   "outputs": [],
   "source": [
    "from IPython.display import display\n",
    "\n",
    "display(tlm.lens_to_part(lens))"
   ]
  },
  {
   "cell_type": "markdown",
   "id": "5",
   "metadata": {},
   "source": [
    "## Biconvex Parabolic"
   ]
  },
  {
   "cell_type": "code",
   "execution_count": null,
   "id": "6",
   "metadata": {},
   "outputs": [],
   "source": [
    "import torchlensmaker as tlm\n",
    "\n",
    "lens = tlm.SymmetricLens(\n",
    "    tlm.Parabola(height=10, A=0.03), (1.0, 1.5), outer_thickness=0.5\n",
    ")\n",
    "\n",
    "optics = tlm.OpticalSequence(\n",
    "    tlm.PointSourceAtInfinity(beam_diameter=8),\n",
    "    tlm.Gap(5),\n",
    "    lens,\n",
    ")\n",
    "\n",
    "tlm.render_plt(optics, end=30)"
   ]
  },
  {
   "cell_type": "code",
   "execution_count": null,
   "id": "7",
   "metadata": {},
   "outputs": [],
   "source": [
    "from IPython.display import display\n",
    "\n",
    "display(tlm.lens_to_part(lens))"
   ]
  },
  {
   "cell_type": "markdown",
   "id": "8",
   "metadata": {},
   "source": [
    "## Biconvex Bezier Spline"
   ]
  },
  {
   "cell_type": "code",
   "execution_count": null,
   "id": "9",
   "metadata": {},
   "outputs": [],
   "source": [
    "import torchlensmaker as tlm\n",
    "\n",
    "shape = tlm.BezierSpline(height=30, X=[2.11], CX=[3.35], CY=[4.91, 19.54])\n",
    "\n",
    "lens = tlm.SymmetricLens(shape, (1.0, 1.5), outer_thickness=0.5)\n",
    "\n",
    "optics = tlm.OpticalSequence(\n",
    "    tlm.PointSourceAtInfinity(beam_diameter=20),\n",
    "    tlm.Gap(5),\n",
    "    lens,\n",
    ")\n",
    "\n",
    "tlm.render_plt(optics, end=65)"
   ]
  },
  {
   "cell_type": "markdown",
   "id": "10",
   "metadata": {},
   "source": [
    "## Biconcave spherical (diverging lens)"
   ]
  },
  {
   "cell_type": "code",
   "execution_count": null,
   "id": "11",
   "metadata": {},
   "outputs": [],
   "source": [
    "import torchlensmaker as tlm\n",
    "\n",
    "# The shape given to SymmetricLens is the first surface.\n",
    "# The second surface is mirrored by its Y axis.\n",
    "# Hence to make a diverging lens, r is negative here\n",
    "# Note we also use inner_thickness to specify the lens thickness\n",
    "# because the inner thickness is smallest in a diverging lens.\n",
    "lens = tlm.SymmetricLens(\n",
    "    tlm.CircularArc(height=10, r=-18), (1.0, 1.5), inner_thickness=0.5\n",
    ")\n",
    "\n",
    "optics = tlm.OpticalSequence(\n",
    "    tlm.PointSourceAtInfinity(beam_diameter=8),\n",
    "    tlm.Gap(5),\n",
    "    lens,\n",
    ")\n",
    "\n",
    "tlm.render_plt(optics, end=20)"
   ]
  },
  {
   "cell_type": "code",
   "execution_count": null,
   "id": "12",
   "metadata": {},
   "outputs": [],
   "source": [
    "from IPython.display import display\n",
    "\n",
    "display(tlm.lens_to_part(lens))"
   ]
  }
 ],
 "metadata": {
  "kernelspec": {
   "display_name": "Python 3 (ipykernel)",
   "language": "python",
   "name": "python3"
  },
  "language_info": {
   "codemirror_mode": {
    "name": "ipython",
    "version": 3
   },
   "file_extension": ".py",
   "mimetype": "text/x-python",
   "name": "python",
   "nbconvert_exporter": "python",
   "pygments_lexer": "ipython3",
   "version": "3.12.3"
  }
 },
 "nbformat": 4,
 "nbformat_minor": 5
}
