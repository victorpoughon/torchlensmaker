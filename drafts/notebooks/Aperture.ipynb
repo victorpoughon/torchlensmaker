{
 "cells": [
  {
   "cell_type": "markdown",
   "id": "0",
   "metadata": {},
   "source": [
    "# Aperture"
   ]
  },
  {
   "cell_type": "code",
   "execution_count": null,
   "id": "1",
   "metadata": {},
   "outputs": [],
   "source": [
    "import torch\n",
    "import torch.nn as nn\n",
    "import torch.optim as optim\n",
    "\n",
    "import torchlensmaker as tlm\n",
    "\n",
    "\n",
    "class Optics(tlm.Module):\n",
    "    def __init__(self):\n",
    "        super().__init__()\n",
    "        self.shape = tlm.Parabola(height=50., a=nn.Parameter(torch.tensor(0.005)))\n",
    "\n",
    "        self.lens = tlm.SymmetricLens(self.shape, (1.0, 1.49), outer_thickness=0.5)\n",
    "\n",
    "        self.optics = tlm.OpticalSequence(\n",
    "            tlm.PointSourceAtInfinity(beam_diameter=50),\n",
    "            tlm.Gap(10.),\n",
    "            \n",
    "            self.lens,\n",
    "\n",
    "            tlm.Gap(10.0),\n",
    "            tlm.Aperture(height=50, diameter=20),\n",
    "            \n",
    "            tlm.Gap(45.0),\n",
    "            tlm.FocalPoint(),\n",
    "        )\n",
    "\n",
    "    def forward(self, inputs, sampling):\n",
    "        return self.optics(inputs, sampling)\n",
    "\n",
    "optics = Optics()\n",
    "\n",
    "tlm.render_plt(optics)\n",
    "\n",
    "tlm.optimize(\n",
    "    optics,\n",
    "    optimizer = optim.Adam(optics.parameters(), lr=1e-3),\n",
    "    sampling = {\"rays\": 10},\n",
    "    num_iter = 100\n",
    ")\n",
    "\n",
    "tlm.render_plt(optics, sampling={\"rays\": 100})"
   ]
  },
  {
   "cell_type": "code",
   "execution_count": null,
   "id": "2",
   "metadata": {},
   "outputs": [],
   "source": []
  }
 ],
 "metadata": {
  "kernelspec": {
   "display_name": "Python 3 (ipykernel)",
   "language": "python",
   "name": "python3"
  },
  "language_info": {
   "codemirror_mode": {
    "name": "ipython",
    "version": 3
   },
   "file_extension": ".py",
   "mimetype": "text/x-python",
   "name": "python",
   "nbconvert_exporter": "python",
   "pygments_lexer": "ipython3",
   "version": "3.12.3"
  }
 },
 "nbformat": 4,
 "nbformat_minor": 5
}
