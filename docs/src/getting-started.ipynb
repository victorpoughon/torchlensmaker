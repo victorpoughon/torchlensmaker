{
 "cells": [
  {
   "cell_type": "markdown",
   "id": "f00be8e0-17af-4cd0-8c9a-f8266b74e5be",
   "metadata": {},
   "source": [
    "# Getting Started\n",
    "\n",
    "Torch Lens Maker is code based. The viewer component, called\n",
    "[tlmviewer](https://github.com/victorpoughon/tlmviewer), but it's only used for\n",
    "interactive visualization, not for inputing any data.\n",
    "\n",
    "In general, the workflow to design an optical system is:\n",
    "\n",
    "* Write some python code that defines an optical model\n",
    "* Sample the model with a discrete number of light rays along each available dimension\n",
    "* Define a loss function and optimize the model parameters\n",
    "* Analyse the resulting model samples\n",
    "\n",
    "## Using Jupyter Notebooks\n",
    "\n",
    "Jupyter notebooks are the prefered way to use Torch Lens Maker. After\n",
    "[installation](/installation), You should be able to run this code in a jupyter\n",
    "environment, and see a biconvex spherical lens:"
   ]
  },
  {
   "cell_type": "code",
   "execution_count": null,
   "id": "ab8063e8-f3ca-45ee-9e59-78c1720731d4",
   "metadata": {},
   "outputs": [],
   "source": [
    "import torchlensmaker as tlm\n",
    "\n",
    "surface = tlm.Sphere(50, 60)\n",
    "optics = tlm.BiLens(surface, material=\"BK7\", outer_thickness=2.0)\n",
    "tlm.show(optics)"
   ]
  },
  {
   "cell_type": "markdown",
   "id": "0cfc3ac9-34b9-454f-9f4c-01b00d6aedd8",
   "metadata": {},
   "source": [
    "## Embedding in HTML\n",
    "\n",
    "Jupyter is not a hard requirement. Code can also be run standalone and produce a\n",
    "JSON formatted dscription of a system, that can be read by tlmviewer in static\n",
    "HTML:"
   ]
  },
  {
   "cell_type": "code",
   "execution_count": null,
   "id": "465fa77b-c35a-4858-9829-10957970d6fc",
   "metadata": {},
   "outputs": [],
   "source": [
    "import torchlensmaker as tlm\n",
    "\n",
    "surface = tlm.Sphere(50, 30)\n",
    "optics = tlm.BiLens(surface, material=\"BK7\", outer_thickness=2.0)\n",
    "tlm.export_json(optics, \"lens.json\")"
   ]
  },
  {
   "cell_type": "markdown",
   "id": "1459d6ec-e2cf-4ab6-86f0-3f7dcad18dbd",
   "metadata": {},
   "source": [
    "And then tlmviewer can be loaded manually in HTML to render the JSON file.\n"
   ]
  }
 ],
 "metadata": {
  "kernelspec": {
   "display_name": "Python 3 (ipykernel)",
   "language": "python",
   "name": "python3"
  },
  "language_info": {
   "codemirror_mode": {
    "name": "ipython",
    "version": 3
   },
   "file_extension": ".py",
   "mimetype": "text/x-python",
   "name": "python",
   "nbconvert_exporter": "python",
   "pygments_lexer": "ipython3",
   "version": "3.12.3"
  }
 },
 "nbformat": 4,
 "nbformat_minor": 5
}
