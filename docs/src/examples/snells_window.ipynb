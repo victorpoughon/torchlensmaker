{
 "cells": [
  {
   "cell_type": "markdown",
   "id": "877ef07f-8236-4587-91dd-163a9448ac50",
   "metadata": {},
   "source": [
    "# Snell's Window"
   ]
  },
  {
   "cell_type": "markdown",
   "id": "e0270e47",
   "metadata": {},
   "source": [
    "Have you ever noticed that when you are underwater and you look at the surface from below, you can see the entire outside world through a narrow cone? This \"window\" is circled by darkness (although if you are in a swimming pool it will often reflect the pool's bottom instead).\n",
    "\n",
    "This is an optical phenomenon known as [Snell's Window](https://en.wikipedia.org/wiki/Snell%27s_window).\n",
    "\n",
    "![Snell's Window](./snells_window.jpeg)\n",
    "\n",
    "*(Photo from Wikipedia)*\n",
    "\n",
    "Let's model it in Torch Lens Maker! It's actually really simple!\n",
    "\n",
    "We start with the optical model definition. Since optics is reversible, we'll switch thing around to simplify. It will be simply:\n",
    "* A point source of light, with a very wide beam angular size. This represents the observer's field of view.\n",
    "* A 2 meter gap, meaning the observer is 2m deep.\n",
    "* A single refractive surface to model the ocean's surface."
   ]
  },
  {
   "cell_type": "code",
   "execution_count": null,
   "id": "a4462ffa-256a-4c8d-864b-2a3e492c4f05",
   "metadata": {},
   "outputs": [],
   "source": [
    "import torchlensmaker as tlm\n",
    "\n",
    "optics = tlm.Sequential(\n",
    "    tlm.PointSource(beam_angular_size=105, material=\"water-nd\"),\n",
    "    tlm.Gap(2),\n",
    "    tlm.RefractiveSurface(tlm.CircularPlane(15), critical_angle=\"reflect\", material=\"air\"),\n",
    ")"
   ]
  },
  {
   "cell_type": "markdown",
   "id": "7b4d8499",
   "metadata": {},
   "source": [
    "Note how we are setting the `critical_angle` property of the refractive surface to `\"reflect\"`. This parameter controls how rays behave when total internal reflection occurs. By default, `RefractiveSurface` will consider those rays \"blocked\" because they are not desired in typical optical system design. But here, total internal reflection is the whole point of Snell's Window! So we enable it with this setting.\n",
    "\n",
    "That's it! We can view the model with tlmviewer, by sampling it along its only dimension: the base dimension. Let's make it 100 rays in 2D, and 2000 in 3D.\n",
    "\n",
    "::: tip Note\n",
    "As always, models don't have a dimension. Their definition is abtract, it's only when sampling that the number of dimensions must be fixed to 2 or 3. Here, our system is rotationally symmetric, so both 2D and 3D are available.\n",
    ":::"
   ]
  },
  {
   "cell_type": "code",
   "execution_count": null,
   "id": "4053112c",
   "metadata": {},
   "outputs": [],
   "source": [
    "tlm.show(optics, dim=2, end=2, sampling={\"base\": 100})\n",
    "tlm.show(optics, dim=3, end=2, sampling={\"base\": 2000})"
   ]
  }
 ],
 "metadata": {
  "kernelspec": {
   "display_name": ".venv",
   "language": "python",
   "name": "python3"
  },
  "language_info": {
   "codemirror_mode": {
    "name": "ipython",
    "version": 3
   },
   "file_extension": ".py",
   "mimetype": "text/x-python",
   "name": "python",
   "nbconvert_exporter": "python",
   "pygments_lexer": "ipython3",
   "version": "3.12.3"
  }
 },
 "nbformat": 4,
 "nbformat_minor": 5
}
