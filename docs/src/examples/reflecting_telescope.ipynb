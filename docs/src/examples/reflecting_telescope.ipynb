{
 "cells": [
  {
   "cell_type": "markdown",
   "id": "0",
   "metadata": {},
   "source": [
    "# Reflecting Telescope"
   ]
  },
  {
   "cell_type": "markdown",
   "id": "0d132b3c",
   "metadata": {},
   "source": [
    "A reflecting telescope, in its basic form, is a very simple design. Two surfaces both reflect light to focus it at a single point.\n",
    "\n",
    "![Newton reflecting Telescope](./newton_reflecting_telescope.jpeg)\n",
    "\n",
    "*Image from Wikipedia*\n",
    "\n",
    "For this example, our telescope will be made of two convace mirrors. To spice things up, we'll say that the primary mirror is parabolic, and the secondary is spherical. Of course this can easily be changed, so feel free to download this notebook and play with it. In this example, we will keep the position of the two mirrors constant, and try to optimize the two mirrors curvatures jointly."
   ]
  },
  {
   "cell_type": "code",
   "execution_count": null,
   "id": "1",
   "metadata": {},
   "outputs": [],
   "source": [
    "import torchlensmaker as tlm\n",
    "\n",
    "primary = tlm.Parabola(35., A=tlm.parameter(-0.0001))\n",
    "secondary = tlm.Sphere(35., R=tlm.parameter(450.0))\n",
    "\n",
    "optics = tlm.Sequential(\n",
    "    tlm.Gap(-100),\n",
    "    tlm.PointSourceAtInfinity(beam_diameter=30),\n",
    "    tlm.Gap(100),\n",
    "    \n",
    "    tlm.ReflectiveSurface(primary),\n",
    "    tlm.Gap(-80),\n",
    "\n",
    "    tlm.ReflectiveSurface(secondary),\n",
    "\n",
    "    tlm.Gap(100),\n",
    "    tlm.FocalPoint(),\n",
    ")\n",
    "\n",
    "tlm.show2d(optics)\n",
    "tlm.show3d(optics)"
   ]
  },
  {
   "cell_type": "markdown",
   "id": "a5309060",
   "metadata": {},
   "source": [
    "Now, as you can see light isn't being focused at all. We have wrapped both surfaces arguments in `tlm.parameter()`. Internally, this creates a `nn.Parameter()` so that PyTorch can optimize them. Let's run a standard Adam optimizer for 100 iterations, with 10 rays samples."
   ]
  },
  {
   "cell_type": "code",
   "execution_count": null,
   "id": "2",
   "metadata": {},
   "outputs": [],
   "source": [
    "import torch.optim as optim\n",
    "\n",
    "tlm.optimize(\n",
    "    optics,\n",
    "    optimizer = optim.Adam(optics.parameters(), lr=3e-4),\n",
    "    sampling = {\"base\": 10},\n",
    "    dim = 2,\n",
    "    num_iter = 100\n",
    ").plot()"
   ]
  },
  {
   "cell_type": "code",
   "execution_count": null,
   "id": "28cbc59a-027b-46a0-9c14-1e32a88972d5",
   "metadata": {},
   "outputs": [],
   "source": [
    "tlm.show(optics, dim=2)\n",
    "tlm.show(optics, dim=3)"
   ]
  },
  {
   "cell_type": "code",
   "execution_count": null,
   "id": "6d33194a-08b6-4f76-9833-24d3e637c328",
   "metadata": {},
   "outputs": [],
   "source": []
  }
 ],
 "metadata": {
  "kernelspec": {
   "display_name": ".venv",
   "language": "python",
   "name": "python3"
  },
  "language_info": {
   "codemirror_mode": {
    "name": "ipython",
    "version": 3
   },
   "file_extension": ".py",
   "mimetype": "text/x-python",
   "name": "python",
   "nbconvert_exporter": "python",
   "pygments_lexer": "ipython3",
   "version": "3.12.3"
  }
 },
 "nbformat": 4,
 "nbformat_minor": 5
}
