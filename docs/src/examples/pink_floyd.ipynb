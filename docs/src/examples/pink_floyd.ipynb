{
 "cells": [
  {
   "cell_type": "markdown",
   "id": "3e3e4209-5cd7-43f5-b9f5-de13f33da8d2",
   "metadata": {},
   "source": [
    "# Pink Floyd"
   ]
  },
  {
   "cell_type": "code",
   "execution_count": null,
   "id": "5d57a18a-3bcd-4e6f-918f-2dbb81ce0594",
   "metadata": {},
   "outputs": [],
   "source": [
    "import torch\n",
    "import torchlensmaker as tlm\n",
    "import math\n",
    "\n",
    "S = 5\n",
    "R = S/2\n",
    "A = 30\n",
    "gamma = 60\n",
    "\n",
    "optics = tlm.Sequential(\n",
    "    tlm.Turn([20, 0]),\n",
    "    tlm.RaySource(material=\"air\"),\n",
    "    tlm.Wavelength(400, 700),\n",
    "    tlm.Gap(10),\n",
    "    tlm.Turn([-20, 0]),\n",
    "    tlm.Rotate(\n",
    "        tlm.RefractiveSurface(tlm.CircularPlane(S), material=\"K5\"),\n",
    "        [-A, 0]),\n",
    "    tlm.Gap(R),\n",
    "    tlm.Rotate(\n",
    "        tlm.RefractiveSurface(tlm.CircularPlane(S), material=\"air\", critical_angle=\"clamp\"),\n",
    "        [A, 0]),\n",
    ")\n",
    "\n",
    "sampling = {\"wavelength\": 10}\n",
    "\n",
    "output = optics(tlm.default_input(dim=2, dtype=torch.float64, sampling=sampling))\n",
    "\n",
    "tlm.show(optics, dim=2, end=10, sampling=sampling, controls={\"output_rays\": \"wavelength\"})\n",
    "tlm.show(optics, dim=3, end=10, sampling=sampling)"
   ]
  },
  {
   "cell_type": "code",
   "execution_count": null,
   "id": "b41c011b-ebd9-450f-a35b-b22195721abe",
   "metadata": {},
   "outputs": [],
   "source": []
  }
 ],
 "metadata": {
  "kernelspec": {
   "display_name": "Python 3 (ipykernel)",
   "language": "python",
   "name": "python3"
  },
  "language_info": {
   "codemirror_mode": {
    "name": "ipython",
    "version": 3
   },
   "file_extension": ".py",
   "mimetype": "text/x-python",
   "name": "python",
   "nbconvert_exporter": "python",
   "pygments_lexer": "ipython3",
   "version": "3.12.3"
  }
 },
 "nbformat": 4,
 "nbformat_minor": 5
}
