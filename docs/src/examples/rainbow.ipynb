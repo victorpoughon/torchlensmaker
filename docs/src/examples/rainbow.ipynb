{
 "cells": [
  {
   "cell_type": "markdown",
   "id": "f06b0282-48f2-4fa0-982d-4fe51dffbe31",
   "metadata": {},
   "source": [
    "# Rainbow"
   ]
  },
  {
   "attachments": {},
   "cell_type": "markdown",
   "id": "dac85540-aee0-4386-a797-4ffe3efc6985",
   "metadata": {},
   "source": [
    "In this example we'll attempt to model what happens inside a circular drop of water during a rainbow. If you're intesrested in that topic, [this Veritasium video](https://www.youtube.com/watch?v=24GfgNtnjXc&t=1057s) on the subject is great! Go check it out.\n",
    "\n",
    "In reality, at each surface boundary, some rays are refracted and some are reflected. However, there is a \"main path\" that consists of three boundaries: refraction, reflection then refraction. This is what forms the first order rainbow phenomenon and we will model only this path here.\n",
    "\n",
    "Thanks to Torch Lens Maker optional 2D or 3D capability, we will be able to reproduce the 2D diagram from Wikipedia shown below, but also simulate the path of light in the full 3D spherical drop of water.\n",
    "\n",
    "![image.png](./Rainbow_single_reflection.png)\n",
    "\n",
    "We'll also be able to more accurately describe the phenomenon because we won't be using the approximation that \"all incoming light rays are parallel\". When we say this about light coming from a very far away object like the sun, we're actually talking about two different approximations:\n",
    "\n",
    "1. Light rays coming from the same point on the object are parallel. This is a totally fair approximation because that angle depends on the distance to the sun. It's only non zero after 10 decimal places or so. So this approximation is fair.\n",
    "\n",
    "2. Light rays coming from different points on the object are parallel. This approximation is a much bigger approximation, because it depends on the apparent angular size of the object. Taking that approximation is equivalent to saying the object has an apparent angular size of zero. This is obviously not true for the sun, which angular size is 0.5° (it's far away, but also huge). So we won't be making that approximation here, and we'll model incident light as having a 0.5° angular distribution (contrary to the diagram above).\n",
    "\n"
   ]
  },
  {
   "cell_type": "code",
   "execution_count": null,
   "id": "89e67755-cff3-4ab7-a36e-5842301c2473",
   "metadata": {},
   "outputs": [],
   "source": [
    "import torchlensmaker as tlm\n",
    "import torch\n",
    "\n",
    "import math\n",
    "\n",
    "# Use half spheres to model interface boundaries\n",
    "radius = 5\n",
    "halfsphere = tlm.SphereR(diameter=2*radius, R=radius)\n",
    "\n",
    "model = tlm.Sequential(\n",
    "    # Position the light source just above the optical axis\n",
    "    tlm.Offset(\n",
    "        tlm.ObjectAtInfinity(10, 0.5),\n",
    "        y=5.001),\n",
    "    tlm.Wavelength(400, 660),\n",
    "    \n",
    "    # Move the droplet of water some distance away from the source\n",
    "    tlm.Gap(50),\n",
    "\n",
    "    # First interface: half sphere (pointing left), refractive air to water\n",
    "    tlm.RefractiveSurface(halfsphere, material=\"water\", anchors=(\"extent\", \"extent\")),\n",
    "    \n",
    "    # Second interface: half sphere (pointing right), reflective\n",
    "    tlm.Rotate(\n",
    "        tlm.ReflectiveSurface(halfsphere, anchors=(\"extent\", \"extent\")),\n",
    "        [-180, 0]),\n",
    "\n",
    "    # Third interface: half sphere (pointing down), refractive water to air\n",
    "    tlm.Rotate(\n",
    "       tlm.RefractiveSurface(halfsphere, material=\"air\", anchors=(\"extent\", \"origin\")),\n",
    "        [60, 0]),\n",
    ")\n",
    "\n",
    "# Use rays opacity and thickness to give some illusion of real color\n",
    "controls = {\"opacity\": 0.05, \"thickness\": 2.1, \"valid_rays\": \"wavelength (true color)\", \"output_rays\": \"wavelength (true color)\"}\n",
    "\n",
    "tlm.show2d(model,\n",
    "           sampling={\"base\": 50, \"object\": 5, \"wavelength\": 10},\n",
    "           end=50,\n",
    "           controls=controls)\n",
    "\n",
    "tlm.show3d(model,\n",
    "           sampling={\"base\": 200, \"object\": 15, \"wavelength\": 10},\n",
    "           end=30,\n",
    "           controls=controls)"
   ]
  },
  {
   "cell_type": "code",
   "execution_count": null,
   "id": "3cbdbadf-2f56-4e42-8b65-fa1f52df5448",
   "metadata": {},
   "outputs": [],
   "source": []
  }
 ],
 "metadata": {
  "kernelspec": {
   "display_name": "Python 3 (ipykernel)",
   "language": "python",
   "name": "python3"
  },
  "language_info": {
   "codemirror_mode": {
    "name": "ipython",
    "version": 3
   },
   "file_extension": ".py",
   "mimetype": "text/x-python",
   "name": "python",
   "nbconvert_exporter": "python",
   "pygments_lexer": "ipython3",
   "version": "3.12.3"
  }
 },
 "nbformat": 4,
 "nbformat_minor": 5
}
