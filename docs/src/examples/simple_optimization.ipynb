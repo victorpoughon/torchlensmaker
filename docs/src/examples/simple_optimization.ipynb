{
 "cells": [
  {
   "cell_type": "markdown",
   "id": "2a01becd-589d-40b7-b821-f5152f468e1f",
   "metadata": {},
   "source": [
    "# Simple lens optimization"
   ]
  },
  {
   "cell_type": "code",
   "execution_count": null,
   "id": "d5c49585-0fcf-49d3-ab41-7842edb2a248",
   "metadata": {},
   "outputs": [],
   "source": [
    "import torchlensmaker as tlm\n",
    "\n",
    "surface = tlm.Sphere(diameter=15, R=tlm.parameter(25))\n",
    "lens = tlm.BiLens(surface, material=\"BK7-nd\", outer_thickness=1.5)\n",
    "\n",
    "optics = tlm.Sequential(\n",
    "    tlm.PointSourceAtInfinity(beam_diameter=18.5),\n",
    "    tlm.Gap(10),\n",
    "    lens,\n",
    "    tlm.Gap(30),\n",
    "    tlm.FocalPoint(),\n",
    ")\n",
    "\n",
    "for name, p in optics.named_parameters():\n",
    "    print(name, p)\n",
    "\n",
    "tlm.show(optics, dim=2)\n",
    "tlm.show(optics, dim=3, sampling={\"base\": 100})"
   ]
  },
  {
   "cell_type": "code",
   "execution_count": null,
   "id": "936130bf-b8d8-4d4e-be7f-66beedca7f47",
   "metadata": {},
   "outputs": [],
   "source": [
    "tlm.optimize(\n",
    "    optics,\n",
    "    optimizer = tlm.optim.Adam(optics.parameters(), lr=1e-3),\n",
    "    sampling = {\"base\": 10},\n",
    "    dim = 2,\n",
    "    num_iter = 100\n",
    ").plot()\n",
    "\n",
    "print(\"Final arc radius:\", surface.radius())\n",
    "print(\"Outer thickness:\", lens.outer_thickness())\n",
    "print(\"Inner thickness:\", lens.inner_thickness())\n",
    "\n",
    "tlm.show(optics, dim=2)\n",
    "tlm.show(optics, dim=3, sampling={\"base\": 100})"
   ]
  }
 ],
 "metadata": {
  "kernelspec": {
   "display_name": "Python 3 (ipykernel)",
   "language": "python",
   "name": "python3"
  },
  "language_info": {
   "codemirror_mode": {
    "name": "ipython",
    "version": 3
   },
   "file_extension": ".py",
   "mimetype": "text/x-python",
   "name": "python",
   "nbconvert_exporter": "python",
   "pygments_lexer": "ipython3",
   "version": "3.12.3"
  }
 },
 "nbformat": 4,
 "nbformat_minor": 5
}
