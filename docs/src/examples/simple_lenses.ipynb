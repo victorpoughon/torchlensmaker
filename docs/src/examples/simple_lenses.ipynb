{
 "cells": [
  {
   "cell_type": "markdown",
   "id": "0",
   "metadata": {},
   "source": [
    "# Simple lenses"
   ]
  },
  {
   "cell_type": "markdown",
   "id": "1",
   "metadata": {},
   "source": [
    "An overview of simple lenses - also called \"singlet\" lenses. A simple lens is made of two refractive surfaces."
   ]
  },
  {
   "cell_type": "markdown",
   "id": "2",
   "metadata": {},
   "source": [
    "## Biconvex Spherical"
   ]
  },
  {
   "cell_type": "code",
   "execution_count": null,
   "id": "3",
   "metadata": {},
   "outputs": [],
   "source": [
    "import torchlensmaker as tlm\n",
    "\n",
    "lens = tlm.BiLens(\n",
    "    tlm.Sphere(diameter=10, R=20), material=\"BK7-nd\", outer_thickness=0.5\n",
    ")\n",
    "\n",
    "optics = tlm.Sequential(\n",
    "    tlm.PointSourceAtInfinity(beam_diameter=8),\n",
    "    tlm.Gap(5),\n",
    "    lens,\n",
    ")\n",
    "\n",
    "tlm.show2d(optics, end=20)"
   ]
  },
  {
   "cell_type": "markdown",
   "id": "5",
   "metadata": {},
   "source": [
    "## Biconvex Parabolic"
   ]
  },
  {
   "cell_type": "code",
   "execution_count": null,
   "id": "6",
   "metadata": {},
   "outputs": [],
   "source": [
    "import torchlensmaker as tlm\n",
    "\n",
    "lens = tlm.BiLens(\n",
    "    tlm.Parabola(diameter=10, A=0.03), material=\"BK7-nd\", outer_thickness=0.5\n",
    ")\n",
    "\n",
    "optics = tlm.Sequential(\n",
    "    tlm.PointSourceAtInfinity(beam_diameter=8),\n",
    "    tlm.Gap(5),\n",
    "    lens,\n",
    ")\n",
    "\n",
    "tlm.show2d(optics, end=20)"
   ]
  },
  {
   "cell_type": "markdown",
   "id": "10",
   "metadata": {},
   "source": [
    "## Biconcave spherical (diverging lens)"
   ]
  },
  {
   "cell_type": "code",
   "execution_count": null,
   "id": "11",
   "metadata": {},
   "outputs": [],
   "source": [
    "import torchlensmaker as tlm\n",
    "\n",
    "# The shape given to BiLens is the first surface.\n",
    "# The second surface is mirrored by its Y axis.\n",
    "# Hence to make a diverging lens, r is negative here\n",
    "# Note we also use inner_thickness to specify the lens thickness\n",
    "# because the inner thickness is smallest in a diverging lens.\n",
    "lens = tlm.BiLens(\n",
    "    tlm.Sphere(diameter=10, R=-18), material=\"BK7-nd\", inner_thickness=0.5\n",
    ")\n",
    "\n",
    "optics = tlm.Sequential(\n",
    "    tlm.PointSourceAtInfinity(beam_diameter=8),\n",
    "    tlm.Gap(5),\n",
    "    lens,\n",
    ")\n",
    "\n",
    "tlm.show2d(optics, end=20)"
   ]
  },
  {
   "cell_type": "markdown",
   "id": "d706deeb",
   "metadata": {},
   "source": [
    "## Meniscus Lens"
   ]
  },
  {
   "cell_type": "code",
   "execution_count": null,
   "id": "84940468",
   "metadata": {},
   "outputs": [],
   "source": [
    "import torchlensmaker as tlm\n",
    "\n",
    "lens = tlm.Lens(\n",
    "    tlm.Parabola(diameter=10, A=0.03),\n",
    "    tlm.Sphere(diameter=10, R=30),\n",
    "    material=\"BK7-nd\",\n",
    "    outer_thickness=0.5,\n",
    ")\n",
    "\n",
    "optics = tlm.Sequential(\n",
    "    tlm.PointSourceAtInfinity(beam_diameter=8),\n",
    "    tlm.Gap(5),\n",
    "    lens,\n",
    ")\n",
    "\n",
    "tlm.show2d(optics, end=20)"
   ]
  },
  {
   "cell_type": "markdown",
   "id": "8c810c64",
   "metadata": {},
   "source": [
    "## Plano Lens\n",
    "\n",
    "To make a plano-concave or plano-convex lens, use the `tlm.PlanoLens` class."
   ]
  },
  {
   "cell_type": "code",
   "execution_count": null,
   "id": "8bcddb6f",
   "metadata": {},
   "outputs": [],
   "source": [
    "import torchlensmaker as tlm\n",
    "\n",
    "lens1 = tlm.PlanoLens(\n",
    "    tlm.Sphere(diameter=10, R=-15),\n",
    "    material=\"BK7-nd\",\n",
    "    outer_thickness=0.8,\n",
    ")\n",
    "\n",
    "lens2 = tlm.PlanoLens(\n",
    "    tlm.Sphere(diameter=10, R=15),\n",
    "    material=\"BK7-nd\",\n",
    "    inner_thickness=0.6,\n",
    "    reverse=True,\n",
    ")\n",
    "\n",
    "optics = tlm.Sequential(\n",
    "    tlm.PointSourceAtInfinity(beam_diameter=8),\n",
    "    tlm.Gap(5),\n",
    "    lens1,\n",
    "    tlm.Gap(5),\n",
    "    lens2,\n",
    ")\n",
    "\n",
    "tlm.show2d(optics, end=10)"
   ]
  }
 ],
 "metadata": {
  "kernelspec": {
   "display_name": "Python 3 (ipykernel)",
   "language": "python",
   "name": "python3"
  },
  "language_info": {
   "codemirror_mode": {
    "name": "ipython",
    "version": 3
   },
   "file_extension": ".py",
   "mimetype": "text/x-python",
   "name": "python",
   "nbconvert_exporter": "python",
   "pygments_lexer": "ipython3",
   "version": "3.12.3"
  }
 },
 "nbformat": 4,
 "nbformat_minor": 5
}
