{
 "cells": [
  {
   "cell_type": "markdown",
   "id": "e5bbc9bd-a8a8-418a-9b2a-f77f9b2284cf",
   "metadata": {},
   "source": [
    "# Sampling\n",
    "\n",
    "An optical systems is defined with a model that represents a physical reality\n",
    "where there are infinitely many rays of light emanating from light sources.\n",
    "\n",
    "In practice, when simulating, we need to decide how many rays we use for\n",
    "computation. This is called **sampling** and the number of rays is the number of\n",
    "samples.\n",
    "\n",
    "Sampled rays can follow a particular distribution, like wavelength can be\n",
    "between 400 and 600nm only, angular distribution can be restricted to &plusmn;10°,\n",
    "and so on. But those distributions are continuous, and samples are a discrete realization.\n",
    "\n",
    "* `base` dimension: This dimension is always present unless we simulate a single ray. It's the dimension along which we sample when all other variables are fixed.\n",
    "\n",
    "* `object` dimension: This dimension is present if the light source represents an object with a size. The coordinate of a ray along the `object` dimension is the coordinate of its origin point on the light source.\n",
    "\n",
    "* `wavelength` dimension: This dimension is present if rays contain wavelength information. \n",
    "\n",
    "## The sampling dictionary\n",
    "\n",
    "Sampling configuration is defined with a dictionary. By default, an integer value refers to dense uniform sampling, and a list of numbers refers to exact sampling at those values:"
   ]
  },
  {
   "cell_type": "code",
   "execution_count": null,
   "id": "deda3ee0",
   "metadata": {},
   "outputs": [],
   "source": [
    "# This sampling configuration will produce a total of 150 rays\n",
    "sampling = {\"base\": 10, \"object\": 5, \"wavelength\": [600, 650, 700]}"
   ]
  },
  {
   "cell_type": "markdown",
   "id": "2a20e47d",
   "metadata": {},
   "source": [
    "For more advanced sampling configuration, use a sampling function directly:"
   ]
  },
  {
   "cell_type": "code",
   "execution_count": null,
   "id": "567195cd",
   "metadata": {},
   "outputs": [],
   "source": [
    "import torchlensmaker as tlm\n",
    "\n",
    "# This sampling configuration will produce a total of 150 rays\n",
    "sampling = {\"base\": 10, \"object\": tlm.random_normal(5, std=2.0), \"wavelength\": 3}"
   ]
  },
  {
   "cell_type": "markdown",
   "id": "2dfad6c9",
   "metadata": {},
   "source": [
    "## `dense`\n",
    "\n",
    "Uniformly spaced samples over the domain. In 2D, it is essentially `torch.linspace`. In 3D, it is [uniform disk sampling](https://victorpoughon.fr/non-random-uniform-disk-sampling/).\n",
    "\n",
    "## `random_uniform`\n",
    "\n",
    "Uniform random distribution\n",
    "\n",
    "## `random_normal`\n",
    "\n",
    "Normal distribution\n",
    "\n",
    "## `exact`\n",
    "\n",
    "Exact sampling at the provided list of values"
   ]
  },
  {
   "cell_type": "code",
   "execution_count": null,
   "id": "d74c71e9-f5e8-4108-b19e-77e354d57e77",
   "metadata": {},
   "outputs": [],
   "source": []
  }
 ],
 "metadata": {
  "kernelspec": {
   "display_name": "Python 3 (ipykernel)",
   "language": "python",
   "name": "python3"
  },
  "language_info": {
   "codemirror_mode": {
    "name": "ipython",
    "version": 3
   },
   "file_extension": ".py",
   "mimetype": "text/x-python",
   "name": "python",
   "nbconvert_exporter": "python",
   "pygments_lexer": "ipython3",
   "version": "3.12.3"
  }
 },
 "nbformat": 4,
 "nbformat_minor": 5
}
