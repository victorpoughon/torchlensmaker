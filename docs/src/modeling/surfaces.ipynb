{
 "cells": [
  {
   "cell_type": "markdown",
   "metadata": {},
   "source": [
    "# Surfaces\n",
    "\n",
    "Torch Lens Maker is designed to support many surfaces. Currently supported are:\n",
    "\n",
    "* [CircularPlane](/modeling/surfaces#circularplane): A circular planar surface (aka a disk)\n",
    "* [Sphere](/modeling/surfaces#sphere): with curvature parameterization\n",
    "* [SphereR](/modeling/surfaces#spherer): Sphere with radius parameterization\n",
    "* [Parabola](/modeling/surfaces#parabola): A parabola on the X axis $x = a r^2$\n",
    "* [Asphere](/modeling/surfaces#asphere): The [asphere model](https://en.wikipedia.org/wiki/Aspheric_lens) often used in optics\n",
    "\n",
    "::: warning Work in progress\n",
    "More surface types coming soon, hopefully 😁 I also want to document how to add custom surfaces easily, as a lot of work as gone into that while designing the library. Basically any sag function $x = g(r)$ can be added, or even any implicit surface described by $F(x,y,z) = 0$, not necessarily axially symmetric.\n",
    ":::"
   ]
  },
  {
   "cell_type": "markdown",
   "metadata": {
    "vscode": {
     "languageId": "plaintext"
    }
   },
   "source": [
    " ## CircularPlane\n",
    "\n"
   ]
  },
  {
   "cell_type": "code",
   "execution_count": null,
   "metadata": {},
   "outputs": [],
   "source": [
    "import torchlensmaker as tlm\n",
    "\n",
    "surface = tlm.CircularPlane(diameter=4.0)\n",
    "optics = tlm.Sequential(\n",
    "    tlm.PointSource(10),\n",
    "    tlm.Gap(5),\n",
    "    tlm.Rotate((45, 0)),\n",
    "    tlm.ReflectiveSurface(surface),\n",
    ")\n",
    "\n",
    "tlm.show2d(optics, end=5)"
   ]
  },
  {
   "cell_type": "markdown",
   "metadata": {},
   "source": [
    "## Sphere\n",
    "\n",
    "A section of a sphere, parameterized by signed curvature.\n",
    "Curvature is the inverse of radius: C = 1/R.\n",
    "\n",
    "This parameterization is useful because it enables clean representation of\n",
    "an infinite radius section of sphere (which is really a plane), and also\n",
    "enables changing the sign of C during optimization.\n",
    "\n",
    "In 2D, this surface is an arc of circle.\n",
    "In 3D, this surface is a section of a sphere (wikipedia calls it a \"spherical cap\")\n",
    "\n",
    "For high curvature arcs (close to a half circle), it's better to use the\n",
    "SphereR class which uses radius parameterization and polar distance\n",
    "functions. In fact this class cannot represent an exact half circle (R =\n",
    "D/2) due to the gradient becoming infinite, use SphereR instead."
   ]
  },
  {
   "cell_type": "code",
   "execution_count": null,
   "metadata": {},
   "outputs": [],
   "source": [
    "import torchlensmaker as tlm\n",
    "\n",
    "surface = tlm.Sphere(diameter=10, R=-25)\n",
    "\n",
    "optics = tlm.Sequential(\n",
    "    tlm.PointSourceAtInfinity(beam_diameter=5),\n",
    "    tlm.Gap(5),\n",
    "    tlm.Rotate((20, 0)),\n",
    "    tlm.ReflectiveSurface(surface),\n",
    ")\n",
    "\n",
    "tlm.show2d(optics, end=12)\n",
    "tlm.show3d(optics, end=12)"
   ]
  },
  {
   "cell_type": "markdown",
   "metadata": {},
   "source": [
    "## SphereR\n",
    "\n",
    "A section of a sphere, parameterized by signed radius.\n",
    "\n",
    "This parameterization is useful to represent high curvature sections\n",
    "including a complete half-sphere. However it's poorly suited to represent\n",
    "low curvature sections that are closer to a planar surface.\n",
    "\n",
    "In 2D, this surface is an arc of circle.\n",
    "In 3D, this surface is a section of a sphere (wikipedia call it a \"spherical cap\")"
   ]
  },
  {
   "cell_type": "code",
   "execution_count": null,
   "metadata": {},
   "outputs": [],
   "source": [
    "import torchlensmaker as tlm\n",
    "\n",
    "surface1 = tlm.SphereR(diameter=10, R=5)\n",
    "surface2 = tlm.SphereR(diameter=10, R=-5)\n",
    "\n",
    "optics = tlm.Sequential(\n",
    "    tlm.ReflectiveSurface(surface1),\n",
    "    tlm.Gap(10),\n",
    "    tlm.ReflectiveSurface(surface2),\n",
    ")\n",
    "\n",
    "tlm.show2d(optics, end=12)\n",
    "tlm.show3d(optics, end=12)"
   ]
  },
  {
   "cell_type": "markdown",
   "metadata": {},
   "source": [
    "## Parabola\n",
    "\n",
    "A parabolic surface on the X axis: $X = A R^2$. "
   ]
  },
  {
   "cell_type": "code",
   "execution_count": null,
   "metadata": {},
   "outputs": [],
   "source": [
    "import torchlensmaker as tlm\n",
    "\n",
    "surface = tlm.Parabola(diameter=10, A=0-.03)\n",
    "\n",
    "optics = tlm.Sequential(\n",
    "    tlm.PointSource(35),\n",
    "    tlm.Gap(-1/(4*surface.A.item())),\n",
    "    tlm.ReflectiveSurface(surface),\n",
    ")\n",
    "\n",
    "tlm.show2d(optics, end=4)\n",
    "tlm.show3d(optics, end=4)"
   ]
  },
  {
   "cell_type": "markdown",
   "metadata": {},
   "source": [
    "## Asphere\n",
    "\n",
    "The typical [Aphere model](https://en.m.wikipedia.org/wiki/Aspheric_lens), with a few changes:\n",
    "* X is the principal optical axis in torchlensmaker\n",
    "* Internally, the radius parameter R is represented as the curvature $C = \\frac{1}{R}$, to allow changing the sign of curvature during optimization\n",
    "* k is the conic constant\n",
    "\n",
    "$$\n",
    "X(r) = \\frac{C r^2}{1+\\sqrt{1-(1+K)r^2 C^2}} + \\alpha_4 r^4 + \\alpha_6 r^6 \\ldots\n",
    "$$\n",
    "\n",
    "In 2D, the derivative with respect to r is:\n",
    "\n",
    "$$\n",
    "\\nabla_r X(r) = \\frac{C r}{\\sqrt{1-(1+K)r^2 C^2}} + 4 \\alpha_4 r^3 + 6 \\alpha_6 r^5 \\ldots\n",
    "$$\n",
    "\n",
    "In the 3D rotationally symmetric case, we have $r^2 = y^2 + z^2$.\n",
    "\n",
    "The derivative with respect to y (or z, by symmetry) is:\n",
    "\n",
    "$$\n",
    "F'_y(x,y,z) = \\frac{C y}{\\sqrt{1-(1+K) (y^2+z^2) C^2}} + y \\Big( 4 \\alpha_4 (y^2 + z^2) + 6 \\alpha_6 (y^2 + z^2)^2 + \\ldots \\Big)\n",
    "$$\n"
   ]
  },
  {
   "cell_type": "code",
   "execution_count": null,
   "metadata": {},
   "outputs": [],
   "source": [
    "import torchlensmaker as tlm\n",
    "\n",
    "\n",
    "surface = tlm.Asphere(diameter=30, R=-15, K=-1.6, coefficients=[0.00012])\n",
    "\n",
    "optics = tlm.Sequential(\n",
    "    tlm.PointSourceAtInfinity(25),\n",
    "    tlm.Gap(5),\n",
    "    tlm.RefractiveSurface(surface, material=\"water-nd\"),\n",
    ")\n",
    "\n",
    "tlm.show2d(optics, end=10)\n",
    "tlm.show3d(optics, end=10)"
   ]
  },
  {
   "cell_type": "code",
   "execution_count": null,
   "metadata": {},
   "outputs": [],
   "source": []
  }
 ],
 "metadata": {
  "kernelspec": {
   "display_name": "Python 3 (ipykernel)",
   "language": "python",
   "name": "python3"
  },
  "language_info": {
   "codemirror_mode": {
    "name": "ipython",
    "version": 3
   },
   "file_extension": ".py",
   "mimetype": "text/x-python",
   "name": "python",
   "nbconvert_exporter": "python",
   "pygments_lexer": "ipython3",
   "version": "3.12.3"
  }
 },
 "nbformat": 4,
 "nbformat_minor": 4
}
