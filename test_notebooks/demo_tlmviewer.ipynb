{
 "cells": [
  {
   "cell_type": "markdown",
   "id": "0",
   "metadata": {},
   "source": [
    "# Demo tlmviewer"
   ]
  },
  {
   "cell_type": "code",
   "execution_count": null,
   "id": "1",
   "metadata": {},
   "outputs": [],
   "source": [
    "# RENDER 2D SURFACES\n",
    "\n",
    "import torchlensmaker as tlm\n",
    "\n",
    "from torchlensmaker.testing.basic_transform import basic_transform\n",
    "\n",
    "\n",
    "test_data = [\n",
    "    (basic_transform(1.0, \"extent\", 0., [35/2., 15]), tlm.surfaces.Sphere(35.0, 35/2)),\n",
    "    (basic_transform(-1.0, \"extent\", 0., [35/2., 15]), tlm.surfaces.Sphere(35.0, 35/2)),\n",
    "\n",
    "    (basic_transform(1.0, \"extent\", 50., [40., 5]), tlm.surfaces.Parabola(125.0, 0.01)),\n",
    "\n",
    "    (basic_transform(1.0, \"extent\", -50., [-40., 5]), tlm.surfaces.CircularPlane(100.)),\n",
    "    (basic_transform(1.0, \"extent\", 50., [-40., 5]), tlm.surfaces.SquarePlane(100.)),\n",
    "]\n",
    "\n",
    "scene = tlm.viewer.render()\n",
    "scene[\"mode\"] = \"2D\"\n",
    "scene[\"camera\"] = \"XY\"\n",
    "\n",
    "scene[\"data\"].append({\"type\": \"surfaces\",\n",
    "               \"data\": [tlm.viewer.render_surface(s, t(s), dim=2) for t, s in test_data],\n",
    "              })\n",
    "\n",
    "tlm.viewer.show(scene)\n",
    "#tlm.viewer.show(scene, ndigits=3, dump=True)"
   ]
  },
  {
   "cell_type": "code",
   "execution_count": null,
   "id": "2",
   "metadata": {},
   "outputs": [],
   "source": [
    "# RENDER 3D SURFACES\n",
    "\n",
    "import torchlensmaker as tlm\n",
    "\n",
    "test_transforms, test_surfaces = zip(*[\n",
    "    (basic_transform(1.0, \"origin\", [45., 10., 0.], [0., 0., 0.]), tlm.surfaces.Sphere(15.0, 1e6)),\n",
    "    (basic_transform(1.0, \"origin\", [45., -10., 0.], [10., 0., -10.]), tlm.surfaces.Sphere(25.0, 20)),\n",
    "    (basic_transform(1.0, \"origin\", [45.0, -25.0, 0.0], [0.0, 0.0, 0.0]), tlm.surfaces.Parabola(30., 0.05)),\n",
    "    (basic_transform(1.0, \"origin\", [45.0, 0.0, 15.0], [-10.0, 10.0, 5.0]), tlm.surfaces.SquarePlane(30.)),\n",
    "    (basic_transform(1.0, \"origin\", [45., -60., 0.], [80., 0., 0.]), tlm.surfaces.CircularPlane(50.)),\n",
    "])\n",
    "\n",
    "scene = {\"data\": []}\n",
    "scene[\"data\"].append({\n",
    "    \"type\": \"surfaces\",\n",
    "    \"data\": [tlm.viewer.render_surface(s, t(s), dim=3, N=10) for t, s in zip(test_transforms, test_surfaces)],\n",
    "})\n",
    "tlm.viewer.show(scene,ndigits=2,dump=True)"
   ]
  },
  {
   "cell_type": "code",
   "execution_count": null,
   "id": "3",
   "metadata": {},
   "outputs": [],
   "source": []
  }
 ],
 "metadata": {
  "kernelspec": {
   "display_name": "Python 3 (ipykernel)",
   "language": "python",
   "name": "python3"
  },
  "language_info": {
   "codemirror_mode": {
    "name": "ipython",
    "version": 3
   },
   "file_extension": ".py",
   "mimetype": "text/x-python",
   "name": "python",
   "nbconvert_exporter": "python",
   "pygments_lexer": "ipython3",
   "version": "3.12.3"
  }
 },
 "nbformat": 4,
 "nbformat_minor": 5
}
