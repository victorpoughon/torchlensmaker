{
 "cells": [
  {
   "cell_type": "markdown",
   "id": "877ef07f-8236-4587-91dd-163a9448ac50",
   "metadata": {},
   "source": [
    "# Snell's Window"
   ]
  },
  {
   "cell_type": "code",
   "execution_count": null,
   "id": "a4462ffa-256a-4c8d-864b-2a3e492c4f05",
   "metadata": {},
   "outputs": [],
   "source": [
    "import torchlensmaker as tlm\n",
    "\n",
    "optics = tlm.Sequential(\n",
    "    tlm.PointSource(beam_angular_size=105, material=\"water-nd\"),\n",
    "    tlm.Gap(2),\n",
    "    tlm.RefractiveSurface(tlm.CircularPlane(15), critical_angle=\"reflect\", material=\"air\"),\n",
    ")\n",
    "\n",
    "# material: str for simple dispersion models\n",
    "# material: MaterialModel for advanced use\n",
    "\n",
    "tlm.show(optics, dim=2, end=2, sampling={\"base\": 100})\n",
    "tlm.show(optics, dim=3, end=2, sampling={\"base\": 2000, \"sampler\": \"uniform\"})"
   ]
  },
  {
   "cell_type": "code",
   "execution_count": null,
   "id": "12414dd3-04fa-47cf-80ad-087899db7d99",
   "metadata": {},
   "outputs": [],
   "source": [
    "import torch\n",
    "output = optics(tlm.default_input(dim=2, dtype=torch.float64, sampling={\"base\": 10}))\n",
    "\n",
    "print(output.material)"
   ]
  },
  {
   "cell_type": "code",
   "execution_count": null,
   "id": "e83f0ba2-917e-45e2-a79d-c2a38dce57d6",
   "metadata": {},
   "outputs": [],
   "source": []
  }
 ],
 "metadata": {
  "kernelspec": {
   "display_name": "Python 3 (ipykernel)",
   "language": "python",
   "name": "python3"
  },
  "language_info": {
   "codemirror_mode": {
    "name": "ipython",
    "version": 3
   },
   "file_extension": ".py",
   "mimetype": "text/x-python",
   "name": "python",
   "nbconvert_exporter": "python",
   "pygments_lexer": "ipython3",
   "version": "3.12.3"
  }
 },
 "nbformat": 4,
 "nbformat_minor": 5
}
