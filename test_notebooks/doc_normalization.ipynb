{
 "cells": [
  {
   "cell_type": "markdown",
   "id": "52cbb16f-2824-4fdc-b0aa-287043b56a20",
   "metadata": {},
   "source": [
    "## Normalization of coefficients\n",
    "\n",
    "Most sag functions support normalization, and sag-based surface classes typically expose a `normalize` boolean parameter. When enabled, internal coefficients of the function are stored in normalized form which makes them scale independent. This means that the shape of the modeled surface does not dependent on the diameter of the surface which only changes its scale. To be more precise, the normalized form $\\tilde{G}$ of a sag function $G$ is such that:\n",
    "\n",
    "In 2D:\n",
    "$$\n",
    "\\tau \\, \\tilde{g}(\\frac{r}{\\tau}) = g(r)\n",
    "$$\n",
    "\n",
    "In 3D:\n",
    "$$\n",
    "\\tau \\, \\tilde{G}(\\frac{y}{\\tau},\\frac{z}{\\tau}) = G(y, z)\n",
    "$$\n",
    "\n",
    "Where $\\tau$ is the normalization radius, typically the surface half-diameter.\n",
    "In other words, the domain of the sag function whose range represent the surface shape is:\n",
    "* $[-1 ; 1]$ when normalization is enabled\n",
    "* $[-\\tau ; \\tau]$ when normalization is disabled\n",
    "\n",
    "Normalization is useful typically when coefficients do not represent a physical quantity, like in the aspheric or polynomial models. It is less useful when the coefficient is a radius for example."
   ]
  },
  {
   "cell_type": "code",
   "execution_count": null,
   "id": "a48f8eb7-d2a4-4da6-a22a-0c021d904019",
   "metadata": {},
   "outputs": [],
   "source": [
    "import torchlensmaker as tlm\n",
    "import torch\n",
    "import json\n",
    "\n",
    "# Normalized parabola example\n",
    "\n",
    "# these two surfaces are equivalent\n",
    "surface = tlm.Parabola(10, A=0.02)\n",
    "surface2 = tlm.Parabola(10, A=0.1, normalize=True)\n",
    "\n",
    "optics = tlm.Sequential(\n",
    "    tlm.ReflectiveSurface(surface),\n",
    "    tlm.Gap(1),\n",
    "    tlm.ReflectiveSurface(surface2),\n",
    ")\n",
    "\n",
    "tlm.show2d(optics, sampling={}, end=1)\n",
    "tlm.show3d(optics, sampling={}, end=1)"
   ]
  },
  {
   "cell_type": "code",
   "execution_count": null,
   "id": "72f9945b-082e-4ead-b8c2-f92fa4a521b9",
   "metadata": {},
   "outputs": [],
   "source": [
    "import torchlensmaker as tlm\n",
    "import torch\n",
    "import json\n",
    "\n",
    "# Normalized sphere example\n",
    "\n",
    "# these two surfaces are equivalent\n",
    "surface = tlm.Sphere(10, R=10)\n",
    "surface2 = tlm.Sphere(10, R=2, normalize=True)\n",
    "\n",
    "optics = tlm.Sequential(\n",
    "    tlm.ReflectiveSurface(surface),\n",
    "    tlm.Gap(1),\n",
    "    tlm.ReflectiveSurface(surface2),\n",
    ")\n",
    "\n",
    "tlm.show2d(optics, sampling={}, end=1)\n",
    "tlm.show3d(optics, sampling={}, end=1)"
   ]
  },
  {
   "cell_type": "code",
   "execution_count": null,
   "id": "cff807be-9d92-4195-bedc-a9b46c8f3a11",
   "metadata": {},
   "outputs": [],
   "source": [
    "import torchlensmaker as tlm\n",
    "import torch\n",
    "import json\n",
    "\n",
    "# Normalized asphere example\n",
    "# these four surfaces are equivalent\n",
    "asphere1 = tlm.Asphere(10, R=6,  K=0.2, coefficients=[ 1.0000e-02, -1.0000e-04],\n",
    "                       normalize_conical=False,\n",
    "                       normalize_aspheric=False)\n",
    "asphere2 = tlm.Asphere(10, R=6, K=0.2, coefficients=[ 1.2500, -0.3125],\n",
    "                       normalize_conical=False,\n",
    "                       normalize_aspheric=True)\n",
    "asphere3 = tlm.Asphere(10, R=6/5, K=0.2, coefficients=[ 1.0000e-02, -1.0000e-04],\n",
    "                       normalize_conical=True,\n",
    "                       normalize_aspheric=False)\n",
    "asphere4 = tlm.Asphere(10, R=6/5, K=0.2, coefficients=[ 1.2500, -0.3125],\n",
    "                       normalize_conical=True,\n",
    "                       normalize_aspheric=True)\n",
    "\n",
    "optics = tlm.Sequential(\n",
    "    tlm.ReflectiveSurface(asphere1),\n",
    "    tlm.Gap(1),\n",
    "    tlm.ReflectiveSurface(asphere2),\n",
    "    tlm.Gap(1),\n",
    "    tlm.ReflectiveSurface(asphere3),\n",
    "    tlm.Gap(1),\n",
    "    tlm.ReflectiveSurface(asphere4),\n",
    ")\n",
    "\n",
    "tlm.show2d(optics, sampling={}, end=1)\n",
    "tlm.show3d(optics, sampling={}, end=1)"
   ]
  },
  {
   "cell_type": "code",
   "execution_count": null,
   "id": "d239ff95-64d0-40df-895c-6973a730b988",
   "metadata": {},
   "outputs": [],
   "source": [
    "import torchlensmaker as tlm\n",
    "import torch\n",
    "\n",
    "xy = tlm.XYPolynomial(torch.tensor(\n",
    "    [[0.1, 0.001],\n",
    "     [0.1, 0.001]]))\n",
    "\n"
   ]
  },
  {
   "cell_type": "code",
   "execution_count": null,
   "id": "ab7b52a8-a45f-4751-a975-de56811443b7",
   "metadata": {},
   "outputs": [],
   "source": []
  }
 ],
 "metadata": {
  "kernelspec": {
   "display_name": "Python 3 (ipykernel)",
   "language": "python",
   "name": "python3"
  },
  "language_info": {
   "codemirror_mode": {
    "name": "ipython",
    "version": 3
   },
   "file_extension": ".py",
   "mimetype": "text/x-python",
   "name": "python",
   "nbconvert_exporter": "python",
   "pygments_lexer": "ipython3",
   "version": "3.12.3"
  }
 },
 "nbformat": 4,
 "nbformat_minor": 5
}
