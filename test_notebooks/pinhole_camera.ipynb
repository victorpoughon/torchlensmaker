{
 "cells": [
  {
   "cell_type": "markdown",
   "id": "0",
   "metadata": {},
   "source": [
    "# Pinhole camera"
   ]
  },
  {
   "cell_type": "code",
   "execution_count": null,
   "id": "1",
   "metadata": {},
   "outputs": [],
   "source": [
    "import torchlensmaker as tlm\n",
    "\n",
    "optics = tlm.Sequential(\n",
    "    tlm.ObjectAtInfinity(beam_diameter=12, angular_size=40),\n",
    "    tlm.Gap(25),\n",
    "    tlm.Aperture(diameter=.5),\n",
    "    tlm.Gap(40),\n",
    "    tlm.ImagePlane(diameter=50),\n",
    ")\n",
    "\n",
    "sampling = {\"base\": 50, \"object\": 15}\n",
    "tlm.show(optics, dim=2, sampling=sampling)\n",
    "tlm.plot_magnification(optics, sampling=sampling)"
   ]
  },
  {
   "cell_type": "code",
   "execution_count": null,
   "id": "1ea36fbf-12f2-46a0-864a-9c09a18a50a2",
   "metadata": {},
   "outputs": [],
   "source": []
  }
 ],
 "metadata": {
  "kernelspec": {
   "display_name": "Python 3 (ipykernel)",
   "language": "python",
   "name": "python3"
  },
  "language_info": {
   "codemirror_mode": {
    "name": "ipython",
    "version": 3
   },
   "file_extension": ".py",
   "mimetype": "text/x-python",
   "name": "python",
   "nbconvert_exporter": "python",
   "pygments_lexer": "ipython3",
   "version": "3.12.3"
  }
 },
 "nbformat": 4,
 "nbformat_minor": 5
}
