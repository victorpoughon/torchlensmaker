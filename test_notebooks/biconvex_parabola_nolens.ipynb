{
 "cells": [
  {
   "cell_type": "markdown",
   "id": "2a01becd-589d-40b7-b821-f5152f468e1f",
   "metadata": {},
   "source": [
    "# Biconvex Parabolic Lens (no lens class)"
   ]
  },
  {
   "cell_type": "code",
   "execution_count": null,
   "id": "94180b05-ed97-4d0a-86fd-2155534912c9",
   "metadata": {},
   "outputs": [],
   "source": [
    "import torch\n",
    "import torch.nn as nn\n",
    "import torchlensmaker as tlm\n",
    "import torch.optim as optim\n",
    "\n",
    "surface = tlm.Parabola(diameter=15, A=tlm.parameter(0.02)) # y = a*x^2\n",
    "\n",
    "optics = nn.Sequential(\n",
    "    tlm.PointSourceAtInfinity(beam_diameter=18.5),\n",
    "    tlm.Gap(10),\n",
    "    tlm.RefractiveSurface(surface, material=\"water-nd\", anchors=(\"origin\", \"extent\")),\n",
    "    tlm.Gap(2),\n",
    "    tlm.RefractiveSurface(\n",
    "        surface, material=\"water-nd\", scale=-1, anchors=(\"extent\", \"origin\")\n",
    "    ),\n",
    "    tlm.Gap(50),\n",
    "    tlm.FocalPoint(),\n",
    ")\n",
    "\n",
    "tlm.show(optics, dim=2)\n",
    "tlm.show(optics, dim=3)"
   ]
  },
  {
   "cell_type": "code",
   "execution_count": null,
   "id": "7c22232e-b9ee-4b5b-9989-c9810e109cad",
   "metadata": {},
   "outputs": [],
   "source": [
    "tlm.optimize(\n",
    "    optics,\n",
    "    optimizer = optim.Adam(optics.parameters(), lr=3e-4),\n",
    "    sampling = {\"base\": 10},\n",
    "    dim = 2,\n",
    "    num_iter = 100\n",
    ").plot()"
   ]
  },
  {
   "cell_type": "code",
   "execution_count": null,
   "id": "ba4b9fff-a5a8-4a65-9bcc-843881988c9f",
   "metadata": {},
   "outputs": [],
   "source": [
    "tlm.show(optics, dim=2, end=60)\n",
    "tlm.show(optics, dim=3, end=60)"
   ]
  },
  {
   "cell_type": "code",
   "execution_count": null,
   "id": "a8b2f763-ad43-4432-a650-780a1665e63a",
   "metadata": {},
   "outputs": [],
   "source": []
  }
 ],
 "metadata": {
  "kernelspec": {
   "display_name": "Python 3 (ipykernel)",
   "language": "python",
   "name": "python3"
  },
  "language_info": {
   "codemirror_mode": {
    "name": "ipython",
    "version": 3
   },
   "file_extension": ".py",
   "mimetype": "text/x-python",
   "name": "python",
   "nbconvert_exporter": "python",
   "pygments_lexer": "ipython3",
   "version": "3.12.3"
  }
 },
 "nbformat": 4,
 "nbformat_minor": 5
}
