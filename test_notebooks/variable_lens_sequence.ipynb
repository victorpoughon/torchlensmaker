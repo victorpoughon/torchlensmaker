{
 "cells": [
  {
   "cell_type": "markdown",
   "id": "0",
   "metadata": {},
   "source": [
    "# Variable Lens Sequence"
   ]
  },
  {
   "cell_type": "markdown",
   "id": "1",
   "metadata": {},
   "source": [
    "A system with multiple lenses in sequence. The number of lenses of each type is an input parameter of the script:\n",
    "\n",
    "* Number of plano convex lenses\n",
    "* Number of biconvex lenses\n",
    "* Number of reverse plano"
   ]
  },
  {
   "cell_type": "code",
   "execution_count": null,
   "id": "a3225617-929d-424b-81de-257dfdc147ac",
   "metadata": {},
   "outputs": [],
   "source": [
    "import torch\n",
    "import torch.nn as nn\n",
    "import torch.optim as optim\n",
    "import torchlensmaker as tlm\n",
    "\n",
    "import math\n",
    "import numpy as np\n",
    "\n",
    "### DESIGN ###\n",
    "\n",
    "# Design parameters\n",
    "square_size = 30\n",
    "lens_diameter = math.sqrt(2)*square_size\n",
    "focal_length = 45.\n",
    "\n",
    "# Number of each lens type\n",
    "nplano = 1\n",
    "nbiconvex = 2\n",
    "nrplano = 1\n",
    "\n",
    "# Mechanical sizes\n",
    "lens_min_thickness = 1.2\n",
    "lens_spacing = 3.\n",
    "\n",
    "### MODEL ###\n",
    "\n",
    "# Parametric surfaces \n",
    "surface_plano = tlm.Parabola(lens_diameter, tlm.parameter(-0.002))\n",
    "surface_biconvex = tlm.Parabola(lens_diameter, tlm.parameter(0.002))\n",
    "\n",
    "# Lenses\n",
    "lens_plano = tlm.PlanoLens(\n",
    "    surface_plano,\n",
    "    n = (1.0, 1.5),\n",
    "    outer_thickness = lens_min_thickness,\n",
    "    reverse=False,\n",
    ")\n",
    "\n",
    "lens_biconvex = tlm.BiLens(\n",
    "    surface_biconvex,\n",
    "    n = (1.0, 1.5),\n",
    "    outer_thickness = lens_min_thickness,\n",
    ")\n",
    "    \n",
    "lens_rplano = tlm.PlanoLens(\n",
    "    surface_plano,\n",
    "    n = (1.0, 1.5),\n",
    "    outer_thickness = lens_min_thickness,\n",
    "    reverse=True,\n",
    ")\n",
    "\n",
    "optics = nn.Sequential(\n",
    "    tlm.PointSourceAtInfinity(beam_diameter=0.9*lens_diameter),\n",
    "    tlm.Gap(10.),\n",
    "    *[\n",
    "        tlm.Gap(lens_spacing),\n",
    "        lens_plano,\n",
    "    ]*nplano,\n",
    "    *[\n",
    "        tlm.Gap(lens_spacing),\n",
    "        lens_biconvex,\n",
    "    ] *nbiconvex,\n",
    "    *[\n",
    "        tlm.Gap(lens_spacing),\n",
    "        lens_rplano,\n",
    "    ]*nrplano,\n",
    "    tlm.Gap(focal_length),\n",
    "    tlm.FocalPoint(),\n",
    ")\n",
    "\n",
    "print(\"Lens design\")\n",
    "print(\"Square size\", square_size)\n",
    "print(\"Lens diameter\", lens_diameter)\n",
    "print(\"Configuration\", nplano, nbiconvex, nrplano)\n",
    "print(\"lens_min_thickness\", lens_min_thickness)\n",
    "print(\"lens_spacing\", lens_spacing)\n",
    "\n",
    "tlm.show(optics, mode=\"2D\")\n",
    "tlm.show(optics, mode=\"3D\")"
   ]
  },
  {
   "cell_type": "code",
   "execution_count": null,
   "id": "63dcf44d-294c-4802-9a93-c6692a939aa2",
   "metadata": {},
   "outputs": [],
   "source": [
    "tlm.optimize(\n",
    "    optics,\n",
    "    optimizer = optim.Adam(optics.parameters(), lr=3e-4),\n",
    "    sampling = {\"dim\": 2, \"dtype\": torch.float64, \"base\": 10},\n",
    "    num_iter = 100\n",
    ").plot()\n",
    "\n",
    "def print_thickness(lens_name, lens):\n",
    "    # TODO thickness at a specific radial distance\n",
    "    print(f\"{lens_name: <25} inner: {lens.inner_thickness().item():.3f} outer: {lens.outer_thickness().item():.3f}\")\n",
    "\n",
    "print_thickness(\"Plano-convex\", lens_plano)\n",
    "print_thickness(\"Bi-convex\", lens_biconvex)\n",
    "print_thickness(\"Reverse plano-convex\", lens_rplano)"
   ]
  },
  {
   "cell_type": "code",
   "execution_count": null,
   "id": "6f960bc1-5ff9-412d-812a-1ab4d3bf41a2",
   "metadata": {},
   "outputs": [],
   "source": [
    "# TODO\n",
    "\n",
    "# can I regu by referencing params directly?\n",
    "def regu_equalparam(optics):\n",
    "    params = torch.cat([param.view(-1) for param in optics.parameters()])\n",
    "    return torch.pow(torch.diff(1000*torch.abs(params)).sum(), 2)\n",
    "    \n",
    "def regu_equalthickness(optics):\n",
    "    t0 = optics.plano.inner_thickness()\n",
    "    t1 = optics.biconvex.inner_thickness()\n",
    "    return 100*torch.pow(t0 - t1, 2)\n",
    "\n"
   ]
  },
  {
   "cell_type": "code",
   "execution_count": null,
   "id": "3",
   "metadata": {},
   "outputs": [],
   "source": [
    "from IPython.display import display\n",
    "\n",
    "display(tlm.export.lens_to_part(lens_plano))\n",
    "display(tlm.export.lens_to_part(lens_biconvex))"
   ]
  },
  {
   "cell_type": "code",
   "execution_count": null,
   "id": "4",
   "metadata": {},
   "outputs": [],
   "source": []
  }
 ],
 "metadata": {
  "kernelspec": {
   "display_name": "Python 3 (ipykernel)",
   "language": "python",
   "name": "python3"
  },
  "language_info": {
   "codemirror_mode": {
    "name": "ipython",
    "version": 3
   },
   "file_extension": ".py",
   "mimetype": "text/x-python",
   "name": "python",
   "nbconvert_exporter": "python",
   "pygments_lexer": "ipython3",
   "version": "3.12.3"
  }
 },
 "nbformat": 4,
 "nbformat_minor": 5
}
