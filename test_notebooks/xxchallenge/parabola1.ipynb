{
 "cells": [
  {
   "cell_type": "code",
   "execution_count": null,
   "id": "c06d5cbe-a830-4a55-baf9-df1b1b604130",
   "metadata": {},
   "outputs": [],
   "source": []
  },
  {
   "cell_type": "code",
   "execution_count": null,
   "id": "95e3e59c-c775-4e86-8c41-46de610fca50",
   "metadata": {},
   "outputs": [],
   "source": [
    "import math\n",
    "import torch\n",
    "import torch.nn as nn\n",
    "import torch.optim as optim\n",
    "import torchlensmaker as tlm\n",
    "\n",
    "from xxchallenge import *\n",
    "\n",
    "\"\"\"\n",
    "First model: parabola with a focal point at 1/(4a)\n",
    "Only one \"half XX\"\n",
    "Parameters:\n",
    "- parabola coefficient A\n",
    "- parabola Y axis translation\n",
    "- parabola Z axis rotation\n",
    "\n",
    "Notes:\n",
    "- Parabola origin will need to account for rotation (bit less than 1000)\n",
    "\"\"\"\n",
    "\n",
    "cylinder = tlm.ImplicitCylinder(*torch.tensor([-50/2, 50/2, 37.02/2], dtype=torch.float64).unbind())\n",
    "\n",
    "# Parameters\n",
    "A = tlm.parameter(-2.0)\n",
    "T = tlm.parameter(100.0)\n",
    "#R = tlm.parameter(4.3)\n",
    "R = tlm.parameter(4.3)\n",
    "\n",
    "# Primary mirror\n",
    "primary = tlm.Parabola(2000, A=A, normalize=True)\n",
    "\n",
    "# Optical model\n",
    "optics = tlm.Sequential(\n",
    "    tlm.Gap(-1000),\n",
    "    XXLightSource.load(half=True),\n",
    "    #RaysViewerPlane(2000, \"input\"),\n",
    "    tlm.Gap(990),\n",
    "    tlm.Translate3D(y=T),\n",
    "    tlm.Rotate3D(z=R),\n",
    "    tlm.ReflectiveSurface(primary),\n",
    "    Focus(primary),\n",
    "    tlm.FocalPoint(),\n",
    "    BoxLoss(450, 1.0, 0.1),\n",
    "    #NonImagingRod(cylinder),\n",
    ")\n",
    "\n",
    "print(list(optics.named_parameters()))\n",
    "print(R is optics[4].z)\n",
    "\n",
    "xxrender(optics)\n"
   ]
  },
  {
   "cell_type": "code",
   "execution_count": null,
   "id": "8e876522-6500-4e2f-9143-d0caf142ac9d",
   "metadata": {},
   "outputs": [],
   "source": [
    "sampling = {\"xx\": 2000}\n",
    "\n",
    "#gridsearch1d(optics, T, torch.linspace(-50, 250, 60), sampling)\n",
    "#gridsearch1d(optics, R, torch.linspace(-10, 10, 50), sampling)"
   ]
  },
  {
   "cell_type": "code",
   "execution_count": null,
   "id": "082eb41e-f5f7-4273-abf2-eda2f8a71e66",
   "metadata": {},
   "outputs": [],
   "source": [
    "param_groups = [\n",
    "    {'params': [A], 'lr': 1e-4},\n",
    "    #{'params': [T], 'lr': 20},\n",
    "    #{'params': [R], 'lr': 1e-2},\n",
    "]\n",
    "\n",
    "record = tlm.optimize(\n",
    "    optics,\n",
    "    optimizer = optim.SGD(param_groups),\n",
    "    sampling = {\"xx\": 50, \"disable_viewer\": True},\n",
    "    dim = 3,\n",
    "    num_iter = 10000\n",
    ")\n",
    "\n",
    "\n",
    "plot_record(record, param_groups, optics)\n",
    "record.best()\n",
    "\n",
    "print(\"A\", A.item())\n",
    "F = 1./(primary._sag.unnorm(primary.diameter / 2) * 4)\n",
    "print(\"F\", F.item())\n",
    "print(\"T\", T.item())\n",
    "print(\"R\", R.item())\n",
    "\n",
    "xxrender(optics)\n",
    "\n"
   ]
  },
  {
   "cell_type": "raw",
   "id": "9b194c88-fac4-4278-b55e-01c72efcc187",
   "metadata": {},
   "source": [
    "A -0.9838074794158645\n",
    "T -154.40392802841555\n",
    "R 4.489270001659186\n",
    "\n",
    "\n",
    "A -1.2573089751509625\n",
    "T 415.6301316011192\n",
    "R 4.3834939761359735\n",
    "\n",
    "\n",
    "# optim only A\n",
    "A -1.62944637560067\n",
    "F -153.4263439064335\n",
    "T 100.0\n",
    "R 4.3"
   ]
  },
  {
   "cell_type": "code",
   "execution_count": null,
   "id": "d50ce13b-62ac-4fa4-a1b1-c13fbff17dc2",
   "metadata": {},
   "outputs": [],
   "source": [
    "import matplotlib.pyplot as plt\n",
    "\n",
    "Y = torch.linspace(-600, 600, 500)\n",
    "\n",
    "bounds = XXBounds(margin=450, scale=1, beta=0.1)\n",
    "\n",
    "plt.figure()\n",
    "plt.plot(Y.tolist(), bounds(Y).tolist())\n",
    "#plt.gca().set_ylim([0, 100])\n",
    "plt.gca().set_xlim([-600, 600])\n"
   ]
  },
  {
   "cell_type": "code",
   "execution_count": null,
   "id": "2a8719b3-d373-48ce-a1e3-79661e895a27",
   "metadata": {},
   "outputs": [],
   "source": []
  }
 ],
 "metadata": {
  "kernelspec": {
   "display_name": "Python 3 (ipykernel)",
   "language": "python",
   "name": "python3"
  },
  "language_info": {
   "codemirror_mode": {
    "name": "ipython",
    "version": 3
   },
   "file_extension": ".py",
   "mimetype": "text/x-python",
   "name": "python",
   "nbconvert_exporter": "python",
   "pygments_lexer": "ipython3",
   "version": "3.12.3"
  }
 },
 "nbformat": 4,
 "nbformat_minor": 5
}
