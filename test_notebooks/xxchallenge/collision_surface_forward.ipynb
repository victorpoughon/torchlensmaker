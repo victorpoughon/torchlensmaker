{
 "cells": [
  {
   "cell_type": "code",
   "execution_count": null,
   "id": "15bb33ee-0e51-4dc6-8bb4-c5645e2c6699",
   "metadata": {},
   "outputs": [],
   "source": [
    "from torchlensmaker.surfaces.local_surface import LocalSurface\n",
    "from torchlensmaker.core.intersect import intersect\n",
    "from torchlensmaker.optical_data import OpticalData\n",
    "from torchlensmaker.core.physics import reflection, refraction\n",
    "from torchlensmaker.core.transforms import TransformBase, TranslateTransform, LinearTransform\n",
    "\n",
    "import torch\n",
    "\n",
    "from typing import Literal, TypeAlias, Sequence\n",
    "\n",
    "\n",
    "from torchlensmaker.elements.optical_surfaces import AnchorType, MissMode\n",
    "\n"
   ]
  },
  {
   "cell_type": "code",
   "execution_count": null,
   "id": "d8b116b2-2c4f-4e95-bb86-2a889caf8030",
   "metadata": {},
   "outputs": [],
   "source": [
    "# hard cases:\n",
    "# - multiple hits of the same surface -- how to not recollide at t=0 but t > 0\n",
    "# - multiple surfaces in parallel, only one hit -- each surface has a different tf\n",
    "\n",
    "# observation: optical chain depends on tf chain, but tf chain doesnt depend on optical chain\n",
    "# but both chains depend on surfaces\n",
    "\n",
    "\n"
   ]
  },
  {
   "cell_type": "code",
   "execution_count": null,
   "id": "db83aead-409c-4855-8395-8d283307aa8f",
   "metadata": {},
   "outputs": [],
   "source": [
    "import torchlensmaker as tlm\n",
    "import json\n",
    "\n",
    "# multiple hits on same surface\n",
    "\n",
    "sphere = tlm.SphereR(10, -5)\n",
    "\n",
    "optics = tlm.Sequential(\n",
    "    tlm.PointSourceAtInfinity(20),\n",
    "    tlm.Gap(10),\n",
    "    tlm.SubChain(\n",
    "        tlm.Rotate2D(-40),\n",
    "        tlm.Translate2D(r=-10),\n",
    "        tlm.ReflectiveSurface(sphere, miss=\"absorb\"),\n",
    "        #tlm.ReflectiveSurface(sphere, miss=\"absorb\"),\n",
    "    ),\n",
    "    #tlm.ReflectiveSurface(tlm.Sphere(25, -20), miss=\"pass\"),\n",
    ")\n",
    "\n",
    "controls={\"blocked_rays\": \"default\", \"show_optical_axis\": True}\n",
    "\n",
    "tlm.show2d(optics, controls=controls, end=20, sampling={\"base\": 30, \"object\": 10})\n",
    "# tlm.show3d(optics, controls=controls, end=5, sampling={\"base\": 50, \"object\": 10})\n"
   ]
  },
  {
   "cell_type": "code",
   "execution_count": null,
   "id": "0c4e6242-ec1f-40b4-9e74-e52d6a9a2f4c",
   "metadata": {},
   "outputs": [],
   "source": [
    "import torchlensmaker as tlm\n",
    "import torch.nn as nn\n",
    "\n",
    "from torchlensmaker.optical_data import OpticalData\n",
    "\n",
    "optics = tlm.Sequential(\n",
    "    tlm.PointSource(160, material=\"water-nd\"),\n",
    "    tlm.Gap(5),\n",
    "    tlm.Aperture(1),\n",
    ")\n",
    "\n",
    "controls={\"blocked_rays\": \"default\", \"show_optical_axis\": True}\n",
    "\n",
    "tlm.show2d(optics, controls=controls, end=5, sampling={\"base\": 30, \"object\": 10})\n",
    "tlm.show3d(optics, controls=controls, end=5, sampling={\"base\": 50, \"object\": 10})\n"
   ]
  },
  {
   "cell_type": "code",
   "execution_count": null,
   "id": "bf38c77c-67b7-4a27-b03a-31f1c869f86b",
   "metadata": {},
   "outputs": [],
   "source": [
    "import torchlensmaker as tlm\n",
    "import torch.nn as nn\n",
    "\n",
    "from torchlensmaker.optical_data import OpticalData\n",
    "\n",
    "optics = tlm.Sequential(\n",
    "    tlm.PointSource(160, material=\"water-nd\"),\n",
    "    tlm.Gap(5),\n",
    "    tlm.RefractiveSurface(tlm.CircularPlane(25), material=\"air\", tir=\"absorb\"),\n",
    ")\n",
    "\n",
    "# TODO implement TIR ray type in tlmviewer\n",
    "controls={\"blocked_rays\": \"default\", \"show_optical_axis\": True}\n",
    "\n",
    "tlm.show2d(optics, controls=controls, end=10, sampling={\"base\": 30, \"object\": 10})\n",
    "tlm.show3d(optics, controls=controls, end=5, sampling={\"base\": 50, \"object\": 10})\n"
   ]
  },
  {
   "cell_type": "code",
   "execution_count": null,
   "id": "d1afe9a7-4178-4d52-8b09-aaf184e80ac7",
   "metadata": {},
   "outputs": [],
   "source": [
    "import torchlensmaker as tlm\n",
    "import json\n",
    "\n",
    "# need option to constraint collisions to be t > 0 -- probably default to true\n",
    "\n",
    "optics = tlm.Sequential(\n",
    "    tlm.PointSourceAtInfinity(20),\n",
    "    tlm.Gap(10),\n",
    "    tlm.ReflectiveSurface(tlm.Sphere(10, 20), miss=\"pass\"),\n",
    "    tlm.Gap(5),\n",
    "    tlm.ReflectiveSurface(tlm.Sphere(25, -20), miss=\"pass\"),\n",
    ")\n",
    "\n",
    "controls={\"blocked_rays\": \"default\", \"show_optical_axis\": True}\n",
    "\n",
    "tlm.show2d(optics, controls=controls, end=20, sampling={\"base\": 30, \"object\": 10})\n",
    "# tlm.show3d(optics, controls=controls, end=5, sampling={\"base\": 50, \"object\": 10})\n"
   ]
  },
  {
   "cell_type": "code",
   "execution_count": null,
   "id": "ccaea021-502b-4afc-a061-490167e888cd",
   "metadata": {},
   "outputs": [],
   "source": [
    "import torchlensmaker as tlm\n",
    "\n",
    "optics = tlm.Sequential(\n",
    "    #tlm.ObjectAtInfinity(20, 5),\n",
    "    tlm.PointSourceAtInfinity(20),\n",
    "    tlm.Gap(10),\n",
    "    tlm.SubChain(\n",
    "        tlm.MixedDim(tlm.Translate2D(r=10), tlm.Translate3D(y=10)),\n",
    "        tlm.MixedDim(tlm.Rotate2D(85), tlm.Rotate3D((85, 0))),\n",
    "        tlm.Gap(-0.5),\n",
    "        tlm.ReflectiveSurface(tlm.CircularPlane(20), miss=\"pass\"),\n",
    "    ),\n",
    "    tlm.SubChain(\n",
    "        tlm.MixedDim(tlm.Rotate2D(85), tlm.Rotate3D((85, 0))),\n",
    "        tlm.Gap(-0.5),\n",
    "        tlm.ReflectiveSurface(tlm.CircularPlane(10), miss=\"pass\"),\n",
    "    ),\n",
    "    tlm.SubChain(\n",
    "        tlm.MixedDim(tlm.Rotate2D(-85), tlm.Rotate3D((-85, 0))),\n",
    "        tlm.Gap(-0.5),\n",
    "        tlm.ReflectiveSurface(tlm.CircularPlane(10), miss=\"pass\"),\n",
    "    ),\n",
    "    tlm.Gap(40),\n",
    "    tlm.ReflectiveSurface(tlm.Sphere(40, -2, normalize=True)),\n",
    ")\n",
    "\n",
    "\n",
    "controls={\"blocked_rays\": \"default\"}\n",
    "\n",
    "tlm.show2d(optics, controls=controls, end=20, sampling={\"base\": 30, \"object\": 10})\n",
    "tlm.show3d(optics, controls=controls, end=5, sampling={\"base\": 50, \"object\": 10})"
   ]
  },
  {
   "cell_type": "code",
   "execution_count": null,
   "id": "3dab40b1-8afa-4f27-8d28-4be4a6cb3b5e",
   "metadata": {},
   "outputs": [],
   "source": []
  }
 ],
 "metadata": {
  "kernelspec": {
   "display_name": "Python 3 (ipykernel)",
   "language": "python",
   "name": "python3"
  },
  "language_info": {
   "codemirror_mode": {
    "name": "ipython",
    "version": 3
   },
   "file_extension": ".py",
   "mimetype": "text/x-python",
   "name": "python",
   "nbconvert_exporter": "python",
   "pygments_lexer": "ipython3",
   "version": "3.12.3"
  }
 },
 "nbformat": 4,
 "nbformat_minor": 5
}
