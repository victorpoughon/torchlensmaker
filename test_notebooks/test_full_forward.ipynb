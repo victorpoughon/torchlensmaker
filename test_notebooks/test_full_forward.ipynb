{
 "cells": [
  {
   "cell_type": "code",
   "execution_count": null,
   "id": "fb789bde-ec8b-43a1-a151-46d089154aae",
   "metadata": {},
   "outputs": [],
   "source": [
    "import torch\n",
    "import torch.nn as nn\n",
    "import torchlensmaker as tlm\n",
    "import torch.optim as optim\n",
    "\n",
    "# y = a*x^2\n",
    "surface = tlm.Parabola(diameter=15, A=tlm.parameter(0.015))\n",
    "\n",
    "lens = tlm.BiLens(surface, material=\"BK7\", outer_thickness=1.0)\n",
    "\n",
    "optics = nn.Sequential(\n",
    "    tlm.PointSourceAtInfinity(beam_diameter=18.5),\n",
    "    tlm.Wavelength(500, 800),\n",
    "    tlm.Gap(10),\n",
    "    lens,\n",
    "    tlm.Gap(50),\n",
    "    tlm.FocalPoint(),\n",
    ")\n",
    "\n",
    "print(optics)"
   ]
  },
  {
   "cell_type": "code",
   "execution_count": null,
   "id": "54033819-1a66-4a27-9ad7-b4adbd821c1c",
   "metadata": {},
   "outputs": [],
   "source": [
    "s1 = tlm.SphereR(diameter=15, R=7.5)\n",
    "\n",
    "optics = tlm.Sequential(\n",
    "    tlm.PointSource(beam_angular_size=20),\n",
    "    tlm.Gap(15),\n",
    "    tlm.KinematicSurface(nn.Sequential(\n",
    "        tlm.CollisionSurface(s1),\n",
    "        tlm.RefractiveBoundary(\"SF10-nd\", \"clamp\"),\n",
    "    ), s1, anchors=(\"origin\", \"extent\")),\n",
    "\n",
    "    tlm.KinematicSurface(nn.Sequential(\n",
    "        \n",
    "        tlm.CollisionSurface(s1),\n",
    "        tlm.RefractiveBoundary(\"air\", \"clamp\"),\n",
    "        \n",
    "    ), s1, scale=-1, anchors=(\"extent\", \"origin\")),\n",
    ")\n",
    "\n",
    "tlm.show(optics, dim=2, end=20)"
   ]
  },
  {
   "cell_type": "code",
   "execution_count": null,
   "id": "b75b4791-6eea-480f-bc93-40037b9a352e",
   "metadata": {},
   "outputs": [],
   "source": [
    "print(optics)\n",
    "print()\n",
    "print(optics[2].element[0])\n",
    "\n",
    "      \n",
    "# execute_tree = forward_tree(optics, tlm.default_input(2, torch.float64, sampling={\"base\": 5}))\n",
    "\n",
    "# execute_tree[2].element[0].context"
   ]
  },
  {
   "cell_type": "code",
   "execution_count": null,
   "id": "84f5e853-0336-4a8e-8495-6f285a524847",
   "metadata": {},
   "outputs": [],
   "source": [
    "from typing import Any, Iterator\n",
    "from dataclasses import dataclass\n",
    "\n",
    "from torchlensmaker.core.full_forward import forward_tree\n",
    "\n",
    "ins, outs = forward_tree(optics, tlm.default_input(sampling={\"base\": 5}, dim=2, dtype=torch.float64))"
   ]
  },
  {
   "cell_type": "code",
   "execution_count": null,
   "id": "60ede9f6-7a40-41f8-921f-83bdcc78f506",
   "metadata": {},
   "outputs": [],
   "source": [
    "outs[optics]"
   ]
  },
  {
   "cell_type": "code",
   "execution_count": null,
   "id": "c2e21c50-f206-406c-a2cd-93f8837ad225",
   "metadata": {},
   "outputs": [],
   "source": []
  }
 ],
 "metadata": {
  "kernelspec": {
   "display_name": "Python 3 (ipykernel)",
   "language": "python",
   "name": "python3"
  },
  "language_info": {
   "codemirror_mode": {
    "name": "ipython",
    "version": 3
   },
   "file_extension": ".py",
   "mimetype": "text/x-python",
   "name": "python",
   "nbconvert_exporter": "python",
   "pygments_lexer": "ipython3",
   "version": "3.12.3"
  }
 },
 "nbformat": 4,
 "nbformat_minor": 5
}
