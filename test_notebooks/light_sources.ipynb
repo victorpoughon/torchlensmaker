{
 "cells": [
  {
   "cell_type": "markdown",
   "id": "4eb02f51-d593-438f-ac8c-52beab0be8ce",
   "metadata": {},
   "source": [
    "# Light sources"
   ]
  },
  {
   "cell_type": "code",
   "execution_count": null,
   "id": "7a5bdcfd-8348-4fe7-979d-1272056dc186",
   "metadata": {},
   "outputs": [],
   "source": [
    "import torch\n",
    "import torch.nn as nn\n",
    "import torchlensmaker as tlm\n",
    "import torch.optim as optim\n",
    "\n",
    "# Idea: Renderwing of light sources: render a bit into the negative t with different color?\n",
    "# + render the source 'outline' as a line/disk/surface"
   ]
  },
  {
   "cell_type": "code",
   "execution_count": null,
   "id": "f8de0024-0388-4c66-8b43-c826bdfafde4",
   "metadata": {},
   "outputs": [],
   "source": [
    "# RaySource\n",
    "optics = tlm.Sequential(\n",
    "    tlm.Turn([20, 0]),\n",
    "    tlm.RaySource(material=\"air\")\n",
    ")\n",
    "\n",
    "tlm.show(optics, dim=2, end=40, sampling={})\n",
    "tlm.show(optics, dim=3, end=40, sampling={})"
   ]
  },
  {
   "cell_type": "code",
   "execution_count": null,
   "id": "f8b42b59-0e8e-4f23-9965-b0d2d0259a85",
   "metadata": {},
   "outputs": [],
   "source": [
    "# PointSourceAtInfinity\n",
    "optics = nn.Sequential(\n",
    "    tlm.Gap(10),\n",
    "    tlm.Rotate(\n",
    "        tlm.PointSourceAtInfinity(beam_diameter=18.5),\n",
    "        angles = (-15, -5),\n",
    "    ),\n",
    "    tlm.Gap(10),\n",
    "    tlm.PointSourceAtInfinity(beam_diameter=18.5),\n",
    ")\n",
    "\n",
    "tlm.show(optics, dim=2, end=40, sampling={\"base\": 30, \"sampler\": \"random\"}, color_dim=\"base\")\n",
    "tlm.show(optics, dim=3, end=40, sampling={\"base\": 50, \"sampler\": \"uniform\"}, color_dim=\"base\")"
   ]
  },
  {
   "cell_type": "code",
   "execution_count": null,
   "id": "19a758b1-5a8c-4ab2-b09c-1e8a33d7cd31",
   "metadata": {},
   "outputs": [],
   "source": [
    "optics = nn.Sequential(\n",
    "    tlm.Gap(-10),\n",
    "    tlm.PointSource(10),\n",
    ")\n",
    "\n",
    "tlm.show(optics, dim=2, end=30, sampling={\"base\": 10, \"sampler\": \"random\"}, color_dim=\"base\")\n",
    "tlm.show(optics, dim=3, end=100, sampling={\"base\": 100, \"sampler\": \"random\"}, color_dim=\"base\")"
   ]
  },
  {
   "cell_type": "code",
   "execution_count": null,
   "id": "e0101fba-cc75-4012-95c9-054e6dc338da",
   "metadata": {},
   "outputs": [],
   "source": [
    "surface = tlm.surfaces.Parabola(diameter=15, a=tlm.parameter(0.02))\n",
    "lens = tlm.BiLens(surface, material = 'BK7-nd', outer_thickness=1.0)\n",
    "\n",
    "optics = nn.Sequential(\n",
    "    tlm.ObjectAtInfinity(beam_diameter=10, angular_size=25),\n",
    "    tlm.Gap(20),\n",
    "    lens,\n",
    ")\n",
    "\n",
    "tlm.show(optics, dim=2, end=50, color_dim=\"object\")\n",
    "tlm.show(optics, dim=3, end=200, color_dim=\"object\", sampling={\"base\": 20, \"object\": 20, \"sampler\": \"uniform\"})"
   ]
  },
  {
   "cell_type": "code",
   "execution_count": null,
   "id": "d49d4cf6-da71-4920-a15b-36b7028bb348",
   "metadata": {},
   "outputs": [],
   "source": [
    "surface = tlm.surfaces.Parabola(diameter=15, a=tlm.parameter(0.02))\n",
    "lens = tlm.BiLens(surface, material = 'BK7-nd', outer_thickness=1.0)\n",
    "\n",
    "object_distance = 50\n",
    "\n",
    "optics = nn.Sequential(\n",
    "    tlm.Gap(-object_distance),\n",
    "    tlm.Object(beam_angular_size=5, object_diameter=5),\n",
    "    tlm.Gap(object_distance),\n",
    "    tlm.Gap(20),\n",
    "    lens,\n",
    ")\n",
    "\n",
    "tlm.show(optics, dim=2, end=200, color_dim=\"object\")\n",
    "tlm.show(optics, dim=3, end=200, sampling={\"base\": 10, \"object\": 10}, color_dim=\"object\")"
   ]
  },
  {
   "cell_type": "markdown",
   "id": "314194a6-c49d-497f-97b9-d8e7a282565d",
   "metadata": {},
   "source": [
    "## tlm.Wavelength"
   ]
  },
  {
   "cell_type": "markdown",
   "id": "6c19fc03-9b77-4529-9332-40a780cd4e98",
   "metadata": {},
   "source": [
    "Rays can be given a wavelength in different ways:\n",
    "\n",
    "* **Achromatic rays**. Don't add any `Wavelength` object after the light source. The simulation will be achromatic. In an achromatic system, refractive surfaces with a dispersive material will raise an error. You can still use refractive surfaces but only with a non dispersive material model.\n",
    "\n",
    "* **Monochromatic rays**. Add a `Wavelength` object with a single element wavelength list, for example: `Wavelength([650])`. This will assign 650nm to all rays. It does not increase the number of rays when sampling.\n",
    "\n",
    "* **Fixed list of wavelengths**. Add a `Wavelength` object with a list of wavelengths, for example: `Wavelength([450, 500, 550])`. This duplicates existing non chromatic rays to make one ray per wavelength. When sampling, this multiplies the number of rays by the length of the list.\n",
    "\n",
    "* **Sampling of wavelengths**. Add a `Wavelength` object with two float arguments indicating the range of wavelengths to sample, for example: `Wavelength(400, 800)`. This generates N samples in chromatic space (following the sampling configuration) and duplicates rays to make one ray per sampled wavelength. When sampling, this multiplies the number of rays by the \"wavelength\" sampling value. As with every other sampling dimension, any sampler can be used (linear, random, normal...)"
   ]
  },
  {
   "cell_type": "code",
   "execution_count": null,
   "id": "c8a1b200-cd0f-4856-8051-6b1a3719b642",
   "metadata": {},
   "outputs": [],
   "source": [
    "# TODO SingleRay light source (no base coordinate)\n",
    "\n",
    "# Monochromatic\n",
    "# Multichromatic\n",
    "# ChromaticRange\n",
    "\n",
    "optics = nn.Sequential(\n",
    "    tlm.PointSource(beam_angular_size=5),\n",
    "    #tlm.Monochromatic(600),\n",
    "    tlm.Multichromatic([600, 650, 700]),\n",
    "    #tlm.Chromatic([600, 650, 700]),\n",
    "    #tlm.Wavelength(600, 700)\n",
    "\n",
    "    tlm.Gap(10),\n",
    "    tlm.RefractiveSurface(tlm.Sphere(30, 60), material=\"SF10\"),\n",
    ")\n",
    "\n",
    "output = optics(tlm.default_input(dim=2, dtype=torch.float64, sampling={\"base\": 10}))\n",
    "\n",
    "tlm.show(optics, dim=2, end=50, color_dim=\"wavelength\")"
   ]
  },
  {
   "cell_type": "code",
   "execution_count": null,
   "id": "677e968a-2d1f-49c3-b3a4-e336e5b8b623",
   "metadata": {},
   "outputs": [],
   "source": []
  }
 ],
 "metadata": {
  "kernelspec": {
   "display_name": "Python 3 (ipykernel)",
   "language": "python",
   "name": "python3"
  },
  "language_info": {
   "codemirror_mode": {
    "name": "ipython",
    "version": 3
   },
   "file_extension": ".py",
   "mimetype": "text/x-python",
   "name": "python",
   "nbconvert_exporter": "python",
   "pygments_lexer": "ipython3",
   "version": "3.12.3"
  }
 },
 "nbformat": 4,
 "nbformat_minor": 5
}
