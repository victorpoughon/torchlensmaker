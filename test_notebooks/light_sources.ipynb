{
 "cells": [
  {
   "cell_type": "markdown",
   "id": "4eb02f51-d593-438f-ac8c-52beab0be8ce",
   "metadata": {},
   "source": [
    "# Light sources"
   ]
  },
  {
   "cell_type": "code",
   "execution_count": null,
   "id": "7a5bdcfd-8348-4fe7-979d-1272056dc186",
   "metadata": {},
   "outputs": [],
   "source": [
    "import torch\n",
    "import torch.nn as nn\n",
    "import torchlensmaker as tlm\n",
    "import torch.optim as optim\n",
    "\n",
    "# Idea: Renderwing of light sources: render a bit into the negative t with different color?\n",
    "# + render the source 'outline' as a line/disk/surface"
   ]
  },
  {
   "cell_type": "markdown",
   "id": "13918710-8b5b-4e90-a0b6-ca862851ec30",
   "metadata": {},
   "source": [
    "## RaySource\n",
    "\n",
    "`RaySource()` is a light source that emits a single ray of light. It does not need any sampling information."
   ]
  },
  {
   "cell_type": "code",
   "execution_count": null,
   "id": "f8de0024-0388-4c66-8b43-c826bdfafde4",
   "metadata": {},
   "outputs": [],
   "source": [
    "optics = tlm.Sequential(\n",
    "    tlm.Turn([20, 0]),\n",
    "    tlm.RaySource(material=\"air\")\n",
    ")\n",
    "\n",
    "tlm.show(optics, dim=2, end=40, sampling={})\n",
    "tlm.show(optics, dim=3, end=40, sampling={})"
   ]
  },
  {
   "cell_type": "markdown",
   "id": "824e7d25-624d-414a-9581-6db3b10a7219",
   "metadata": {},
   "source": [
    "## PointSourceAtInfinity\n",
    "\n",
    "`PointSourceAtInfinity()` represents a point light source \"at infinity\", meaning that the source is so far away that the rays it emits are perfecly parallel. The number of rays depends on the \"base\" sampling dimension along the source's beam diameter."
   ]
  },
  {
   "cell_type": "code",
   "execution_count": null,
   "id": "f8b42b59-0e8e-4f23-9965-b0d2d0259a85",
   "metadata": {},
   "outputs": [],
   "source": [
    "optics = nn.Sequential(\n",
    "    tlm.Gap(10),\n",
    "    tlm.Rotate(\n",
    "        tlm.PointSourceAtInfinity(beam_diameter=18.5),\n",
    "        angles = (-15, -5),\n",
    "    ),\n",
    "    tlm.Gap(10),\n",
    "    tlm.PointSourceAtInfinity(beam_diameter=18.5),\n",
    ")\n",
    "\n",
    "tlm.show2d(optics, end=40, sampling={\"base\": 30})\n",
    "tlm.show3d(optics, end=40, sampling={\"base\": 50})"
   ]
  },
  {
   "cell_type": "markdown",
   "id": "d3057129-f631-409f-9c13-63dacb5965ef",
   "metadata": {},
   "source": [
    "## PointSource\n",
    "\n",
    "A point source that's positioned in physical space by the kinematic chain. Rays are all emitted from the point source position and are sampled along the \"base\" dimension, within the domain defined by the beam angular size."
   ]
  },
  {
   "cell_type": "code",
   "execution_count": null,
   "id": "19a758b1-5a8c-4ab2-b09c-1e8a33d7cd31",
   "metadata": {},
   "outputs": [],
   "source": [
    "optics = nn.Sequential(\n",
    "    tlm.Gap(-10),\n",
    "    tlm.Rotate(\n",
    "        tlm.PointSource(10),\n",
    "        [15, 0])\n",
    ")\n",
    "\n",
    "tlm.show(optics, dim=2, end=30, sampling={\"base\": 10, \"sampler\": \"random\"})\n",
    "tlm.show(optics, dim=3, end=100, sampling={\"base\": 100, \"sampler\": \"random\"})"
   ]
  },
  {
   "cell_type": "markdown",
   "id": "9695a618-27fd-454a-b3ac-e6c44f752272",
   "metadata": {},
   "source": [
    "## ObjectAtInfinity\n",
    "\n",
    "An object that's so far away that all light rays coming from the same position on the object are perfectly parallel. Emits light rays along both \"base\" and \"object\" sampling dimensions, within the domain defined by the beam diameter and the object angular size."
   ]
  },
  {
   "cell_type": "code",
   "execution_count": null,
   "id": "e0101fba-cc75-4012-95c9-054e6dc338da",
   "metadata": {},
   "outputs": [],
   "source": [
    "optics = nn.Sequential(\n",
    "    tlm.ObjectAtInfinity(beam_diameter=10, angular_size=25),\n",
    "    tlm.Gap(20),\n",
    "    tlm.BiLens(tlm.Parabola(diameter=15, A=tlm.parameter(0.02)), material = 'BK7-nd', outer_thickness=1.0),\n",
    ")\n",
    "\n",
    "tlm.show2d(optics, end=50)\n",
    "tlm.show3d(optics, end=200, sampling={\"base\": 20, \"object\": 20})"
   ]
  },
  {
   "cell_type": "markdown",
   "id": "61c560d3-bed5-4612-b1d4-2d5b828d18ae",
   "metadata": {},
   "source": [
    "## Object\n",
    "\n",
    "An object that's positioned in physical space by the kinematic chain. Emits light rays along both \"base\" and \"object\" sampling dimensions, within the domain defined by the object diameter and the beam angular size."
   ]
  },
  {
   "cell_type": "code",
   "execution_count": null,
   "id": "d49d4cf6-da71-4920-a15b-36b7028bb348",
   "metadata": {},
   "outputs": [],
   "source": [
    "surface = tlm.Parabola(diameter=15, A=tlm.parameter(0.02))\n",
    "lens = tlm.BiLens(surface, material = 'BK7-nd', outer_thickness=1.0)\n",
    "\n",
    "object_distance = 50\n",
    "\n",
    "optics = nn.Sequential(\n",
    "    tlm.Gap(-object_distance),\n",
    "    tlm.Object(beam_angular_size=5, object_diameter=5),\n",
    "    tlm.Gap(object_distance),\n",
    "    tlm.Gap(20),\n",
    "    lens,\n",
    ")\n",
    "\n",
    "tlm.show(optics, dim=2, end=200)\n",
    "tlm.show(optics, dim=3, end=200, sampling={\"base\": 10, \"object\": 10})"
   ]
  },
  {
   "cell_type": "markdown",
   "id": "314194a6-c49d-497f-97b9-d8e7a282565d",
   "metadata": {},
   "source": [
    "## Wavelength\n",
    "\n",
    "Adds a wavelength variable to existing rays. Duplicates existing light rays for each sampled wavelength value. Values are samples along the \"wavelength\" dimension, within the bounds defined by the object min and max arguments."
   ]
  },
  {
   "cell_type": "code",
   "execution_count": null,
   "id": "7cd04199-178a-4469-965f-9fafac7ce545",
   "metadata": {},
   "outputs": [],
   "source": [
    "optics = nn.Sequential(\n",
    "    tlm.Gap(-1),\n",
    "    tlm.PointSourceAtInfinity(beam_diameter=12),\n",
    "    tlm.Gap(1),\n",
    "    tlm.Wavelength(400, 800),\n",
    "    tlm.BiLens(tlm.Parabola(diameter=15, A=tlm.parameter(0.02)), material = 'SF10', outer_thickness=1.0),\n",
    ")\n",
    "\n",
    "# As with other dimensions, configure the sampled wavelengths with the sampling dictionary\n",
    "tlm.show2d(optics, end=5, sampling={\"base\": 10, \"wavelength\": 10})\n",
    "tlm.show3d(optics, end=5, sampling={\"base\": 15, \"wavelength\": [400, 600, 600]})"
   ]
  },
  {
   "cell_type": "code",
   "execution_count": null,
   "id": "0476c0d6-b738-4c23-911c-9e0213111353",
   "metadata": {},
   "outputs": [],
   "source": []
  }
 ],
 "metadata": {
  "kernelspec": {
   "display_name": "Python 3 (ipykernel)",
   "language": "python",
   "name": "python3"
  },
  "language_info": {
   "codemirror_mode": {
    "name": "ipython",
    "version": 3
   },
   "file_extension": ".py",
   "mimetype": "text/x-python",
   "name": "python",
   "nbconvert_exporter": "python",
   "pygments_lexer": "ipython3",
   "version": "3.12.3"
  }
 },
 "nbformat": 4,
 "nbformat_minor": 5
}
