{
 "cells": [
  {
   "cell_type": "markdown",
   "id": "4eb02f51-d593-438f-ac8c-52beab0be8ce",
   "metadata": {},
   "source": [
    "# Light sources"
   ]
  },
  {
   "cell_type": "code",
   "execution_count": null,
   "id": "7a5bdcfd-8348-4fe7-979d-1272056dc186",
   "metadata": {},
   "outputs": [],
   "source": [
    "import torch\n",
    "import torch.nn as nn\n",
    "import torchlensmaker as tlm\n",
    "import torch.optim as optim\n",
    "\n",
    "# Idea: Renderwing of light sources: render a bit into the negative t with different color?\n",
    "# + render the source 'outline' as a line/disk/surface"
   ]
  },
  {
   "cell_type": "code",
   "execution_count": null,
   "id": "f8b42b59-0e8e-4f23-9965-b0d2d0259a85",
   "metadata": {},
   "outputs": [],
   "source": [
    "# PointSourceAtInfinity\n",
    "optics = nn.Sequential(\n",
    "    tlm.Gap(10),\n",
    "    tlm.Rotate(\n",
    "        tlm.PointSourceAtInfinity(beam_diameter=18.5),\n",
    "        angles = (-15, -5),\n",
    "    ),\n",
    "    tlm.Gap(10),\n",
    "    tlm.PointSourceAtInfinity(beam_diameter=18.5),\n",
    ")\n",
    "\n",
    "tlm.show(optics, dim=2, end=40, sampling={\"base\": 30, \"sampler\": \"random\"}, color_dim=\"base\")\n",
    "tlm.show(optics, dim=3, end=40, sampling={\"base\": 50, \"sampler\": \"random\"}, color_dim=\"base\")"
   ]
  },
  {
   "cell_type": "code",
   "execution_count": null,
   "id": "19a758b1-5a8c-4ab2-b09c-1e8a33d7cd31",
   "metadata": {},
   "outputs": [],
   "source": [
    "optics = nn.Sequential(\n",
    "    tlm.Gap(-10),\n",
    "    tlm.PointSource(10),\n",
    ")\n",
    "\n",
    "tlm.show(optics, dim=2, end=30, sampling={\"base\": 10, \"sampler\": \"random\"}, color_dim=\"base\")\n",
    "tlm.show(optics, dim=3, end=100, sampling={\"base\": 100, \"sampler\": \"random\"}, color_dim=\"base\")"
   ]
  },
  {
   "cell_type": "code",
   "execution_count": null,
   "id": "e0101fba-cc75-4012-95c9-054e6dc338da",
   "metadata": {},
   "outputs": [],
   "source": [
    "surface = tlm.surfaces.Parabola(diameter=15, a=tlm.parameter(0.02))\n",
    "lens = tlm.BiLens(surface, n=(1.0, 1.5), outer_thickness=1.0)\n",
    "\n",
    "optics = nn.Sequential(\n",
    "    tlm.ObjectAtInfinity(beam_diameter=10, angular_size=25),\n",
    "    tlm.Gap(20),\n",
    "    lens,\n",
    ")\n",
    "\n",
    "tlm.show(optics, dim=2, end=50, color_dim=\"object\")\n",
    "tlm.show(optics, dim=3, end=200, color_dim=\"object\", sampling={\"base\": 20, \"object\": 20, \"sampler\": \"random\"})"
   ]
  },
  {
   "cell_type": "code",
   "execution_count": null,
   "id": "d49d4cf6-da71-4920-a15b-36b7028bb348",
   "metadata": {},
   "outputs": [],
   "source": [
    "surface = tlm.surfaces.Parabola(diameter=15, a=tlm.parameter(0.02))\n",
    "lens = tlm.BiLens(surface, n=(1.0, 1.5), outer_thickness=1.0)\n",
    "\n",
    "object_distance = 50\n",
    "\n",
    "optics = nn.Sequential(\n",
    "    tlm.Gap(-object_distance),\n",
    "    tlm.Object(beam_angular_size=5, object_diameter=5),\n",
    "    tlm.Gap(object_distance),\n",
    "    tlm.Gap(20),\n",
    "    lens,\n",
    ")\n",
    "\n",
    "tlm.show(optics, dim=2, end=200, color_dim=\"object\")\n",
    "tlm.show(optics, dim=3, end=200, sampling={\"base\": 10, \"object\": 10}, color_dim=\"object\")"
   ]
  },
  {
   "cell_type": "code",
   "execution_count": null,
   "id": "69892627-b7a8-4349-abe4-695dbf70063e",
   "metadata": {},
   "outputs": [],
   "source": []
  }
 ],
 "metadata": {
  "kernelspec": {
   "display_name": "Python 3 (ipykernel)",
   "language": "python",
   "name": "python3"
  },
  "language_info": {
   "codemirror_mode": {
    "name": "ipython",
    "version": 3
   },
   "file_extension": ".py",
   "mimetype": "text/x-python",
   "name": "python",
   "nbconvert_exporter": "python",
   "pygments_lexer": "ipython3",
   "version": "3.12.3"
  }
 },
 "nbformat": 4,
 "nbformat_minor": 5
}
