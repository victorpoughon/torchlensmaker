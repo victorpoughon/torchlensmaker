{
 "cells": [
  {
   "cell_type": "markdown",
   "id": "4eb02f51-d593-438f-ac8c-52beab0be8ce",
   "metadata": {},
   "source": [
    "# Light sources"
   ]
  },
  {
   "cell_type": "code",
   "execution_count": null,
   "id": "dcb3acfc-c969-495e-9d35-261e471a90a1",
   "metadata": {},
   "outputs": [],
   "source": [
    "import torch\n",
    "import torch.nn as nn\n",
    "import torchlensmaker as tlm\n",
    "import torch.optim as optim\n",
    "\n",
    "# Idea: Rendering of light sources: render a bit into the negative t with different color?\n",
    "# + render the source 'outline' as a line/disk/surface\n",
    "\n",
    "optics = nn.Sequential(\n",
    "    tlm.Gap(10),\n",
    "    tlm.Rotate(\n",
    "        tlm.PointSourceAtInfinity(beam_diameter=18.5),\n",
    "        angles = (-15, -5),\n",
    "    ),\n",
    "    tlm.Gap(10),\n",
    "    tlm.PointSourceAtInfinity(beam_diameter=18.5),\n",
    ")\n",
    "\n",
    "tlm.show(optics, mode=\"2D\", end=40)\n",
    "tlm.show(optics, mode=\"3D\", end=40, base=1000)"
   ]
  },
  {
   "cell_type": "code",
   "execution_count": null,
   "id": "19a758b1-5a8c-4ab2-b09c-1e8a33d7cd31",
   "metadata": {},
   "outputs": [],
   "source": [
    "optics = nn.Sequential(\n",
    "    tlm.PointSource(45),\n",
    ")\n",
    "\n",
    "tlm.show(optics, mode=\"2D\", end=10)"
   ]
  },
  {
   "cell_type": "code",
   "execution_count": null,
   "id": "e0101fba-cc75-4012-95c9-054e6dc338da",
   "metadata": {},
   "outputs": [],
   "source": []
  }
 ],
 "metadata": {
  "kernelspec": {
   "display_name": "Python 3 (ipykernel)",
   "language": "python",
   "name": "python3"
  },
  "language_info": {
   "codemirror_mode": {
    "name": "ipython",
    "version": 3
   },
   "file_extension": ".py",
   "mimetype": "text/x-python",
   "name": "python",
   "nbconvert_exporter": "python",
   "pygments_lexer": "ipython3",
   "version": "3.12.3"
  }
 },
 "nbformat": 4,
 "nbformat_minor": 5
}
