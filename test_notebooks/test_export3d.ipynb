{
 "cells": [
  {
   "cell_type": "code",
   "execution_count": null,
   "id": "0",
   "metadata": {},
   "outputs": [],
   "source": [
    "import torchlensmaker as tlm\n",
    "from torchlensmaker.export3d import shape_to_sketch\n",
    "\n",
    "from IPython.display import display\n",
    "\n",
    "test_shapes = [\n",
    "    tlm.CircularArc(15.0, 20.0),\n",
    "    tlm.CircularArc(15.0, -20.0),\n",
    "    tlm.Parabola(15.0, 0.02),\n",
    "    tlm.Parabola(15.0, -0.02),\n",
    "    tlm.Line(15.0),\n",
    "]\n",
    "\n",
    "for shape in test_shapes:\n",
    "    display(shape_to_sketch(shape))\n"
   ]
  }
 ],
 "metadata": {
  "kernelspec": {
   "display_name": "Python 3 (ipykernel)",
   "language": "python",
   "name": "python3"
  },
  "language_info": {
   "codemirror_mode": {
    "name": "ipython",
    "version": 3
   },
   "file_extension": ".py",
   "mimetype": "text/x-python",
   "name": "python",
   "nbconvert_exporter": "python",
   "pygments_lexer": "ipython3",
   "version": "3.12.3"
  }
 },
 "nbformat": 4,
 "nbformat_minor": 5
}
