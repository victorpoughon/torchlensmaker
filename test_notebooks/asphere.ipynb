{
 "cells": [
  {
   "cell_type": "markdown",
   "id": "85ace3f5-9cdf-4f25-9784-51435a40db88",
   "metadata": {},
   "source": [
    "# Asphere"
   ]
  },
  {
   "cell_type": "markdown",
   "id": "6da1fa81-f200-4428-901d-d13a9f28de81",
   "metadata": {},
   "source": [
    "The class `tlm.Asphere` implements the typical [Aphere model](https://en.m.wikipedia.org/wiki/Aspheric_lens), with a few changes:\n",
    "* X is the principal optical axis in torchlensmaker\n",
    "* Internally, the radius parameter R is represented as the curvature $C = \\frac{1}{R}$, to allow changing the sign of curvature during optimization\n",
    "* k is the conic constant\n",
    "\n",
    "$$\n",
    "X(r) = \\frac{C r^2}{1+\\sqrt{1-(1+K)r^2 C^2}} + \\alpha_4 r^4 + \\alpha_6 r^6 \\ldots\n",
    "$$\n",
    "\n",
    "In 2D, the derivative with respect to r is:\n",
    "\n",
    "$$\n",
    "\\nabla_r X(r) = \\frac{C r}{\\sqrt{1-(1+K)r^2 C^2}} + 4 \\alpha_4 r^3 + 6 \\alpha_6 r^5 \\ldots\n",
    "$$\n",
    "\n",
    "## Axially symmetric 3D asphere\n",
    "\n",
    "In the 3D rotationally symmetric case, we have $r^2 = y^2 + z^2$.\n",
    "\n",
    "The derivative with respect to y (or z, by symmetry) is:\n",
    "\n",
    "$$\n",
    "F'_y(x,y,z) = \\frac{C y}{\\sqrt{1-(1+K) (y^2+z^2) C^2}} + y \\Big( 4 \\alpha_4 (y^2 + z^2) + 6 \\alpha_6 (y^2 + z^2)^2 + \\ldots \\Big)\n",
    "$$\n",
    "\n"
   ]
  },
  {
   "cell_type": "code",
   "execution_count": null,
   "id": "7b6ecfe8-be9f-4ac1-9c64-9cb6e79269cf",
   "metadata": {},
   "outputs": [],
   "source": [
    "import torchlensmaker as tlm\n",
    "from torchlensmaker.testing.basic_transform import basic_transform\n",
    "\n",
    "scene = tlm.viewer.new_scene(\"3D\")\n",
    "\n",
    "test_data = [\n",
    "    (basic_transform(1.0, \"origin\", [0., 0., 0.], [0., 0., 0.]), tlm.Asphere(diameter=30, R=-15, K=-1.6, A4=0.00012)),\n",
    "    #(basic_transform(1.0, \"origin\", [0., 0., 0.], [5., 0., 0.]), tlm.Sphere(diameter=30, R=30)),\n",
    "]\n",
    "\n",
    "test_surfaces = [s for t, s in test_data]\n",
    "test_transforms = [t for t, s in test_data]\n",
    "\n",
    "\n",
    "def demo():\n",
    "    realized_transforms = [t(s) for t, s in zip(test_transforms, test_surfaces)]\n",
    "    scene = tlm.viewer.new_scene(\"3D\")\n",
    "    scene[\"data\"].append(tlm.viewer.render_surfaces(test_surfaces, realized_transforms, dim=3))\n",
    "    tlm.viewer.display_scene(scene)\n",
    "\n",
    "demo()"
   ]
  },
  {
   "cell_type": "code",
   "execution_count": null,
   "id": "b237e684-5913-4b3b-91c0-7f9def6bd504",
   "metadata": {},
   "outputs": [],
   "source": []
  }
 ],
 "metadata": {
  "kernelspec": {
   "display_name": "Python 3 (ipykernel)",
   "language": "python",
   "name": "python3"
  },
  "language_info": {
   "codemirror_mode": {
    "name": "ipython",
    "version": 3
   },
   "file_extension": ".py",
   "mimetype": "text/x-python",
   "name": "python",
   "nbconvert_exporter": "python",
   "pygments_lexer": "ipython3",
   "version": "3.12.3"
  }
 },
 "nbformat": 4,
 "nbformat_minor": 5
}
