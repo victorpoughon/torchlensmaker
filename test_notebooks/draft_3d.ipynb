{
 "cells": [
  {
   "cell_type": "markdown",
   "id": "e477197a-dafe-4f7d-8059-393d7643db03",
   "metadata": {},
   "source": [
    "## Surfaces of revolution\n",
    "\n",
    "A 2D surface $S$ is defined by a parametric equation of its $X$ and $Y$ components:\n",
    "\n",
    "$$\n",
    "S: t \\longrightarrow ( X(t) ; Y(t) )\n",
    "$$\n",
    "\n",
    "The corresponding 3D surface of revolution $G$, that is obtained by rotating it around the X axis, is parametrized by:\n",
    "\n",
    "$$\n",
    "G: t, \\alpha \\longrightarrow ( X(t) ; Y(t) \\cos \\alpha ; Y(t) \\sin \\alpha )\n",
    "$$\n",
    "\n",
    "Where $t$ is the original surface parameter, and $\\alpha$ is the rotation angle.\n",
    "\n",
    "The derivatives of the 3D surface are, given the known derivatives of $S$: $X'$ and $Y'$ are:\n",
    "\n",
    "$$\n",
    "\\frac{dG}{dt} = ( X'(t) ; Y'(t) \\cos \\alpha ; Y' (t) \\sin \\alpha )\n",
    "$$\n",
    "$$\n",
    "\\frac{dG}{d\\alpha} = ( 1 ; - Y(t) \\sin \\alpha ; Y(t) \\cos \\alpha )\n",
    "$$\n",
    "\n",
    "3D rays are defined with $P$, the origin point, $v$ a vector and the ray parametric equation $P + uv$ of parameter $u$.\n",
    "\n",
    "Finding a ray surface intersection is solving the parametric equation:\n",
    "\n",
    "$$\n",
    "Q(t, \\alpha, u) = G(t, \\alpha) - P - uv = 0\n",
    "$$\n",
    "\n",
    "The Jacobian of Q is:\n",
    "\n",
    "$$\n",
    "J(t, \\alpha, u) =\n",
    "\\begin{bmatrix}\n",
    "X'(t) & 1 & -V_x \\\\\n",
    "Y'(t)\\cos\\alpha & -Y(t)\\sin\\alpha & -V_y \\\\\n",
    "Y'(t)\\sin\\alpha & Y(t)\\cos\\alpha & -V_z\n",
    "\\end{bmatrix}\n",
    "$$\n",
    "\n",
    "Note that interestingly $J$ doesn't depend on $u$.\n",
    "\n",
    "With a current parameter guess $\\theta_n = (t, \\alpha, u)$, use Newton method's and solve for $\\delta$ in this linear system:\n",
    "\n",
    "$$\n",
    "J(\\theta_n) \\delta = Q(\\theta_n)\n",
    "$$\n",
    "\n",
    "and update with\n",
    "\n",
    "$$\n",
    "\\theta_{n+1} = \\theta_n + \\delta\n",
    "$$"
   ]
  },
  {
   "cell_type": "code",
   "execution_count": 6,
   "id": "fee2bd22-ae99-424d-af43-6b1bcb7b63dd",
   "metadata": {},
   "outputs": [
    {
     "name": "stdout",
     "output_type": "stream",
     "text": [
      "[[-0.0, 0.0], [-0.3125, 2.5], [-1.25, 5.0], [-2.8125, 7.5], [-5.0, 10.0]]\n"
     ]
    }
   ],
   "source": [
    "import numpy as np\n",
    "import json\n",
    "\n",
    "\n",
    "Y = np.linspace(0, 10, 5)\n",
    "X = -0.05*Y**2\n",
    "\n",
    "js = json.dumps(list(zip(X, Y)))\n",
    "print(js)"
   ]
  }
 ],
 "metadata": {
  "kernelspec": {
   "display_name": "Python 3 (ipykernel)",
   "language": "python",
   "name": "python3"
  },
  "language_info": {
   "codemirror_mode": {
    "name": "ipython",
    "version": 3
   },
   "file_extension": ".py",
   "mimetype": "text/x-python",
   "name": "python",
   "nbconvert_exporter": "python",
   "pygments_lexer": "ipython3",
   "version": "3.12.3"
  }
 },
 "nbformat": 4,
 "nbformat_minor": 5
}
