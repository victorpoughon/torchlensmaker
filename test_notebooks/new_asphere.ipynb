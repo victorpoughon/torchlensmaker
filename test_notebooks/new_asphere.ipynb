{
 "cells": [
  {
   "cell_type": "code",
   "execution_count": null,
   "id": "d4dad65b-efe4-43ee-bd8b-e7114655c1f4",
   "metadata": {},
   "outputs": [],
   "source": [
    "import torchlensmaker as tlm\n",
    "import torch\n",
    "import json\n",
    "\n",
    "s1 = tlm.SagSurface(\n",
    "    1.0,\n",
    "    tlm.SagSum(\n",
    "        [\n",
    "            tlm.Spherical(C=torch.tensor(1/1))\n",
    "            #tlm.Conical(C=torch.tensor(1/2), K=torch.tensor(0.0)),\n",
    "            #tlm.Aspheric(torch.tensor([1.5, -1.0])),\n",
    "        ]\n",
    "    ),\n",
    ")\n",
    "\n",
    " \n",
    "optics = tlm.Sequential(\n",
    "    tlm.ReflectiveSurface(tlm.CircularPlane(1.0)),\n",
    "    tlm.PointSourceAtInfinity(1),\n",
    "    tlm.Gap(2),\n",
    "    tlm.RefractiveSurface(s1, material=\"BK7-nd\"),\n",
    ")\n",
    "\n",
    "tlm.show2d(optics, sampling={\"base\": 50}, end=1)\n",
    "tlm.show3d(optics, end=1)"
   ]
  },
  {
   "cell_type": "code",
   "execution_count": null,
   "id": "f7c5be9d-9ece-4fab-b692-797c7aa252db",
   "metadata": {},
   "outputs": [],
   "source": []
  }
 ],
 "metadata": {
  "kernelspec": {
   "display_name": "Python 3 (ipykernel)",
   "language": "python",
   "name": "python3"
  },
  "language_info": {
   "codemirror_mode": {
    "name": "ipython",
    "version": 3
   },
   "file_extension": ".py",
   "mimetype": "text/x-python",
   "name": "python",
   "nbconvert_exporter": "python",
   "pygments_lexer": "ipython3",
   "version": "3.12.3"
  }
 },
 "nbformat": 4,
 "nbformat_minor": 5
}
