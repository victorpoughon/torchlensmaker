{
 "cells": [
  {
   "cell_type": "markdown",
   "id": "0",
   "metadata": {},
   "source": [
    "# side quest"
   ]
  },
  {
   "cell_type": "markdown",
   "id": "1",
   "metadata": {},
   "source": [
    "## Sampling dimensions\n",
    "\n",
    "An optical systems is defined with a model that represents a physical reality where there are infinitely many rays of light emanating from light sources.\n",
    "\n",
    "In practice, when simulating, we need to decide how many rays we use for computation. This is called **sampling** and the number of rays is also called the number of samples.\n",
    "\n",
    "This is not to say that rays exist for all possible values for the ray variables. Sometimes they follow a particular distribution, like wavelength can be between 400 and 600nm only ; angular distribution can be restricted to [-10, 10]°, and so on. But those distributions are continuous, and infinitly many rays can follow them.\n",
    "\n",
    "A system defines multiple dimensions, corresponding to different continuous variables that uniquely describe a ray. For example, the coordinate of the source point of a ray is one possible dimension. Another one is the wavelength of the ray.\n",
    "\n",
    "* Base dimension: This dimension is always present unless we simulate a single ray. It's the dimension along which we sample when all other variables are fixed.\n",
    "\n",
    "-> rename to angular? at infinity angular becomes linear, but really it's still the emanating angle of the ray from the object\n",
    "\n",
    "can actually not exist if simulating a single ray\n",
    "  \n",
    "* Object dimension\n",
    "* Wavelength dimension\n",
    "* System configuration\n",
    "\n",
    "Additionally, the number of spatial dimension can also be 2 or 3. When doing a 2D simulation, rays are restricted to a single meridional plane and don't have a z coordinate. This simplifies the simulation considerably, but at the price of ignoring skew rays.\n",
    "\n",
    "Note that the meridional plane in the 2D simulation is abstract and not necessarily the Z=0 plane. If the system is not rotationally symmetric, 2D mode is not possible."
   ]
  },
  {
   "cell_type": "code",
   "execution_count": null,
   "id": "2",
   "metadata": {},
   "outputs": [],
   "source": [
    "import torch\n",
    "import torch.nn as nn\n",
    "import torchlensmaker as tlm\n",
    "\n",
    "\n",
    "from typing import Any\n",
    "\n",
    "Tensor = torch.Tensor\n",
    "\n",
    "\n",
    "def view(optics, sampling):\n",
    "    scene = tlm.viewer.render_sequence(optics, sampling)\n",
    "    #tlm.viewer.dump(scene, ndigits=2)\n",
    "    tlm.viewer.show(scene)\n",
    "\n",
    "surface = tlm.surfaces.Parabola(15.0, 0.020)\n",
    "surface2 = tlm.surfaces.Parabola(15.0, 0.030)\n",
    "surface3 = tlm.surfaces.Sphere(12, -20)\n",
    "\n",
    "optics = nn.Sequential(\n",
    "    tlm.PointSourceAtInfinity(18., 0),\n",
    "    tlm.Gap(5.0),\n",
    "    tlm.OpticalSurface(surface, anchors=(\"origin\", \"extent\")),\n",
    "    tlm.Gap(1.0),\n",
    "    tlm.OpticalSurface(surface2, scale=-1, anchors=(\"extent\", \"origin\")),\n",
    "    #tlm.Gap(0.5),\n",
    "    #tlm.OpticalSurface(surface3, anchors=(\"extent\", \"extent\")),\n",
    "    #tlm.Gap(5.0),\n",
    "    #tlm.OpticalSurface(surface3, scale=-1, anchors=(\"extent\", \"extent\")),\n",
    ")\n",
    "\n",
    "\n",
    "sampling = {\"dim\": 2, \"dtype\": torch.float64, \"base\": 10}\n",
    "view(optics, sampling)\n",
    "\n",
    "sampling = {\"dim\": 3, \"dtype\": torch.float64, \"base\": 10}\n",
    "view(optics, sampling)"
   ]
  },
  {
   "cell_type": "code",
   "execution_count": null,
   "id": "4",
   "metadata": {},
   "outputs": [],
   "source": [
    "# mode 1:  inline / chained / affecting\n",
    "# surface transform = input.transforms - anchor + scale\n",
    "# output transform = input.transforms - first anchor + second anchor\n",
    "\n",
    "# mode 2: offline / free / independent\n",
    "# surface transform = input.transforms + local transform - anchor + scale\n",
    "# output transform = input.transforms\n",
    "\n",
    "# how to support absolute position on chain?\n",
    "\n",
    "# RS(X - A) + T\n",
    "# surface transform(X) = CSX - A\n",
    "# surface transform = anchor1 + scale + chain\n",
    "# output transform = chain + anchor1 + anchor2"
   ]
  }
 ],
 "metadata": {
  "kernelspec": {
   "display_name": "Python 3 (ipykernel)",
   "language": "python",
   "name": "python3"
  },
  "language_info": {
   "codemirror_mode": {
    "name": "ipython",
    "version": 3
   },
   "file_extension": ".py",
   "mimetype": "text/x-python",
   "name": "python",
   "nbconvert_exporter": "python",
   "pygments_lexer": "ipython3",
   "version": "3.12.3"
  }
 },
 "nbformat": 4,
 "nbformat_minor": 5
}
