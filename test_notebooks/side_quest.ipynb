{
 "cells": [
  {
   "cell_type": "markdown",
   "id": "0",
   "metadata": {},
   "source": [
    "# side quest"
   ]
  },
  {
   "cell_type": "code",
   "execution_count": null,
   "id": "2",
   "metadata": {},
   "outputs": [],
   "source": [
    "import torch\n",
    "import torch.nn as nn\n",
    "import torchlensmaker as tlm\n",
    "\n",
    "\n",
    "surface1 = tlm.surfaces.Parabola(15.0, 0.020)\n",
    "surface2 = tlm.surfaces.Parabola(15.0, 0.030)\n",
    "surface3 = tlm.surfaces.Sphere(12, -20)\n",
    "\n",
    "optics = nn.Sequential(\n",
    "    tlm.PointSourceAtInfinity(18., 0),\n",
    "    tlm.Gap(5),\n",
    "    tlm.RefractiveSurface(surface1, n=(1.0, 1.5), anchors=(\"origin\", \"extent\")),\n",
    "    tlm.Gap(1),\n",
    "    tlm.RefractiveSurface(surface1, n=(1.5, 1.0), scale=-1, anchors=(\"extent\", \"origin\")),\n",
    "    tlm.Gap(0),\n",
    "    tlm.Aperture(10),\n",
    "    tlm.Gap(15),\n",
    "    tlm.ReflectiveSurface(surface3),\n",
    ")\n",
    "\n",
    "\n",
    "tlm.show(optics, mode=\"2D\", end=10)\n",
    "tlm.show(optics, mode=\"3D\", end=10)"
   ]
  },
  {
   "cell_type": "code",
   "execution_count": null,
   "id": "4",
   "metadata": {},
   "outputs": [],
   "source": [
    "# mode 1:  inline / chained / affecting\n",
    "# surface transform = input.transforms - anchor + scale\n",
    "# output transform = input.transforms - first anchor + second anchor\n",
    "\n",
    "# mode 2: offline / free / independent\n",
    "# surface transform = input.transforms + local transform - anchor + scale\n",
    "# output transform = input.transforms\n",
    "\n",
    "# how to support absolute position on chain?\n",
    "\n",
    "# RS(X - A) + T\n",
    "# surface transform(X) = CSX - A\n",
    "# surface transform = anchor1 + scale + chain\n",
    "# output transform = chain + anchor1 + anchor2"
   ]
  }
 ],
 "metadata": {
  "kernelspec": {
   "display_name": "Python 3 (ipykernel)",
   "language": "python",
   "name": "python3"
  },
  "language_info": {
   "codemirror_mode": {
    "name": "ipython",
    "version": 3
   },
   "file_extension": ".py",
   "mimetype": "text/x-python",
   "name": "python",
   "nbconvert_exporter": "python",
   "pygments_lexer": "ipython3",
   "version": "3.12.3"
  }
 },
 "nbformat": 4,
 "nbformat_minor": 5
}
