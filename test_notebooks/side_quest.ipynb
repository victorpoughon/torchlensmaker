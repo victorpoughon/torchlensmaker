{
 "cells": [
  {
   "cell_type": "markdown",
   "id": "0",
   "metadata": {},
   "source": [
    "# side quest"
   ]
  },
  {
   "cell_type": "code",
   "execution_count": null,
   "id": "4",
   "metadata": {},
   "outputs": [],
   "source": [
    "# mode 1:  inline / chained / affecting\n",
    "# surface transform = input.transforms - anchor + scale\n",
    "# output transform = input.transforms - first anchor + second anchor\n",
    "\n",
    "# mode 2: offline / free / independent\n",
    "# surface transform = input.transforms + local transform - anchor + scale\n",
    "# output transform = input.transforms\n",
    "\n",
    "# how to support absolute position on chain?\n",
    "\n",
    "# RS(X - A) + T\n",
    "# surface transform(X) = CSX - A\n",
    "# surface transform = anchor1 + scale + chain\n",
    "# output transform = chain + anchor1 + anchor2"
   ]
  },
  {
   "cell_type": "raw",
   "id": "7f4c955f-04c5-41d8-b421-7e01828c3091",
   "metadata": {},
   "source": [
    "\n",
    "----\n",
    "\n",
    "PointAtInfinity\n",
    "    P = LinearDimension('base', domain = beam diameter / beam cross section / hit 100% of first surface, distribution)\n",
    "    V = [const spherical rotation = point apparent angular position]\n",
    "    > element position = start of rays\n",
    "\n",
    "ObjectAtInfinity\n",
    "    P = PointAtInfinity.P\n",
    "    V = PointAtInfinity.V [.] AngularDimension('object', domain = apparent angular shape)\n",
    "    > element position = start of rays\n",
    "\n",
    "PointAtDistance\n",
    "    P = [const translation = relative point position]\n",
    "    V = AngularDimension('base', domain = beam angular size / beam angular cross section / hit 100% of first surface)\n",
    "    > add trick to make rays start at element position (move rays forward by some t)\n",
    "\n",
    "ObjectAtDistance\n",
    "    P = PointAtDistance.P [.] LinearDimension('object', domain = object shape)\n",
    "    V = PointAtDistance.V\n",
    "    > add trick to make rays start at element position (move rays forward by some t)\n",
    "\n",
    "\n",
    "Additional dimensions:\n",
    "    Var = Dimension('name', domain=...)\n",
    "\n",
    "\n",
    "Wavelength\n",
    "    const = no wavelength info\n",
    "    var = wavelength in mn\n",
    "\n",
    "Material:\n",
    "    const = constant index of refraction\n",
    "    var = variable index of refraction: temperature...\n",
    "\n",
    "Refraction model inputs:\n",
    "    wavelength\n",
    "    material\n",
    "    temperature\n",
    "    any other var\n",
    "\n",
    "---\n",
    "Simple version: trivial spherical / circular domains + linspace distribution\n",
    "\n",
    "PointAtInfinity\n",
    "    P = LinearDimension('base', domain = circular beam diameter)\n",
    "    V = [unit X vector]\n",
    "    > element position = start of rays\n",
    "\n",
    "ObjectAtInfinity\n",
    "    P = PointAtInfinity.P\n",
    "    V = AngularDimension('object', domain = object apparent angular size // all objects are circles)\n",
    "    > element position = start of rays\n",
    "\n",
    "PointAtDistance\n",
    "    P = [0]\n",
    "    V = AngularDimension('base', domain = beam angular size)\n",
    "    > add trick to make rays start at element position (move rays forward by some t)\n",
    "\n",
    "ObjectAtDistance\n",
    "    P = LinearDimension('object', domain = object physical diameter // all objects are circles)\n",
    "    V = PointAtDistance.V\n",
    "    > add trick to make rays start at element position (move rays forward by some t)\n",
    "\n",
    "---\n",
    "\n",
    "LinearDimension(origin, domain, number of samples)\n",
    "AngularDimension(origin, domain, number of samples)"
   ]
  },
  {
   "cell_type": "code",
   "execution_count": null,
   "id": "6f563716-4e91-4265-b10b-61454334208e",
   "metadata": {},
   "outputs": [],
   "source": []
  },
  {
   "cell_type": "code",
   "execution_count": null,
   "id": "643d9c99-535e-40d1-8e7e-5518c4798925",
   "metadata": {},
   "outputs": [],
   "source": []
  }
 ],
 "metadata": {
  "kernelspec": {
   "display_name": "Python 3 (ipykernel)",
   "language": "python",
   "name": "python3"
  },
  "language_info": {
   "codemirror_mode": {
    "name": "ipython",
    "version": 3
   },
   "file_extension": ".py",
   "mimetype": "text/x-python",
   "name": "python",
   "nbconvert_exporter": "python",
   "pygments_lexer": "ipython3",
   "version": "3.12.3"
  }
 },
 "nbformat": 4,
 "nbformat_minor": 5
}
