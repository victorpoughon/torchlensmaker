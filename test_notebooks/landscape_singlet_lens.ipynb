{
 "cells": [
  {
   "cell_type": "markdown",
   "id": "0",
   "metadata": {},
   "source": [
    "# Landscape Singlet Lens"
   ]
  },
  {
   "cell_type": "markdown",
   "id": "2",
   "metadata": {},
   "source": [
    "## Landscape rear configuration"
   ]
  },
  {
   "cell_type": "code",
   "execution_count": null,
   "id": "11c830a6-103b-40c8-b8af-1f863ec783ab",
   "metadata": {},
   "outputs": [],
   "source": [
    "import torch\n",
    "import torch.nn as nn\n",
    "import torchlensmaker as tlm\n",
    "import torch.optim as optim\n",
    "\n",
    "# Setup two spherical surfaces with initial radiuses\n",
    "surface1 = tlm.Sphere(diameter=30, R=tlm.parameter(-60))\n",
    "surface2 = tlm.Sphere(diameter=30, R=tlm.parameter(-35))\n",
    "\n",
    "lens = tlm.Lens(surface1, surface2, material=\"BK7-nd\", outer_thickness=2.2)\n",
    "\n",
    "focal = 120.5\n",
    "\n",
    "# Build the optical sequence\n",
    "optics = nn.Sequential(\n",
    "    tlm.ObjectAtInfinity(beam_diameter=8, angular_size=30),\n",
    "    tlm.Gap(15),\n",
    "    lens,\n",
    "    tlm.Gap(focal),\n",
    "    tlm.ImagePlane(diameter=100, magnification=125.),\n",
    ")\n",
    "\n",
    "tlm.show(optics, dim=2, sampling={\"base\": 10, \"object\": 5, \"sampler\": \"uniform\"})\n",
    "\n",
    "tlm.plot_magnification(optics, sampling={\"base\": 10, \"object\": 5, \"sampler\": \"uniform\"})\n"
   ]
  },
  {
   "cell_type": "code",
   "execution_count": null,
   "id": "5ccde893-1566-4091-97e6-0e2e1e46676d",
   "metadata": {},
   "outputs": [],
   "source": [
    "# Find the best parameters for the shapes\n",
    "tlm.optimize(\n",
    "    optics,\n",
    "    optimizer = optim.Adam(optics.parameters(), lr=5e-4),\n",
    "    sampling = {\"base\": 10, \"object\": 5, \"sampler\": \"uniform\"},\n",
    "    dim = 2,\n",
    "    num_iter = 300,\n",
    ").plot()\n",
    "\n",
    "# TODO add regularization: both surfaces positive/negative radius\n",
    "\n",
    "# TODO always zero out y axis of loss plot\n",
    "\n",
    "tlm.show(optics, dim=2, sampling={\"base\": 10, \"object\": 5, \"sampler\": \"uniform\"})\n",
    "tlm.plot_magnification(optics, sampling={\"base\": 10, \"object\": 5, \"sampler\": \"uniform\"})"
   ]
  },
  {
   "cell_type": "code",
   "execution_count": null,
   "id": "7e617d22-3a5e-4f3d-9211-a5a843e328f3",
   "metadata": {},
   "outputs": [],
   "source": []
  },
  {
   "cell_type": "markdown",
   "id": "4",
   "metadata": {},
   "source": [
    "## Landscape front configuration"
   ]
  },
  {
   "cell_type": "code",
   "execution_count": null,
   "id": "5",
   "metadata": {},
   "outputs": [],
   "source": [
    "import torch\n",
    "import torch.nn as nn\n",
    "import torchlensmaker as tlm\n",
    "import torch.optim as optim\n",
    "\n",
    "# Setup two spherical surfaces with initial radiuses\n",
    "surface1 = tlm.Sphere(diameter=30, R=tlm.parameter(torch.tensor(35.)))\n",
    "surface2 = tlm.Sphere(diameter=30, R=tlm.parameter(torch.tensor(55.)))\n",
    "\n",
    "lens = tlm.Lens(surface1, surface2, material=\"BK7-nd\", outer_thickness=3)\n",
    "\n",
    "# Build the optical sequence\n",
    "optics = nn.Sequential(\n",
    "    tlm.ObjectAtInfinity(beam_diameter=30, angular_size=20),\n",
    "    tlm.Gap(15),\n",
    "    lens,\n",
    "    tlm.Gap(20),\n",
    "    tlm.Aperture(10),\n",
    "    tlm.Gap(120),\n",
    "    tlm.ImagePlane(diameter=120, magnification=None),\n",
    ")\n",
    "\n",
    "tlm.show(optics, dim=2, sampling={\"base\": 10, \"object\": 5, \"sampler\": \"uniform\"})\n",
    "tlm.plot_magnification(optics, sampling={\"base\": 10, \"object\": 5, \"sampler\": \"uniform\"})"
   ]
  },
  {
   "cell_type": "code",
   "execution_count": null,
   "id": "6a64e62a-8d67-4ba5-964b-64b58539ebfb",
   "metadata": {
    "jupyter": {
     "outputs_hidden": true
    }
   },
   "outputs": [],
   "source": [
    "# Find the best parameters for the shapes\n",
    "tlm.optimize(\n",
    "    optics,\n",
    "    optimizer = optim.Adam(optics.parameters(), lr=1e-3),\n",
    "    sampling = {\"base\": 10, \"object\": 5, \"sampler\": \"uniform\"},\n",
    "    dim = 2,\n",
    "    num_iter = 400,\n",
    ").plot()\n",
    "\n",
    "\n",
    "tlm.show(optics, dim=2, sampling={\"base\": 10, \"object\": 11, \"sampler\": \"uniform\"})\n",
    "tlm.plot_magnification(optics, sampling={\"base\": 10, \"object\": 5, \"sampler\": \"uniform\"})"
   ]
  },
  {
   "cell_type": "code",
   "execution_count": null,
   "id": "6",
   "metadata": {},
   "outputs": [],
   "source": [
    "part = tlm.export.lens_to_part(lens)\n",
    "tlm.show_part(part)"
   ]
  },
  {
   "cell_type": "code",
   "execution_count": null,
   "id": "0694cbc1-c3a1-4b8d-883f-5783880683c0",
   "metadata": {},
   "outputs": [],
   "source": []
  }
 ],
 "metadata": {
  "kernelspec": {
   "display_name": "Python 3 (ipykernel)",
   "language": "python",
   "name": "python3"
  },
  "language_info": {
   "codemirror_mode": {
    "name": "ipython",
    "version": 3
   },
   "file_extension": ".py",
   "mimetype": "text/x-python",
   "name": "python",
   "nbconvert_exporter": "python",
   "pygments_lexer": "ipython3",
   "version": "3.12.3"
  }
 },
 "nbformat": 4,
 "nbformat_minor": 5
}
