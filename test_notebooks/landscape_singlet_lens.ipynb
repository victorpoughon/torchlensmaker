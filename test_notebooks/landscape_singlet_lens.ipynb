{
 "cells": [
  {
   "cell_type": "markdown",
   "id": "0",
   "metadata": {},
   "source": [
    "# Landscape Singlet Lens"
   ]
  },
  {
   "cell_type": "markdown",
   "id": "2",
   "metadata": {},
   "source": [
    "## Landscape rear configuration"
   ]
  },
  {
   "cell_type": "code",
   "execution_count": null,
   "id": "40392467-9d1a-4820-854d-3b0285114c74",
   "metadata": {},
   "outputs": [],
   "source": [
    "import torch\n",
    "import torchlensmaker as tlm\n",
    "\n",
    "import matplotlib.pyplot as plt\n",
    "\n",
    "def linear_magnification(object_coordinates, image_coordinates):\n",
    "    T, V = object_coordinates, image_coordinates\n",
    "\n",
    "    # Fit linear magnification with least square and compute residuals\n",
    "    mag = torch.sum(T * V) / torch.sum(T**2)\n",
    "    residuals = V - mag * T\n",
    "\n",
    "    return mag, residuals\n",
    "    \n",
    "\n",
    "def plot_magnification(optics, sampling):\n",
    "    \"\"\"\n",
    "    Compute and plot magnification data for the given optical system\n",
    "    The system must compute object and image coordinates\n",
    "    \"\"\"\n",
    "\n",
    "    # TODO add color_dim\n",
    "\n",
    "    # Evaluate the optical stack\n",
    "    output = optics(tlm.default_input(dim=2, dtype=torch.float64, sampling=sampling))\n",
    "\n",
    "    # Extract object and image coordinate (called T and V)\n",
    "    T = output.rays_object\n",
    "    V = output.rays_image\n",
    "\n",
    "    mag, _ = linear_magnification(T, V)\n",
    "\n",
    "    fig, ax = plt.subplots(figsize=(12, 8))\n",
    "    ax.plot(T.detach().numpy(), V.detach().numpy(), linestyle=\"none\", marker=\"+\")\n",
    "\n",
    "    X = torch.linspace(T.min().item(), T.max().item(), 50)\n",
    "    ax.plot(\n",
    "        X.detach().numpy(),\n",
    "        (mag * X).detach().numpy(),\n",
    "        color=\"lightgrey\",\n",
    "        label=f\"mag = {mag:.2f}\",\n",
    "    )\n",
    "\n",
    "    ax.set_xlabel(\"Object coordinates\")\n",
    "    ax.set_ylabel(\"Image coordinates\")\n",
    "    ax.legend()\n",
    "\n",
    "    plt.show()\n"
   ]
  },
  {
   "cell_type": "code",
   "execution_count": null,
   "id": "11c830a6-103b-40c8-b8af-1f863ec783ab",
   "metadata": {},
   "outputs": [],
   "source": [
    "import torch\n",
    "import torch.nn as nn\n",
    "import torchlensmaker as tlm\n",
    "import torch.optim as optim\n",
    "\n",
    "# Setup two spherical surfaces with initial radiuses\n",
    "surface1 = tlm.Sphere(diameter=30, r=tlm.parameter(torch.tensor(-65.)))\n",
    "surface2 = tlm.Sphere(diameter=30, r=tlm.parameter(torch.tensor(-25.)))\n",
    "\n",
    "lens = tlm.Lens(surface1, surface2, (1.0, 1.5), outer_thickness=3)\n",
    "\n",
    "# Build the optical sequence\n",
    "optics = nn.Sequential(\n",
    "    tlm.ObjectAtInfinity(beam_diameter=10, angular_size=20),\n",
    "    tlm.Gap(15),\n",
    "    lens,\n",
    "    tlm.Gap(70),\n",
    "    tlm.ImagePlane(diameter=60),\n",
    ")\n",
    "\n",
    "tlm.show(optics, dim=2, end=100, sampling={\"base\": 10, \"object\": 5, \"sampler\": \"uniform\"}, color_dim=\"object\")\n",
    "\n",
    "plot_magnification(optics, sampling={\"base\": 10, \"object\": 5, \"sampler\": \"uniform\"})\n"
   ]
  },
  {
   "cell_type": "code",
   "execution_count": null,
   "id": "5ccde893-1566-4091-97e6-0e2e1e46676d",
   "metadata": {},
   "outputs": [],
   "source": [
    "# Find the best parameters for the shapes\n",
    "tlm.optimize(\n",
    "    optics,\n",
    "    optimizer = optim.Adam(optics.parameters(), lr=1e-4),\n",
    "    sampling = {\"rays\": 10, \"object\": 10},\n",
    "    num_iter = 100,\n",
    ")\n",
    "\n",
    "# Render with final values\n",
    "tlm.render_plt(optics, sampling={\"rays\": 10, \"object\": 5}, color_dim=\"object\")\n",
    "tlm.plot_magnification(optics, sampling={\"rays\": 10, \"object\": 5})"
   ]
  },
  {
   "cell_type": "markdown",
   "id": "4",
   "metadata": {},
   "source": [
    "## Landscape front configuration"
   ]
  },
  {
   "cell_type": "code",
   "execution_count": null,
   "id": "5",
   "metadata": {},
   "outputs": [],
   "source": [
    "import torch\n",
    "import torchlensmaker as tlm\n",
    "import torch.optim as optim\n",
    "\n",
    "# Setup two spherical surfaces with initial radiuses\n",
    "shape1 = tlm.CircularArc(height=30, r=tlm.Parameter(torch.tensor(25.)))\n",
    "shape2 = tlm.CircularArc(height=30, r=tlm.Parameter(torch.tensor(65.)))\n",
    "\n",
    "lens = tlm.AsymmetricLens(shape1, shape2, (1.0, 1.5), outer_thickness=3.)\n",
    "\n",
    "# Build the optical sequence\n",
    "optics = tlm.OpticalSequence(\n",
    "    tlm.ObjectAtInfinity(beam_diameter=40, angular_size=40),\n",
    "    tlm.Gap(15),\n",
    "    lens,\n",
    "    tlm.Gap(20),\n",
    "    tlm.Aperture(height=50, diameter=10),\n",
    "    tlm.Gap(100),\n",
    "    tlm.ImagePlane(height=100),\n",
    ")\n",
    "\n",
    "# Render the optical configuration with initial values\n",
    "# Sample 10 rays per location, and 5 object locations: total = 50 rays\n",
    "tlm.render_plt(optics, color_dim=\"object\", sampling={\"rays\": 10, \"object\": 5})\n",
    "tlm.plot_magnification(optics, sampling={\"rays\": 10, \"object\": 5})\n",
    "\n",
    "# Find the best parameters for the shapes\n",
    "tlm.optimize(\n",
    "    optics,\n",
    "    optimizer = optim.Adam(optics.parameters(), lr=1e-4),\n",
    "    sampling = {\"rays\": 10, \"object\": 10},\n",
    "    num_iter = 200,\n",
    ")\n",
    "\n",
    "# Render with final values\n",
    "tlm.render_plt(optics, sampling={\"rays\": 30, \"object\": 5}, color_dim=\"object\")\n",
    "tlm.plot_magnification(optics, sampling={\"rays\": 10, \"object\": 5})"
   ]
  },
  {
   "cell_type": "code",
   "execution_count": null,
   "id": "6",
   "metadata": {},
   "outputs": [],
   "source": [
    "from IPython.display import display\n",
    "import build123d as bd\n",
    "\n",
    "part = tlm.lens_to_part(lens)\n",
    "display(part)"
   ]
  }
 ],
 "metadata": {
  "kernelspec": {
   "display_name": "Python 3 (ipykernel)",
   "language": "python",
   "name": "python3"
  },
  "language_info": {
   "codemirror_mode": {
    "name": "ipython",
    "version": 3
   },
   "file_extension": ".py",
   "mimetype": "text/x-python",
   "name": "python",
   "nbconvert_exporter": "python",
   "pygments_lexer": "ipython3",
   "version": "3.12.3"
  }
 },
 "nbformat": 4,
 "nbformat_minor": 5
}
