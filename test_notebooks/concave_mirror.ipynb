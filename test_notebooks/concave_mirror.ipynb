{
 "cells": [
  {
   "cell_type": "markdown",
   "id": "32682f2f-1808-47f4-9a5f-49529badd32c",
   "metadata": {},
   "source": [
    "# Concave mirror"
   ]
  },
  {
   "cell_type": "code",
   "execution_count": null,
   "id": "091f8051-c608-4cc4-af2b-efde15cafcd0",
   "metadata": {
    "editable": true,
    "slideshow": {
     "slide_type": ""
    },
    "tags": []
   },
   "outputs": [],
   "source": [
    "import torch\n",
    "import torch.nn as nn\n",
    "import torch.optim as optim\n",
    "import torchlensmaker as tlm\n",
    "\n",
    "surface = tlm.Parabola(diameter=35.0, A=tlm.parameter(-0.002))\n",
    "\n",
    "optics = nn.Sequential(\n",
    "    tlm.PointSourceAtInfinity(beam_diameter=25),\n",
    "    tlm.Gap(100),\n",
    "    tlm.ReflectiveSurface(surface),\n",
    "    tlm.Gap(-50),\n",
    "    tlm.FocalPoint(),\n",
    ")\n",
    "\n",
    "tlm.show(optics, dim=2)\n",
    "tlm.show(optics, dim=3)"
   ]
  },
  {
   "cell_type": "code",
   "execution_count": null,
   "id": "bbb04964-55ed-40e4-ba9d-fb156cdb2ee4",
   "metadata": {},
   "outputs": [],
   "source": [
    "tlm.optimize(\n",
    "    optics,\n",
    "    optimizer = optim.Adam(optics.parameters(), lr=1e-4),\n",
    "    sampling = {\"base\": 10},\n",
    "    dim = 2,\n",
    "    num_iter = 100\n",
    ").plot()"
   ]
  },
  {
   "cell_type": "code",
   "execution_count": null,
   "id": "c8e4876f-34cc-4893-a91c-a7e0231bd90a",
   "metadata": {},
   "outputs": [],
   "source": [
    "tlm.show(optics, dim=2)\n",
    "tlm.show(optics, dim=3)"
   ]
  },
  {
   "cell_type": "code",
   "execution_count": null,
   "id": "c421f551-4810-4f25-bb8f-a5ec4f0be9f9",
   "metadata": {},
   "outputs": [],
   "source": []
  }
 ],
 "metadata": {
  "kernelspec": {
   "display_name": "Python 3 (ipykernel)",
   "language": "python",
   "name": "python3"
  },
  "language_info": {
   "codemirror_mode": {
    "name": "ipython",
    "version": 3
   },
   "file_extension": ".py",
   "mimetype": "text/x-python",
   "name": "python",
   "nbconvert_exporter": "python",
   "pygments_lexer": "ipython3",
   "version": "3.12.3"
  }
 },
 "nbformat": 4,
 "nbformat_minor": 5
}
