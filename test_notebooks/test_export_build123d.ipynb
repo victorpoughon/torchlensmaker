{
 "cells": [
  {
   "cell_type": "markdown",
   "id": "e6c63aa8-688c-452f-a8f2-da4244d0ba51",
   "metadata": {},
   "source": [
    "# Export with build123"
   ]
  },
  {
   "cell_type": "code",
   "execution_count": null,
   "id": "0",
   "metadata": {},
   "outputs": [],
   "source": [
    "import torchlensmaker as tlm\n",
    "from torchlensmaker.export_build123d import surface_to_sketch\n",
    "\n",
    "\n",
    "# TODO add SphereR\n",
    "\n",
    "test_shapes = [\n",
    "    tlm.Sphere(15.0, 20.0),\n",
    "    tlm.Sphere(15.0, -20.0),\n",
    "    tlm.Parabola(15.0, 0.02),\n",
    "    tlm.Parabola(15.0, -0.02),\n",
    "    tlm.CircularPlane(15.0),\n",
    "]\n",
    "\n",
    "for shape in test_shapes:\n",
    "    sk = surface_to_sketch(shape)\n",
    "    if not tlm.viewer.vue_format_requested():\n",
    "        display(sk)"
   ]
  },
  {
   "cell_type": "code",
   "execution_count": null,
   "id": "13668be8-1d84-4634-b2c8-f89fa0d3660a",
   "metadata": {},
   "outputs": [],
   "source": []
  }
 ],
 "metadata": {
  "kernelspec": {
   "display_name": "Python 3 (ipykernel)",
   "language": "python",
   "name": "python3"
  },
  "language_info": {
   "codemirror_mode": {
    "name": "ipython",
    "version": 3
   },
   "file_extension": ".py",
   "mimetype": "text/x-python",
   "name": "python",
   "nbconvert_exporter": "python",
   "pygments_lexer": "ipython3",
   "version": "3.12.3"
  }
 },
 "nbformat": 4,
 "nbformat_minor": 5
}
