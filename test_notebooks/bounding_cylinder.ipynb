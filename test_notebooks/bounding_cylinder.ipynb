{
 "cells": [
  {
   "cell_type": "markdown",
   "id": "b99962f7-5e2a-4d82-9bdb-bbee6c74a204",
   "metadata": {},
   "source": [
    "# Bounding cylinder of sag surfaces"
   ]
  },
  {
   "cell_type": "code",
   "execution_count": null,
   "id": "c63ec67f-6102-4e7c-996b-3dbb509f8a32",
   "metadata": {},
   "outputs": [],
   "source": [
    "import torchlensmaker as tlm\n",
    "import torch\n",
    "import json\n",
    "\n",
    "sphere = tlm.Sphere(10, R=6.5)\n",
    "parabola = tlm.Parabola(10, A=-0.2, normalize=True)\n",
    "conic = tlm.SagSurface(10, tlm.Conical(C=torch.tensor(1.0), K=torch.tensor(-4.5), normalize=True))\n",
    "aspheric1 = tlm.SagSurface(10, tlm.Aspheric(coefficients=torch.tensor([1, 0.0, 0.0]), normalize=True))\n",
    "aspheric2 = tlm.SagSurface(10, tlm.Aspheric(coefficients=torch.tensor([0.0, -1, 0.5]), normalize=True))\n",
    "aspheric3 = tlm.SagSurface(10, tlm.Aspheric(coefficients=torch.tensor([0.0, 0.0, 1]), normalize=True))\n",
    "\n",
    "sum0 = tlm.SagSurface(10, tlm.SagSum([\n",
    "    tlm.Aspheric(coefficients=torch.tensor([0.0, -1, 0.5]), normalize=True),\n",
    "]))\n",
    "\n",
    "optics = tlm.Sequential(\n",
    "    tlm.Gap(5),\n",
    "    tlm.ReflectiveSurface(sphere),\n",
    "    tlm.Gap(5),\n",
    "    tlm.Rotate(tlm.ReflectiveSurface(parabola), [15., -10]),\n",
    "    tlm.Gap(5),\n",
    "    tlm.Rotate(tlm.ReflectiveSurface(conic), [-15., 10]),\n",
    "    tlm.Gap(5),\n",
    "    #tlm.Rotate(tlm.ReflectiveSurface(aspheric1), [25., -10]),\n",
    "    tlm.Rotate(tlm.ReflectiveSurface(aspheric2), [25., -10]),\n",
    "    #tlm.Rotate(tlm.ReflectiveSurface(aspheric3), [25., -10]),\n",
    "    tlm.Gap(5),\n",
    "    tlm.ReflectiveSurface(sum0),\n",
    ")\n",
    "\n",
    "scene2d = tlm.show2d(optics, controls={\"show_optical_axis\": True, \"show_bounding_cylinders\": True}, return_scene=True)\n",
    "scene3d = tlm.show3d(optics, controls={\"show_optical_axis\": True, \"show_bounding_cylinders\": True}, return_scene=True)\n",
    "\n",
    "print(json.dumps(scene2d))\n",
    "print(json.dumps(scene3d))"
   ]
  },
  {
   "cell_type": "code",
   "execution_count": null,
   "id": "bf012f51-415d-4656-b484-3c154c32f68c",
   "metadata": {},
   "outputs": [],
   "source": [
    "torch.sum(torch.tensor((), dtype=torch.float64))"
   ]
  },
  {
   "cell_type": "code",
   "execution_count": null,
   "id": "f50d8bdf-d330-4d0e-a233-e5d3aa61202e",
   "metadata": {},
   "outputs": [],
   "source": []
  },
  {
   "cell_type": "code",
   "execution_count": null,
   "id": "61efae1c-fb15-4a62-9d99-46b5fe3c9d7c",
   "metadata": {},
   "outputs": [],
   "source": []
  }
 ],
 "metadata": {
  "kernelspec": {
   "display_name": "Python 3 (ipykernel)",
   "language": "python",
   "name": "python3"
  },
  "language_info": {
   "codemirror_mode": {
    "name": "ipython",
    "version": 3
   },
   "file_extension": ".py",
   "mimetype": "text/x-python",
   "name": "python",
   "nbconvert_exporter": "python",
   "pygments_lexer": "ipython3",
   "version": "3.12.3"
  }
 },
 "nbformat": 4,
 "nbformat_minor": 5
}
