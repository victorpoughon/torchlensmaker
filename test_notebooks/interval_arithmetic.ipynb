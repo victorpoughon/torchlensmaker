{
 "cells": [
  {
   "cell_type": "code",
   "execution_count": null,
   "id": "fb0ad5c0-d8e3-4f74-8ef6-ccc70ef9bf92",
   "metadata": {},
   "outputs": [],
   "source": [
    "import torch\n",
    "\n",
    "Tensor = torch.Tensor\n",
    "\n",
    "# given input tensor batched, with last dim 2 (inf, sup)\n",
    "\n",
    "\n",
    "c = torch.tensor([\n",
    "    [-1, 0.5, 0.1],\n",
    "    [-0.1, 0, 5],\n",
    "    [-2, 4, 1],\n",
    "    [1, 1, 0]\n",
    "], dtype=torch.float64)\n",
    "\n",
    "\n",
    "from torchlensmaker.core.intari import *\n",
    "\n",
    "tau = torch.tensor(2., dtype=torch.float64)\n",
    "\n",
    "p = torch.arange(4).unsqueeze(1).tile((1, 3))\n",
    "q = torch.arange(3).unsqueeze(0).tile((4, 1))\n",
    "\n",
    "yp = intari_monomial(p, tau)\n",
    "zq = intari_monomial(q, tau)\n",
    "prod = intari_product(yp, zq)\n",
    "final = intari_scalar(c, prod)\n",
    "\n",
    "print(final.sum(dim=0).sum(dim=0))"
   ]
  },
  {
   "cell_type": "code",
   "execution_count": null,
   "id": "ca6e2b7f-2ca1-4c0c-80f4-6c4162af5b9f",
   "metadata": {},
   "outputs": [],
   "source": []
  }
 ],
 "metadata": {
  "kernelspec": {
   "display_name": "Python 3 (ipykernel)",
   "language": "python",
   "name": "python3"
  },
  "language_info": {
   "codemirror_mode": {
    "name": "ipython",
    "version": 3
   },
   "file_extension": ".py",
   "mimetype": "text/x-python",
   "name": "python",
   "nbconvert_exporter": "python",
   "pygments_lexer": "ipython3",
   "version": "3.12.3"
  }
 },
 "nbformat": 4,
 "nbformat_minor": 5
}
