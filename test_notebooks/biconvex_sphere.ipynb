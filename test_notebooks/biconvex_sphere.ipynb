{
 "cells": [
  {
   "cell_type": "markdown",
   "id": "2a01becd-589d-40b7-b821-f5152f468e1f",
   "metadata": {},
   "source": [
    "# Biconvex Spherical lens"
   ]
  },
  {
   "cell_type": "code",
   "execution_count": null,
   "id": "94180b05-ed97-4d0a-86fd-2155534912c9",
   "metadata": {},
   "outputs": [],
   "source": [
    "import torch\n",
    "import torch.nn as nn\n",
    "import torchlensmaker as tlm\n",
    "\n",
    "Tensor = torch.Tensor\n",
    "\n",
    "\n",
    "def view(optics, sampling):\n",
    "    scene = tlm.viewer.render_sequence(optics, sampling, end=40)\n",
    "    #tlm.viewer.dump(scene, ndigits=2)\n",
    "    tlm.viewer.ipython_display(scene)\n",
    "\n",
    "surface = tlm.surfaces.Sphere(12, 20)\n",
    "\n",
    "optics = nn.Sequential(\n",
    "    tlm.PointSourceAtInfinity(18., 0),\n",
    "    tlm.Gap(10),\n",
    "    tlm.RefractiveSurface(surface, n=(1.0, 1.5), anchors=(\"origin\", \"extent\")),\n",
    "    tlm.Gap(0),\n",
    "    tlm.RefractiveSurface(surface, n=(1.5, 1.0), scale=-1, anchors=(\"extent\", \"origin\")),\n",
    ")\n",
    "\n",
    "\n",
    "sampling = {\"dim\": 2, \"dtype\": torch.float64, \"base\": 10}\n",
    "view(optics, sampling)\n",
    "\n",
    "sampling = {\"dim\": 3, \"dtype\": torch.float64, \"base\": 10}\n",
    "view(optics, sampling)"
   ]
  },
  {
   "cell_type": "code",
   "execution_count": null,
   "id": "7c22232e-b9ee-4b5b-9989-c9810e109cad",
   "metadata": {},
   "outputs": [],
   "source": []
  }
 ],
 "metadata": {
  "kernelspec": {
   "display_name": "Python 3 (ipykernel)",
   "language": "python",
   "name": "python3"
  },
  "language_info": {
   "codemirror_mode": {
    "name": "ipython",
    "version": 3
   },
   "file_extension": ".py",
   "mimetype": "text/x-python",
   "name": "python",
   "nbconvert_exporter": "python",
   "pygments_lexer": "ipython3",
   "version": "3.12.3"
  }
 },
 "nbformat": 4,
 "nbformat_minor": 5
}
