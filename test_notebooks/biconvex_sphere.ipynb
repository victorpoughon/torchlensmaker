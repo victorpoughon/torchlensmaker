{
 "cells": [
  {
   "cell_type": "markdown",
   "id": "2a01becd-589d-40b7-b821-f5152f468e1f",
   "metadata": {},
   "source": [
    "# Biconvex Spherical lens"
   ]
  },
  {
   "cell_type": "code",
   "execution_count": null,
   "id": "d5c49585-0fcf-49d3-ab41-7842edb2a248",
   "metadata": {},
   "outputs": [],
   "source": [
    "import torch\n",
    "import torchlensmaker as tlm\n",
    "import torch.optim as optim\n",
    "\n",
    "import math\n",
    "\n",
    "def get_all_gradients(model):\n",
    "    grads = []\n",
    "    for param in model.parameters():\n",
    "        if param.grad is not None:\n",
    "            grads.append(param.grad.view(-1))\n",
    "    return torch.cat(grads)\n",
    "\n",
    "def train(optics, dim, dtype, num_iter, nshow=20):\n",
    "    optimizer = optim.Adam(optics.parameters(), lr=4e-3)\n",
    "    sampling = {\"dim\": dim, \"dtype\": dtype, \"base\": 10}\n",
    "    \n",
    "    default_input = tlm.default_input(sampling)\n",
    "\n",
    "    show_every = math.ceil(num_iter / nshow)\n",
    "\n",
    "    \n",
    "    for i in range(num_iter):\n",
    "        optimizer.zero_grad()\n",
    "\n",
    "        # evaluate the model\n",
    "        outputs = optics(default_input)\n",
    "        loss = outputs.loss\n",
    "        loss.backward()\n",
    "\n",
    "        grad = get_all_gradients(optics)\n",
    "        if torch.isnan(grad).any():\n",
    "            print(\"ERROR: nan in grad\", grad)\n",
    "            raise RuntimeError(\"nan in gradient, check your torch.where() =)\")\n",
    "        \n",
    "        optimizer.step()\n",
    "\n",
    "        if i % show_every == 0:\n",
    "            iter_str = f\"[{i:>3}/{num_iter}]\"\n",
    "            L_str = f\"L= {loss.item():>6.3f} | grad norm= {torch.linalg.norm(grad)}\"\n",
    "            print(f\"{iter_str} {L_str}\")\n",
    "\n",
    "\n",
    "\n",
    "\n",
    "surface = tlm.surfaces.Sphere(diameter=15, r=tlm.parameter(20))\n",
    "\n",
    "optics = tlm.Sequential(\n",
    "    tlm.PointSourceAtInfinity(beam_diameter=18.5),\n",
    "    tlm.Gap(10),\n",
    "    tlm.RefractiveSurface(surface, n=(1.0, 1.5), anchors=(\"origin\", \"extent\")),\n",
    "    tlm.Gap(2),\n",
    "    tlm.RefractiveSurface(surface, n=(1.5, 1.0), scale=-1, anchors=(\"extent\", \"origin\")),\n",
    "    tlm.Gap(30),\n",
    "    tlm.FocalPoint(),\n",
    ")\n",
    "\n",
    "for name, p in optics.named_parameters():\n",
    "    print(name, p)\n",
    "\n",
    "tlm.show(optics, mode=\"2D\", end=20)\n",
    "tlm.show(optics, mode=\"3D\", end=20)"
   ]
  },
  {
   "cell_type": "code",
   "execution_count": null,
   "id": "936130bf-b8d8-4d4e-be7f-66beedca7f47",
   "metadata": {},
   "outputs": [],
   "source": [
    "train(optics, 2, torch.float64, num_iter=50, nshow=20)"
   ]
  },
  {
   "cell_type": "code",
   "execution_count": null,
   "id": "14cb1c6f-35e2-4029-8229-9779fd5cba76",
   "metadata": {},
   "outputs": [],
   "source": [
    "tlm.show(optics, mode=\"2D\", end=50)\n",
    "tlm.show(optics, mode=\"3D\", end=50)"
   ]
  },
  {
   "cell_type": "code",
   "execution_count": null,
   "id": "7c22232e-b9ee-4b5b-9989-c9810e109cad",
   "metadata": {},
   "outputs": [],
   "source": []
  }
 ],
 "metadata": {
  "kernelspec": {
   "display_name": "Python 3 (ipykernel)",
   "language": "python",
   "name": "python3"
  },
  "language_info": {
   "codemirror_mode": {
    "name": "ipython",
    "version": 3
   },
   "file_extension": ".py",
   "mimetype": "text/x-python",
   "name": "python",
   "nbconvert_exporter": "python",
   "pygments_lexer": "ipython3",
   "version": "3.12.3"
  }
 },
 "nbformat": 4,
 "nbformat_minor": 5
}
