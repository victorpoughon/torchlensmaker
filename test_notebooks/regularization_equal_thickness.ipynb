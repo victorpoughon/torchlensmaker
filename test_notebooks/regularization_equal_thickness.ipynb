{
 "cells": [
  {
   "cell_type": "markdown",
   "id": "0",
   "metadata": {},
   "source": [
    "# Regularization - Equal Thickness Lenses"
   ]
  },
  {
   "cell_type": "markdown",
   "id": "1",
   "metadata": {},
   "source": [
    "In this example, we design a two lens system where the first lens is plano-convex, and the second lens is biconvex symmetric. Two parameters are used to describe the curvature of each lens.\n",
    "\n",
    "This problem has many solutions because different surface shape combinations can achieve the desired focal length. Using regularization, we add the additional constraint that the inner thickness of each lens should be equal. This leads to a unique solution."
   ]
  },
  {
   "cell_type": "code",
   "execution_count": null,
   "id": "69fd1036-bf6b-434f-bda7-998ea750a1d5",
   "metadata": {},
   "outputs": [],
   "source": [
    "import torch\n",
    "import torch.nn as nn\n",
    "import torch.optim as optim\n",
    "import torchlensmaker as tlm\n",
    "import math\n",
    "\n",
    "\n",
    "lens_diamater = 30\n",
    "focal_length = 45\n",
    "\n",
    "lens_outer_thickness = 1.0\n",
    "\n",
    "# Shape of the curved surface of the plano convex lens\n",
    "surface_convex = tlm.Parabola(lens_diamater, tlm.parameter(-0.005))\n",
    "\n",
    "# Shape of the two curved surfaces of the biconvex symmetric lens\n",
    "surface_biconvex = tlm.Parabola(lens_diamater, tlm.parameter(0.005))\n",
    "\n",
    "# Convex-planar lens\n",
    "lens_plano = tlm.PlanoLens(\n",
    "    surface_convex,\n",
    "    material = \"BK7-nd\",\n",
    "    outer_thickness = lens_outer_thickness,\n",
    "    reverse=True,\n",
    ")\n",
    "\n",
    "# Biconvex lens\n",
    "lens_biconvex = tlm.BiLens(\n",
    "    surface_biconvex,\n",
    "    material = \"air\",\n",
    "    outer_thickness = lens_outer_thickness,\n",
    ")\n",
    "\n",
    "optics = nn.Sequential(\n",
    "    tlm.PointSourceAtInfinity(0.9*lens_diamater),\n",
    "    tlm.Gap(10.),\n",
    "    lens_biconvex,\n",
    "    tlm.Gap(3.),\n",
    "    lens_plano,\n",
    "    tlm.Gap(focal_length),\n",
    "    tlm.FocalPoint(),\n",
    ")\n",
    "\n",
    "tlm.show(optics, dim=2)\n",
    "tlm.show(optics, dim=3)"
   ]
  },
  {
   "cell_type": "code",
   "execution_count": null,
   "id": "f8be88f4-8b60-4021-9270-a71991686b3f",
   "metadata": {},
   "outputs": [],
   "source": [
    "# The regularization function\n",
    "# This adds a term to the loss function to ensure\n",
    "# both lenses' inner thicknesses are equal\n",
    "def regu_equalthickness(optics):\n",
    "    t0 = lens_plano.inner_thickness()\n",
    "    t1 = lens_biconvex.inner_thickness()\n",
    "    return 100*torch.pow(t0 - t1, 2)\n",
    "\n",
    "\n",
    "tlm.optimize(\n",
    "    optics,\n",
    "    optimizer = optim.Adam(optics.parameters(), lr=3e-4),\n",
    "    sampling = {\"base\": 10},\n",
    "    dim = 2,\n",
    "    num_iter = 100\n",
    ").plot()\n",
    "\n",
    "\n",
    "def print_thickness(lens_name, lens):\n",
    "    # TODO thickness at a specific radial distance\n",
    "    print(f\"{lens_name: <25} inner: {lens.inner_thickness().item():.3f} outer: {lens.outer_thickness().item():.3f}\")\n",
    "\n",
    "print_thickness(\"Plano-convex\", lens_plano)\n",
    "print_thickness(\"Bi-convex\", lens_biconvex)"
   ]
  },
  {
   "cell_type": "code",
   "execution_count": null,
   "id": "3",
   "metadata": {},
   "outputs": [],
   "source": [
    "tlm.show_part(tlm.export.lens_to_part(lens_plano))\n",
    "tlm.show_part(tlm.export.lens_to_part(lens_biconvex))"
   ]
  },
  {
   "cell_type": "code",
   "execution_count": null,
   "id": "4",
   "metadata": {},
   "outputs": [],
   "source": []
  }
 ],
 "metadata": {
  "kernelspec": {
   "display_name": "Python 3 (ipykernel)",
   "language": "python",
   "name": "python3"
  },
  "language_info": {
   "codemirror_mode": {
    "name": "ipython",
    "version": 3
   },
   "file_extension": ".py",
   "mimetype": "text/x-python",
   "name": "python",
   "nbconvert_exporter": "python",
   "pygments_lexer": "ipython3",
   "version": "3.12.3"
  }
 },
 "nbformat": 4,
 "nbformat_minor": 5
}
