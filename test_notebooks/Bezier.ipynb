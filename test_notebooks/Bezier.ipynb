{
 "cells": [
  {
   "cell_type": "code",
   "execution_count": null,
   "id": "0",
   "metadata": {},
   "outputs": [],
   "source": [
    "import numpy as np\n",
    "import matplotlib.pyplot as plt\n",
    "\n",
    "radius = 1\n",
    "a = -0.5\n",
    "\n",
    "X = np.linspace(-radius*1.1, radius*1.1, 100)\n",
    "Y = a*X**2\n",
    "\n",
    "plt.plot(X, Y)\n",
    "\n",
    "Px = 0\n",
    "Py = -a*radius**2\n",
    "\n",
    "plt.plot(Px, Py, marker=\"+\", markersize=5, color=\"red\")\n",
    "\n",
    "plt.plot([0., radius], [Py, a*radius**2], marker=\"o\", color=\"lightgrey\")\n",
    "plt.plot([0., -radius], [Py, a*radius**2], marker=None, color=\"lightgrey\")\n",
    "\n",
    "\n",
    "\n",
    "plt.gca().set_aspect(\"equal\")"
   ]
  },
  {
   "cell_type": "code",
   "execution_count": null,
   "id": "1",
   "metadata": {},
   "outputs": [],
   "source": [
    "import numpy as np\n",
    "import matplotlib.pyplot as plt\n",
    "\n",
    "radius = 10\n",
    "A = -4.5\n",
    "B = 1.5\n",
    "C=-1\n",
    "\n",
    "a = A/100\n",
    "b = B/10000\n",
    "c = C/1000000\n",
    "\n",
    "X = np.linspace(-radius*1.1, radius*1.1, 100)\n",
    "Y2 = a*X**2\n",
    "Y4 = Y2 + b*X**4\n",
    "Y6 = Y4 + c*X**6\n",
    "\n",
    "plt.plot(X, Y2)\n",
    "plt.plot(X, Y4)\n",
    "plt.plot(X, Y6)\n",
    "\n",
    "Px = 0\n",
    "Py = -a*radius**2\n",
    "\n",
    "\n",
    "\n",
    "plt.gca().set_aspect(\"equal\")"
   ]
  },
  {
   "cell_type": "code",
   "execution_count": null,
   "id": "2",
   "metadata": {},
   "outputs": [],
   "source": []
  }
 ],
 "metadata": {
  "kernelspec": {
   "display_name": "Python 3 (ipykernel)",
   "language": "python",
   "name": "python3"
  },
  "language_info": {
   "codemirror_mode": {
    "name": "ipython",
    "version": 3
   },
   "file_extension": ".py",
   "mimetype": "text/x-python",
   "name": "python",
   "nbconvert_exporter": "python",
   "pygments_lexer": "ipython3",
   "version": "3.12.3"
  }
 },
 "nbformat": 4,
 "nbformat_minor": 5
}
