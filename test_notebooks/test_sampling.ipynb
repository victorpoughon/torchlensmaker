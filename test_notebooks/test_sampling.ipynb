{
 "cells": [
  {
   "cell_type": "code",
   "execution_count": null,
   "id": "c3917137-4b6a-4916-8fb4-92de3be1742b",
   "metadata": {},
   "outputs": [],
   "source": [
    "import torch\n",
    "import matplotlib.pyplot as plt\n",
    "\n",
    "from torchlensmaker.sampling import (\n",
    "    sample_line_linspace,\n",
    "    sample_line_random,\n",
    "    sample_disk_random,\n",
    "    sample_disk_linspace,\n",
    ")\n",
    "\n",
    "diameter = torch.tensor(10., dtype=torch.float64)\n",
    "\n",
    "X = sample_line_linspace(50, diameter)\n",
    "plt.plot(X.numpy(), X.numpy(), marker=\".\", markersize=1, linestyle=\"none\")\n",
    "plt.gca().set_aspect(\"equal\")\n",
    "plt.show()\n",
    "\n",
    "X = sample_line_random(50, diameter)\n",
    "plt.plot(X.numpy(), X.numpy(), marker=\".\", markersize=1, linestyle=\"none\")\n",
    "plt.gca().set_aspect(\"equal\")\n",
    "plt.show()\n",
    "\n",
    "P = sample_disk_random(1000, diameter)\n",
    "plt.plot(P[:, 0].numpy(), P[:, 1].numpy(), marker=\".\", markersize=1, linestyle=\"none\")\n",
    "plt.gca().set_aspect(\"equal\")\n",
    "plt.show()\n",
    "\n",
    "P = sample_disk_linspace(1000, diameter)\n",
    "plt.plot(P[:, 0].numpy(), P[:, 1].numpy(), marker=\".\", markersize=1, linestyle=\"none\")\n",
    "plt.gca().set_aspect(\"equal\")\n",
    "plt.show()"
   ]
  },
  {
   "cell_type": "code",
   "execution_count": null,
   "id": "1eec9062-d686-497c-8493-8f1988c653b2",
   "metadata": {},
   "outputs": [],
   "source": []
  }
 ],
 "metadata": {
  "kernelspec": {
   "display_name": "Python 3 (ipykernel)",
   "language": "python",
   "name": "python3"
  },
  "language_info": {
   "codemirror_mode": {
    "name": "ipython",
    "version": 3
   },
   "file_extension": ".py",
   "mimetype": "text/x-python",
   "name": "python",
   "nbconvert_exporter": "python",
   "pygments_lexer": "ipython3",
   "version": "3.12.3"
  }
 },
 "nbformat": 4,
 "nbformat_minor": 5
}
