{
 "cells": [
  {
   "cell_type": "code",
   "execution_count": null,
   "id": "c3917137-4b6a-4916-8fb4-92de3be1742b",
   "metadata": {},
   "outputs": [],
   "source": [
    "import torch\n",
    "import matplotlib.pyplot as plt\n",
    "\n",
    "from torchlensmaker.sampling import (\n",
    "    sampleND,\n",
    ")\n",
    "\n",
    "def test_sampler(sampler, N, diameter, dtype):\n",
    "    X1 = sampleND(sampler, N, diameter, 1, dtype)\n",
    "    X2 = sampleND(sampler, N, diameter, 2, dtype)\n",
    "\n",
    "    #assert X1.shape[0] == X2.shape[0] == N, (sampler, N)\n",
    "\n",
    "    fig, (ax1, ax2) = plt.subplots(1, 2, figsize=(10, 5))\n",
    "    for ax in (ax1, ax2):\n",
    "        ax.set_aspect(\"equal\")\n",
    "        r = 1.1*diameter/2\n",
    "        ax.set_xlim([-r, r])\n",
    "        ax.set_ylim([-r, r])\n",
    "        ax.add_patch(plt.Circle((0, 0), diameter/2, color='grey', fill=False))\n",
    "\n",
    "    ax1.plot(X1.numpy(), torch.zeros_like(X1).numpy(), marker=\".\", markersize=2, linestyle=\"none\")\n",
    "    ax2.plot(X2[:, 0].numpy(), X2[:, 1].numpy(), marker=\".\", markersize=1, linestyle=\"none\")\n",
    "\n",
    "    fig.suptitle(f\"{sampler} N={N}\", y=1.0)\n",
    "\n",
    "samplers = [\"linear\", \"random\"]\n",
    "Nrange = [1, 2, 3, 4, 5, 10, 100, 1000]\n",
    "\n",
    "for sampler in samplers:\n",
    "    for N in Nrange:\n",
    "        test_sampler(sampler, N, 10.0, torch.float64)\n",
    "\n",
    "\n"
   ]
  },
  {
   "cell_type": "code",
   "execution_count": null,
   "id": "e9964b6e-4c2f-41c0-8216-89286d56a785",
   "metadata": {},
   "outputs": [],
   "source": []
  }
 ],
 "metadata": {
  "kernelspec": {
   "display_name": "Python 3 (ipykernel)",
   "language": "python",
   "name": "python3"
  },
  "language_info": {
   "codemirror_mode": {
    "name": "ipython",
    "version": 3
   },
   "file_extension": ".py",
   "mimetype": "text/x-python",
   "name": "python",
   "nbconvert_exporter": "python",
   "pygments_lexer": "ipython3",
   "version": "3.12.3"
  }
 },
 "nbformat": 4,
 "nbformat_minor": 5
}
