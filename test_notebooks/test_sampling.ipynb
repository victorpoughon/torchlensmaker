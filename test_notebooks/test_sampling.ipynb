{
 "cells": [
  {
   "cell_type": "code",
   "execution_count": null,
   "id": "c3917137-4b6a-4916-8fb4-92de3be1742b",
   "metadata": {},
   "outputs": [],
   "source": [
    "import torch\n",
    "import matplotlib.pyplot as plt\n",
    "\n",
    "from torchlensmaker.sampling import (\n",
    "    sampleND,\n",
    ")\n",
    "\n",
    "Ns = [1, 2, 3, 4,\n",
    "      5, 8, 10, 20,\n",
    "      30, 50, 100, 200,\n",
    "      300, 500, 1000, 5000]\n",
    "\n",
    "samplers = [\"uniform\", \"linear\", \"random\"]\n",
    "\n",
    "plt.close('all')\n",
    "\n",
    "def test_sampler2D(sampler, diameter, dtype):\n",
    "    fig, axes = plt.subplots(4, 4, figsize=(8, 8), dpi=300)\n",
    "\n",
    "    for N, ax in zip(Ns, axes.flatten()):\n",
    "        ax.set_axis_off()\n",
    "        ax.set_title(f\"{sampler} 2D N={N}\", fontsize=6)\n",
    "        points = sampleND(sampler, N, diameter, 2, dtype)\n",
    "        #assert points.shape[0] == N, (sampler, N)\n",
    "        assert points.shape[1] == 2\n",
    "        \n",
    "        ax.add_patch(plt.Circle((0, 0), diameter/2, color='lightgrey', fill=False))\n",
    "        ax.plot(points[:, 0].numpy(), points[:, 1].numpy(), marker=\".\", linestyle=\"none\", markersize=2, color=\"red\")\n",
    "        ax.set_xlim([-0.62*diameter, 0.62*diameter])\n",
    "        ax.set_ylim([-0.62*diameter, 0.62*diameter])\n",
    "\n",
    "\n",
    "def test_sampler1D(sampler, diameter, dtype):\n",
    "    fig, axes = plt.subplots(4, 4, figsize=(8, 8), dpi=300)\n",
    "\n",
    "    for N, ax in zip(Ns, axes.flatten()):\n",
    "            ax.set_axis_off()\n",
    "            ax.set_title(f\"{sampler} 1D N={N}\", fontsize=6)\n",
    "            points = sampleND(sampler, N, diameter, 1, dtype)\n",
    "            assert points.shape[0] == N, (sampler, N)\n",
    "            assert points.dim() == 1\n",
    "            \n",
    "            ax.add_patch(plt.Circle((0, 0), diameter/2, color='lightgrey', fill=False))\n",
    "            ax.plot(points.numpy(), torch.zeros_like(points).numpy(), marker=\".\", linestyle=\"none\", markersize=2, color=\"red\")\n",
    "            ax.set_xlim([-0.62*diameter, 0.62*diameter])\n",
    "            ax.set_ylim([-0.62*diameter, 0.62*diameter])\n",
    "    \n",
    "\n",
    "for sampler in samplers:\n",
    "    test_sampler2D(sampler, 10.0, torch.float64)\n",
    "    test_sampler1D(sampler, 10.0, torch.float64)\n"
   ]
  },
  {
   "cell_type": "code",
   "execution_count": null,
   "id": "d877ca3a-19fe-4181-8775-11231c729794",
   "metadata": {},
   "outputs": [],
   "source": []
  }
 ],
 "metadata": {
  "kernelspec": {
   "display_name": "Python 3 (ipykernel)",
   "language": "python",
   "name": "python3"
  },
  "language_info": {
   "codemirror_mode": {
    "name": "ipython",
    "version": 3
   },
   "file_extension": ".py",
   "mimetype": "text/x-python",
   "name": "python",
   "nbconvert_exporter": "python",
   "pygments_lexer": "ipython3",
   "version": "3.12.3"
  }
 },
 "nbformat": 4,
 "nbformat_minor": 5
}
