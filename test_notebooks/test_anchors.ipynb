{
 "cells": [
  {
   "cell_type": "code",
   "execution_count": null,
   "id": "d9d18b2c-38b7-47b8-ad69-41e001ed8bb0",
   "metadata": {},
   "outputs": [],
   "source": [
    "import torchlensmaker as tlm\n",
    "\n",
    "sphere = tlm.Sphere(10, -15)\n",
    "\n",
    "optics = tlm.Sequential(\n",
    "    tlm.RefractiveSurface(sphere, anchors=(\"origin\", \"extent\"), material=\"air\"),\n",
    "    tlm.RefractiveSurface(sphere, scale=-1, anchors=(\"extent\", \"origin\"), material=\"air\")\n",
    ")\n",
    "\n",
    "tlm.show2d(optics)"
   ]
  },
  {
   "cell_type": "code",
   "execution_count": null,
   "id": "ed2fd1db-0387-4c57-a7f3-1cdfc90cfd48",
   "metadata": {},
   "outputs": [],
   "source": []
  },
  {
   "cell_type": "code",
   "execution_count": null,
   "id": "f98ff309-1809-4f42-80cf-469e645e8c06",
   "metadata": {},
   "outputs": [],
   "source": []
  }
 ],
 "metadata": {
  "kernelspec": {
   "display_name": "Python 3 (ipykernel)",
   "language": "python",
   "name": "python3"
  },
  "language_info": {
   "codemirror_mode": {
    "name": "ipython",
    "version": 3
   },
   "file_extension": ".py",
   "mimetype": "text/x-python",
   "name": "python",
   "nbconvert_exporter": "python",
   "pygments_lexer": "ipython3",
   "version": "3.12.3"
  }
 },
 "nbformat": 4,
 "nbformat_minor": 5
}
