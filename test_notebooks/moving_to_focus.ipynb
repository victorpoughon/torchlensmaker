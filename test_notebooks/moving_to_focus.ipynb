{
 "cells": [
  {
   "cell_type": "markdown",
   "id": "0",
   "metadata": {},
   "source": [
    "# Moving a lens to focus"
   ]
  },
  {
   "cell_type": "code",
   "execution_count": null,
   "id": "1",
   "metadata": {},
   "outputs": [],
   "source": [
    "import torch\n",
    "import torch.nn as nn\n",
    "import torchlensmaker as tlm\n",
    "import torch.optim as optim\n",
    "\n",
    "surface = tlm.Parabola(diameter=15, A=0.006)\n",
    "\n",
    "x = tlm.parameter(50)\n",
    "\n",
    "optics = nn.Sequential(\n",
    "    tlm.PointSourceAtInfinity(beam_diameter=18.5),\n",
    "    tlm.Gap(10),\n",
    "    tlm.RefractiveSurface(surface, material=\"BK7-nd\", anchors=(\"origin\", \"extent\")),\n",
    "    tlm.Gap(2),\n",
    "    tlm.RefractiveSurface(\n",
    "        surface, material=\"air\", scale=-1, anchors=(\"extent\", \"origin\")\n",
    "    ),\n",
    "    tlm.Gap(x),\n",
    "    tlm.FocalPoint(),\n",
    ")\n",
    "\n",
    "\n",
    "tlm.show(optics, dim=2)\n",
    "tlm.show(optics, dim=3)"
   ]
  },
  {
   "cell_type": "code",
   "execution_count": null,
   "id": "2",
   "metadata": {},
   "outputs": [],
   "source": [
    "tlm.optimize(\n",
    "    optics,\n",
    "    optimizer = optim.Adam(optics.parameters(), lr=.8),\n",
    "    sampling = {\"base\": 10},\n",
    "    dim = 2,\n",
    "    num_iter = 100\n",
    ").plot()"
   ]
  },
  {
   "cell_type": "code",
   "execution_count": null,
   "id": "542bd43d-37ce-446e-8807-296bcfd8bea4",
   "metadata": {},
   "outputs": [],
   "source": [
    "tlm.show(optics, dim=2)"
   ]
  },
  {
   "cell_type": "code",
   "execution_count": null,
   "id": "6786019f-59a4-4d33-8021-e70d057db381",
   "metadata": {},
   "outputs": [],
   "source": []
  }
 ],
 "metadata": {
  "kernelspec": {
   "display_name": "Python 3 (ipykernel)",
   "language": "python",
   "name": "python3"
  },
  "language_info": {
   "codemirror_mode": {
    "name": "ipython",
    "version": 3
   },
   "file_extension": ".py",
   "mimetype": "text/x-python",
   "name": "python",
   "nbconvert_exporter": "python",
   "pygments_lexer": "ipython3",
   "version": "3.12.3"
  }
 },
 "nbformat": 4,
 "nbformat_minor": 5
}
