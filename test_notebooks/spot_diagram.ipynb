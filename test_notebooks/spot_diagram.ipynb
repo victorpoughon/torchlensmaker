{
 "cells": [
  {
   "cell_type": "markdown",
   "id": "b750689d-9d66-4953-9669-580ccb2563c9",
   "metadata": {},
   "source": [
    "# Spot diagram"
   ]
  },
  {
   "cell_type": "code",
   "execution_count": null,
   "id": "910f5788-d891-44bb-a062-324fcb893c99",
   "metadata": {},
   "outputs": [],
   "source": [
    "from IPython.display import clear_output\n",
    "clear_output()"
   ]
  },
  {
   "cell_type": "code",
   "execution_count": null,
   "id": "6fc0da02-0281-47b5-98bb-22d6042e9d97",
   "metadata": {},
   "outputs": [],
   "source": [
    "import torch\n",
    "import torch.nn as nn\n",
    "import torch.optim as optim\n",
    "import torchlensmaker as tlm\n",
    "import numpy as np"
   ]
  },
  {
   "cell_type": "markdown",
   "id": "ddc850e3-bd34-4818-a7a1-e75de360cc82",
   "metadata": {},
   "source": [
    "Let's define a simple optical model that we'll use to demonstrate various ways of producing spot diagrams."
   ]
  },
  {
   "cell_type": "code",
   "execution_count": null,
   "id": "c7898afc-52f9-4d57-bbd7-a1bd41506df2",
   "metadata": {},
   "outputs": [],
   "source": [
    "surface = tlm.Sphere(diameter=15, R=tlm.parameter(32.6656))\n",
    "lens = tlm.BiLens(surface, material=\"BK7\", outer_thickness=1.5)\n",
    "\n",
    "optics = nn.Sequential(\n",
    "    tlm.ObjectAtInfinity(beam_diameter=10, angular_size=5.),\n",
    "    tlm.Wavelength(400, 800),\n",
    "    tlm.Gap(1),\n",
    "    lens,\n",
    "    tlm.Gap(30),\n",
    "    tlm.ImagePlane(15),\n",
    ")"
   ]
  },
  {
   "cell_type": "markdown",
   "id": "f1ab8f81-16a6-4186-b465-5ab383cc8eb9",
   "metadata": {},
   "source": [
    "## Spot diagram with rows and cols\n",
    "\n",
    "The row and col arguments control the sampling dimension thats use to layout the rows and columns of the diagram. `row='object'` and `col='wavelength'` is a typical choice."
   ]
  },
  {
   "cell_type": "code",
   "execution_count": null,
   "id": "1d3ae8b6-3597-47c2-be33-e14f0f153e4a",
   "metadata": {},
   "outputs": [],
   "source": [
    "clear_output()\n",
    "tlm.show2d(optics, sampling={\"base\": tlm.sampling.dense(10), \"object\": tlm.sampling.dense(3), \"wavelength\": 3})\n",
    "tlm.show3d(optics, sampling={\"base\": 100, \"object\": [[np.deg2rad(0), 0.], [np.deg2rad(5), 0.]], \"wavelength\": 3}, end=100)"
   ]
  },
  {
   "cell_type": "code",
   "execution_count": null,
   "id": "294185ad-776f-4550-848d-106401216888",
   "metadata": {},
   "outputs": [],
   "source": [
    "sampling = {\"object\": [[np.deg2rad(0), 0.], [np.deg2rad(5), 0.]], \"wavelength\": 3}\n",
    "f, _ = tlm.spot_diagram(optics, sampling | {\"base\":1000}, row=\"object\", col=\"wavelength\", figsize=(12, 12))"
   ]
  },
  {
   "cell_type": "markdown",
   "id": "f6d5d86e-b7fa-458b-9c78-93eeeb6a2809",
   "metadata": {},
   "source": [
    "## Spot diagram with color_dim\n",
    "\n",
    "If either `row` or `col` is `None`, then there will be only one row or column containing every ray sample. Still, the `color_dim` argument can be used to color points by one dimension."
   ]
  },
  {
   "cell_type": "code",
   "execution_count": null,
   "id": "8cc0a86b-8a31-44de-82b3-25a72d5fdc26",
   "metadata": {},
   "outputs": [],
   "source": [
    "sampling = {\"object\": [[np.deg2rad(0), 0.], [np.deg2rad(5), 0.]], \"wavelength\": 3}\n",
    "f, _ = tlm.spot_diagram(optics, sampling | {\"base\":1000}, row=\"object\", col=None, color_dim=\"wavelength\", figsize=(12, 12))"
   ]
  },
  {
   "cell_type": "code",
   "execution_count": null,
   "id": "732b4181-fa61-4797-860e-4716c7792116",
   "metadata": {},
   "outputs": [],
   "source": [
    "# TODO object coordinates are given as radian here\n",
    "# but as degrees in light source init / tlm.Rotate\n",
    "\n",
    "# if you give exact values in a sampling dict\n",
    "# it becomes dimension specific\n"
   ]
  },
  {
   "cell_type": "code",
   "execution_count": null,
   "id": "3d71be97-c483-4887-b6ee-52d2cd2827f0",
   "metadata": {},
   "outputs": [],
   "source": []
  }
 ],
 "metadata": {
  "kernelspec": {
   "display_name": "Python 3 (ipykernel)",
   "language": "python",
   "name": "python3"
  },
  "language_info": {
   "codemirror_mode": {
    "name": "ipython",
    "version": 3
   },
   "file_extension": ".py",
   "mimetype": "text/x-python",
   "name": "python",
   "nbconvert_exporter": "python",
   "pygments_lexer": "ipython3",
   "version": "3.12.3"
  }
 },
 "nbformat": 4,
 "nbformat_minor": 5
}
