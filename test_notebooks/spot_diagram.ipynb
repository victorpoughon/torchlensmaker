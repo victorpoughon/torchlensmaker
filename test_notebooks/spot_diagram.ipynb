{
 "cells": [
  {
   "cell_type": "markdown",
   "id": "b750689d-9d66-4953-9669-580ccb2563c9",
   "metadata": {},
   "source": [
    "# Spot diagram"
   ]
  },
  {
   "cell_type": "code",
   "execution_count": null,
   "id": "910f5788-d891-44bb-a062-324fcb893c99",
   "metadata": {},
   "outputs": [],
   "source": [
    "from IPython.display import clear_output\n",
    "clear_output()"
   ]
  },
  {
   "cell_type": "code",
   "execution_count": null,
   "id": "363a5215-0c14-49c4-b3f9-ded2e45f3244",
   "metadata": {},
   "outputs": [],
   "source": [
    "import torch\n",
    "import torch.nn as nn\n",
    "import torch.optim as optim\n",
    "import torchlensmaker as tlm\n",
    "\n",
    "surface = tlm.surfaces.Sphere(diameter=15, r=tlm.parameter(32.6656))\n",
    "lens = tlm.BiLens(surface, material=\"BK7\", outer_thickness=1.5)\n",
    "\n",
    "optics = nn.Sequential(\n",
    "    tlm.ObjectAtInfinity(beam_diameter=10, angular_size=5.),\n",
    "    tlm.Wavelength(400, 800),\n",
    "    tlm.Gap(1),\n",
    "    lens,\n",
    "    tlm.Gap(30),\n",
    "    tlm.ImagePlane(15),\n",
    ")\n",
    "\n",
    "clear_output()\n",
    "tlm.show2d(optics, sampling={\"base\": tlm.sampling.dense(10), \"object\": tlm.sampling.dense(3), \"wavelength\": 3})\n",
    "#tlm.show3d(optics, sampling={\"sampler\": \"uniform\", \"base\": 100, \"object\": 5}, end=100)"
   ]
  },
  {
   "cell_type": "code",
   "execution_count": null,
   "id": "732b4181-fa61-4797-860e-4716c7792116",
   "metadata": {},
   "outputs": [],
   "source": [
    "import numpy as np\n",
    "\n",
    "clear_output()\n",
    "\n",
    "# TODO object coordinates are given as radian here\n",
    "# but as degrees in light source init / tlm.Rotate\n",
    "\n",
    "# if you give exact values in a sampling dict\n",
    "# it becomes dimension specific\n",
    "\n",
    "sampling = {\"object\": [[np.deg2rad(0), 0.], [np.deg2rad(5), 0.]], \"wavelength\": 3}\n",
    "\n",
    "tlm.show3d(optics, sampling | {\"base\":3})\n",
    "\n",
    "f, _ = tlm.spot_diagram(optics, sampling | {\"base\":1000}, row=\"object\", col=\"wavelength\", figsize=(18, 18))\n",
    "f.savefig(\"spot.png\")\n",
    "\n",
    "#tlm.plot_magnification(optics, {\"base\": 100, \"object\": 5, \"wavelength\": 3} , color_dim=\"object\")"
   ]
  },
  {
   "cell_type": "code",
   "execution_count": null,
   "id": "88979f28-3606-4e72-9024-083de582056c",
   "metadata": {},
   "outputs": [],
   "source": [
    "tlm.optimize(\n",
    "    optics,\n",
    "    optimizer = optim.Adam(optics.parameters(), lr=3e-5),\n",
    "    sampling = {\"base\": 100, \"object\": 10, \"wavelength\": 3},\n",
    "    dim = 2,\n",
    "    num_iter = 10\n",
    ").plot()\n",
    "\n",
    "print(surface.radius())"
   ]
  },
  {
   "cell_type": "code",
   "execution_count": null,
   "id": "3d71be97-c483-4887-b6ee-52d2cd2827f0",
   "metadata": {},
   "outputs": [],
   "source": [
    "f, _ = tlm.spot_diagram(optics, sampling | {\"base\":1000}, row=\"object\", col=\"wavelength\", figsize=(18, 18))"
   ]
  }
 ],
 "metadata": {
  "kernelspec": {
   "display_name": "Python 3 (ipykernel)",
   "language": "python",
   "name": "python3"
  },
  "language_info": {
   "codemirror_mode": {
    "name": "ipython",
    "version": 3
   },
   "file_extension": ".py",
   "mimetype": "text/x-python",
   "name": "python",
   "nbconvert_exporter": "python",
   "pygments_lexer": "ipython3",
   "version": "3.12.3"
  }
 },
 "nbformat": 4,
 "nbformat_minor": 5
}
