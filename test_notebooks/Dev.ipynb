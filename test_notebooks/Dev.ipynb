{
 "cells": [
  {
   "cell_type": "code",
   "execution_count": null,
   "id": "0",
   "metadata": {},
   "outputs": [],
   "source": [
    "import torchlensmaker as tlm\n",
    "import torch\n",
    "import torch.optim as optim\n",
    "import torch.nn as nn\n",
    "\n",
    "\n",
    "class DevStack(tlm.Module):\n",
    "    def __init__(self):\n",
    "        super().__init__()\n",
    "\n",
    "        # optimizable\n",
    "        self.shape = tlm.Parabola(height = 40., a = nn.Parameter(torch.tensor(0.005)))\n",
    "    \n",
    "        self.lens = tlm.SymmetricLens(self.shape, (1.0, 1.5), inner_thickness=8.0)\n",
    "\n",
    "        self.optics = tlm.OpticalSequence(\n",
    "            tlm.PointSourceAtInfinity(beam_diameter=40),\n",
    "            tlm.Gap(10),\n",
    "        \n",
    "            self.lens,\n",
    "\n",
    "            tlm.Gap(80),\n",
    "        \n",
    "            tlm.FocalPoint(),\n",
    "        )\n",
    "\n",
    "\n",
    "    def forward(self, inputs, sampling):\n",
    "        return self.optics(inputs, sampling)\n",
    "\n",
    "\n",
    "optics = DevStack()\n",
    "\n",
    "print(\"Parameters\")\n",
    "for n, p in optics.named_parameters():\n",
    "    print(n, p.detach().numpy())\n",
    "print()\n",
    "\n",
    "tlm.render_plt(optics)\n",
    "print(optics.lens.inner_thickness(), optics.lens.outer_thickness())\n",
    "\n",
    "tlm.optimize(\n",
    "    optics,\n",
    "    optimizer = optim.Adam(optics.parameters(), lr=1e-3),\n",
    "    sampling = {\"rays\": 10},\n",
    "    num_iter = 50,\n",
    ")\n",
    "\n",
    "tlm.render_plt(optics)\n",
    "\n",
    "\n"
   ]
  },
  {
   "cell_type": "code",
   "execution_count": null,
   "id": "1",
   "metadata": {},
   "outputs": [],
   "source": [
    "tlm.lens_to_part(optics.lens)\n"
   ]
  },
  {
   "cell_type": "code",
   "execution_count": null,
   "id": "2",
   "metadata": {},
   "outputs": [],
   "source": []
  }
 ],
 "metadata": {
  "kernelspec": {
   "display_name": "venv",
   "language": "python",
   "name": "python3"
  },
  "language_info": {
   "codemirror_mode": {
    "name": "ipython",
    "version": 3
   },
   "file_extension": ".py",
   "mimetype": "text/x-python",
   "name": "python",
   "nbconvert_exporter": "python",
   "pygments_lexer": "ipython3",
   "version": "3.12.3"
  }
 },
 "nbformat": 4,
 "nbformat_minor": 5
}
