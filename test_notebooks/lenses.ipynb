{
 "cells": [
  {
   "cell_type": "markdown",
   "id": "665bcb61-2a2e-4c13-9fe0-537668ed5e46",
   "metadata": {},
   "source": [
    "# Lenses"
   ]
  },
  {
   "cell_type": "code",
   "execution_count": null,
   "id": "52ef27b8-03ab-4b04-92d9-acb9431ee55b",
   "metadata": {},
   "outputs": [],
   "source": [
    "import torch.nn as nn\n",
    "import torchlensmaker as tlm\n",
    "\n",
    "gap = tlm.Gap(5)\n",
    "\n",
    "optics = nn.Sequential(\n",
    "    # 'Bilens' for mirrored symmetric lenses - biconvex / biconcave\n",
    "    tlm.BiLens(tlm.Sphere(diameter=10, R=20), material = 'BK7-nd', outer_thickness=0.0),\n",
    "    gap,\n",
    "\n",
    "    tlm.BiLens(tlm.Sphere(diameter=10, R=20), material = 'BK7-nd', inner_thickness=2.5),\n",
    "    gap,\n",
    "\n",
    "    tlm.BiLens(tlm.Sphere(diameter=10, R=-20), material = 'BK7-nd', outer_thickness=2.5),\n",
    "    gap,\n",
    "    \n",
    "    tlm.BiLens(tlm.Sphere(diameter=10, R=-20), material = 'BK7-nd', inner_thickness=0.1),\n",
    "    gap,\n",
    "\n",
    "    # 'Lens' for general purpose asymmetric lenses\n",
    "    tlm.Lens(tlm.Sphere(diameter=10, R=30), tlm.Parabola(diameter=10, A=-0.05), material = 'BK7-nd', outer_thickness=0.5),\n",
    "    gap,\n",
    "\n",
    "    tlm.Lens(tlm.Sphere(diameter=10, R=-30), tlm.Parabola(diameter=10, A=-0.02), material = 'BK7-nd', outer_thickness=0.5),\n",
    "    gap,\n",
    "\n",
    "    # 'PlanoLens' for semi planar lenses - plano-convex, etc.\n",
    "    tlm.PlanoLens(tlm.Sphere(diameter=10, R=-30), material = 'BK7-nd', outer_thickness=0),\n",
    "    gap,\n",
    "\n",
    "    tlm.PlanoLens(tlm.Sphere(diameter=10, R=30), material = 'BK7-nd', inner_thickness=0.2),\n",
    "    gap,\n",
    "\n",
    "    # note reverse=True swap the two surface, and flips them\n",
    "    tlm.PlanoLens(tlm.Sphere(diameter=10, R=30), material = 'BK7-nd', inner_thickness=0.2, reverse=True),\n",
    "    gap,\n",
    ")    \n",
    "\n",
    "\n",
    "tlm.show(optics, dim=3)"
   ]
  },
  {
   "cell_type": "code",
   "execution_count": null,
   "id": "c070470a-8f1c-4569-991d-325e6e25fc00",
   "metadata": {},
   "outputs": [],
   "source": [
    "for element in optics:\n",
    "    if isinstance(element, tlm.LensBase):\n",
    "        part = tlm.export.lens_to_part(element)\n",
    "        tlm.show_part(part)"
   ]
  },
  {
   "cell_type": "code",
   "execution_count": null,
   "id": "69df096c-4f84-41aa-a1f3-1f142db8af93",
   "metadata": {},
   "outputs": [],
   "source": [
    "# Export all lenses to step files\n",
    "# tlm.export.export_all_step(optics, \"./\")"
   ]
  },
  {
   "cell_type": "code",
   "execution_count": null,
   "id": "17efbf6b-164e-4460-9411-80851c7968aa",
   "metadata": {},
   "outputs": [],
   "source": []
  }
 ],
 "metadata": {
  "kernelspec": {
   "display_name": "Python 3 (ipykernel)",
   "language": "python",
   "name": "python3"
  },
  "language_info": {
   "codemirror_mode": {
    "name": "ipython",
    "version": 3
   },
   "file_extension": ".py",
   "mimetype": "text/x-python",
   "name": "python",
   "nbconvert_exporter": "python",
   "pygments_lexer": "ipython3",
   "version": "3.12.3"
  }
 },
 "nbformat": 4,
 "nbformat_minor": 5
}
