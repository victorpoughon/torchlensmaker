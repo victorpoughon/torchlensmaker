{
 "cells": [
  {
   "cell_type": "markdown",
   "id": "665bcb61-2a2e-4c13-9fe0-537668ed5e46",
   "metadata": {},
   "source": [
    "# Lenses"
   ]
  },
  {
   "cell_type": "code",
   "execution_count": null,
   "id": "52ef27b8-03ab-4b04-92d9-acb9431ee55b",
   "metadata": {},
   "outputs": [],
   "source": [
    "import torch.nn as nn\n",
    "import torchlensmaker as tlm\n",
    "\n",
    "gap = tlm.Gap(5)\n",
    "\n",
    "optics = nn.Sequential(\n",
    "    # 'Bilens' for mirrored symmetric lenses - biconvex / biconcave\n",
    "    tlm.BiLens(tlm.Sphere(diameter=10, r=20), (1.0, 1.5), outer_thickness=0.0),\n",
    "    gap,\n",
    "\n",
    "    tlm.BiLens(tlm.Sphere(diameter=10, r=20), (1.0, 1.5), inner_thickness=2.5),\n",
    "    gap,\n",
    "\n",
    "    tlm.BiLens(tlm.Sphere(diameter=10, r=-20), (1.0, 1.5), outer_thickness=2.5),\n",
    "    gap,\n",
    "    \n",
    "    tlm.BiLens(tlm.Sphere(diameter=10, r=-20), (1.0, 1.5), inner_thickness=0),\n",
    "    gap,\n",
    "\n",
    "    # 'Lens' for general purpose asymmetric lenses\n",
    "    tlm.Lens(tlm.Sphere(diameter=10, r=30), tlm.Parabola(diameter=10, a=-0.05), (1.0, 1.5), outer_thickness=0.5),\n",
    "    gap,\n",
    "\n",
    "    tlm.Lens(tlm.Sphere(diameter=10, r=-30), tlm.Parabola(diameter=10, a=-0.02), (1.0, 1.5), outer_thickness=0.5),\n",
    "    gap,\n",
    "\n",
    "    # 'PlanoLens' for semi planar lenses - plano-convex, etc.\n",
    "    tlm.PlanoLens(tlm.Sphere(diameter=10, r=-30), (1.0, 1.5), outer_thickness=0),\n",
    "    gap,\n",
    "\n",
    "    tlm.PlanoLens(tlm.Sphere(diameter=10, r=30), (1.0, 1.5), inner_thickness=0.2),\n",
    "    gap,\n",
    "\n",
    "    # note reverse=True swap the two surface, but doesn't flip them\n",
    "    tlm.PlanoLens(tlm.Sphere(diameter=10, r=-30), (1.0, 1.5), inner_thickness=0.2, reverse=True),\n",
    "    gap,\n",
    ")    \n",
    "\n",
    "\n",
    "tlm.show(optics, mode=\"3D\")"
   ]
  },
  {
   "cell_type": "code",
   "execution_count": null,
   "id": "edd7b0cc-3fd4-412d-a672-283e0a5b327f",
   "metadata": {},
   "outputs": [],
   "source": []
  }
 ],
 "metadata": {
  "kernelspec": {
   "display_name": "Python 3 (ipykernel)",
   "language": "python",
   "name": "python3"
  },
  "language_info": {
   "codemirror_mode": {
    "name": "ipython",
    "version": 3
   },
   "file_extension": ".py",
   "mimetype": "text/x-python",
   "name": "python",
   "nbconvert_exporter": "python",
   "pygments_lexer": "ipython3",
   "version": "3.12.3"
  }
 },
 "nbformat": 4,
 "nbformat_minor": 5
}
