{
 "cells": [
  {
   "cell_type": "code",
   "execution_count": null,
   "id": "d7a6b314-66db-4d1c-bbe7-2b0d7ed8c941",
   "metadata": {},
   "outputs": [],
   "source": [
    "import numpy as np\n",
    "import colorcet as cc\n",
    "\n",
    "def export_cmap(cmap):\n",
    "    _ = cmap(0.5)\n",
    "    lut = cmap._lut[:256, :3]\n",
    "\n",
    "    print(lut.tolist())\n",
    "\n",
    "#export_cmap(cc.cm.CET_I2)\n",
    "#export_cmap(cc.cm.CET_R4)"
   ]
  },
  {
   "cell_type": "code",
   "execution_count": null,
   "id": "a7659401-d1ec-448e-8e55-9e1e8a54fede",
   "metadata": {},
   "outputs": [],
   "source": [
    "import torch\n",
    "import torchlensmaker as tlm\n",
    "\n",
    "S = torch.linspace(-10, 10, 150)\n",
    "\n",
    "start = torch.stack((S, torch.zeros_like(S)), dim=-1)\n",
    "end = torch.stack((3*S + 1, torch.full_like(S, 15)), dim=-1)\n",
    "\n",
    "variables = {\n",
    "    \"var1\": S,\n",
    "    \"var2\": S/2,\n",
    "    \"var3\": S/3,\n",
    "    \"var-over\": 2*S,\n",
    "}\n",
    "\n",
    "domain = {\n",
    "    \"var1\": [-10, 10],\n",
    "    \"var2\": [-10, 10],\n",
    "    \"var3\": [-10, 10],\n",
    "    \"var-over\": [-10, 10],\n",
    "}\n",
    "\n",
    "scene = tlm.viewer.new_scene(\"2D\")\n",
    "scene[\"data\"].append(tlm.viewer.render_rays(start, end, 0, variables, domain))\n",
    "tlm.viewer.display_scene(scene)"
   ]
  },
  {
   "cell_type": "code",
   "execution_count": null,
   "id": "e0f1c4af-76e6-43be-947b-7b6900dfca50",
   "metadata": {},
   "outputs": [],
   "source": []
  },
  {
   "cell_type": "code",
   "execution_count": null,
   "id": "4e655aba-1c30-48b4-aee5-49e11965c353",
   "metadata": {},
   "outputs": [],
   "source": []
  }
 ],
 "metadata": {
  "kernelspec": {
   "display_name": "Python 3 (ipykernel)",
   "language": "python",
   "name": "python3"
  },
  "language_info": {
   "codemirror_mode": {
    "name": "ipython",
    "version": 3
   },
   "file_extension": ".py",
   "mimetype": "text/x-python",
   "name": "python",
   "nbconvert_exporter": "python",
   "pygments_lexer": "ipython3",
   "version": "3.12.3"
  }
 },
 "nbformat": 4,
 "nbformat_minor": 5
}
