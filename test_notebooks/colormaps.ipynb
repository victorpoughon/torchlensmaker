{
 "cells": [
  {
   "cell_type": "markdown",
   "id": "e80e2a0b-4cb8-4b2d-9694-01e7153126bd",
   "metadata": {},
   "source": [
    "# Colormaps"
   ]
  },
  {
   "cell_type": "markdown",
   "id": "1347d4aa-ad28-4821-b850-9d5a28436413",
   "metadata": {},
   "source": [
    "Rays can be colored in different ways.\n",
    "\n",
    "* **A single color**: Use `tlm.show(..., color_dim=None)` to get the default ray color XXX, or specify any HTML color with `tlm.show(..., color_dim=None, ray_color=\"white\")`.\n",
    "* **Color variable**: Use the `color_dim` argument to choose which ray variable is used for coloring, and `colormap` to choose the color map function.\n",
    "\n",
    "The default colormap is `CET-R1`."
   ]
  },
  {
   "cell_type": "code",
   "execution_count": null,
   "id": "81b6d40e-1ec5-4a78-b1ec-d1299422e4cc",
   "metadata": {},
   "outputs": [],
   "source": [
    "import torch\n",
    "import torch.nn as nn\n",
    "import torchlensmaker as tlm\n",
    "\n",
    "import colorcet as cc\n",
    "import matplotlib as mpl\n",
    "\n",
    "def show(cmaps):\n",
    "    surface = tlm.surfaces.Parabola(diameter=15, a=tlm.parameter(0.02))\n",
    "    lens = tlm.BiLens(surface, n=(1.0, 1.5), outer_thickness=1.0)\n",
    "    \n",
    "    optics = nn.Sequential(\n",
    "        tlm.ObjectAtInfinity(beam_diameter=20, angular_size=25),\n",
    "        tlm.Gap(20),\n",
    "        lens,\n",
    "    )\n",
    "\n",
    "    for cmap in cmaps:\n",
    "        tlm.show(optics, dim=2, end=50, sampling={\"base\": 10, \"object\": 12}, color_dim=\"object\", colormap=cmap)\n"
   ]
  },
  {
   "cell_type": "markdown",
   "id": "c384a676-032d-43fa-b209-c94ed63708be",
   "metadata": {},
   "source": [
    "## CET-R1"
   ]
  },
  {
   "cell_type": "code",
   "execution_count": null,
   "id": "00ea7bf4-4f36-43a0-b8fe-2ac3c63ebddc",
   "metadata": {},
   "outputs": [],
   "source": [
    "show([cc.cm.CET_R1])"
   ]
  },
  {
   "cell_type": "markdown",
   "id": "7189cef6-b148-48fb-9ba1-1a7b9b9ce0d9",
   "metadata": {},
   "source": [
    "## CET-R2"
   ]
  },
  {
   "cell_type": "code",
   "execution_count": null,
   "id": "0e187db7-2686-4e1d-8a77-5b572ba83174",
   "metadata": {},
   "outputs": [],
   "source": [
    "show([cc.cm.CET_R2])"
   ]
  },
  {
   "cell_type": "markdown",
   "id": "cd4167d7-2aa3-49fd-bdaa-9ba2639bf56b",
   "metadata": {},
   "source": [
    "## CET-I2"
   ]
  },
  {
   "cell_type": "code",
   "execution_count": null,
   "id": "a8ac3f20-3610-4fda-b4fd-ae945e6d8131",
   "metadata": {},
   "outputs": [],
   "source": [
    "show([cc.cm.CET_I2])"
   ]
  },
  {
   "cell_type": "markdown",
   "id": "018b263f-f4e6-4024-9e66-96ad3a5f9942",
   "metadata": {},
   "source": [
    "## Diverging"
   ]
  },
  {
   "cell_type": "code",
   "execution_count": null,
   "id": "24ac16ed-be2a-40b6-9597-6802ec66ac1a",
   "metadata": {},
   "outputs": [],
   "source": [
    "show([cc.cm.CET_R3, cc.cm.CET_D1,cc.cm.CET_D2, cc.cm.CET_D13, cc.cm.CET_D10, cc.cm.CET_CBD1])"
   ]
  },
  {
   "cell_type": "code",
   "execution_count": null,
   "id": "325c7368-5aff-45c4-9cbb-a31c58757304",
   "metadata": {},
   "outputs": [],
   "source": [
    "import colorcet as cc\n",
    "import numpy as np\n",
    "\n",
    "cmap = cc.cm.CET_R3\n",
    "cmap(0.5)\n",
    "print(cmap._lut.shape)"
   ]
  },
  {
   "cell_type": "code",
   "execution_count": null,
   "id": "700eb35f-b88b-4030-8b23-4f477dd28c9a",
   "metadata": {},
   "outputs": [],
   "source": []
  }
 ],
 "metadata": {
  "kernelspec": {
   "display_name": "Python 3 (ipykernel)",
   "language": "python",
   "name": "python3"
  },
  "language_info": {
   "codemirror_mode": {
    "name": "ipython",
    "version": 3
   },
   "file_extension": ".py",
   "mimetype": "text/x-python",
   "name": "python",
   "nbconvert_exporter": "python",
   "pygments_lexer": "ipython3",
   "version": "3.12.3"
  }
 },
 "nbformat": 4,
 "nbformat_minor": 5
}
