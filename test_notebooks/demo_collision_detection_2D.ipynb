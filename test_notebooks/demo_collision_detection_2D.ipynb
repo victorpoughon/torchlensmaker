{
 "cells": [
  {
   "cell_type": "markdown",
   "id": "0",
   "metadata": {},
   "source": [
    "# Demo collision detection 3D"
   ]
  },
  {
   "cell_type": "code",
   "execution_count": null,
   "id": "1",
   "metadata": {},
   "outputs": [],
   "source": [
    "import torchlensmaker as tlm\n",
    "import torch\n",
    "import torch.nn\n",
    "import math\n",
    "from pprint import pprint\n",
    "\n",
    "def make_random_rays(num_rays, start_x, end_x, max_y):\n",
    "    rays_start = (torch.rand((num_rays, 3)) * 2 - 1) * max_y\n",
    "    rays_start[:, 0] = start_x\n",
    "\n",
    "    rays_end = (torch.rand((num_rays, 3)) * 2 - 1) * max_y\n",
    "    rays_end[:, 0] = end_x\n",
    "\n",
    "    rays_vectors = torch.nn.functional.normalize(rays_end - rays_start, dim=1)\n",
    "\n",
    "    return torch.hstack((rays_start, rays_vectors))\n",
    "\n",
    "\n",
    "test_rays = make_random_rays(\n",
    "    num_rays=50,\n",
    "    start_x=-15,\n",
    "    end_x=50,\n",
    "    max_y=20,\n",
    ")\n",
    "\n",
    "Tensor = torch.Tensor\n",
    "\n",
    "def render_rays2D(P: Tensor, V: Tensor, length: float, color: str = \"#ffa724\") -> list[object]:\n",
    "    rays_start = P\n",
    "    rays_end = rays_start + length * V\n",
    "    data = torch.hstack((rays_start, rays_end)).tolist()\n",
    "    return {\n",
    "        \"type\": \"rays\",\n",
    "        \"data\": data,\n",
    "        \"color\": color,\n",
    "    }\n",
    "\n",
    "def demo(rays):\n",
    "    all_points = torch.empty((0, 3))\n",
    "    all_normals = torch.empty((0, 3))\n",
    "    P, V = test_rays[:, 0:2], test_rays[:, 2:4]\n",
    "\n",
    "    groups = []\n",
    "    groups.append(\n",
    "        render_rays2D(P, V, 10.)\n",
    "    )\n",
    "\n",
    "    scene = {\n",
    "        # groups\n",
    "        \"data\": groups,\n",
    "        \"mode\": \"2D\",\n",
    "        \"camera\": \"XY\",\n",
    "    }\n",
    "\n",
    "    tlm.viewer.show(scene, ndigits=2)\n",
    "\n",
    "\n",
    "demo(test_rays)"
   ]
  },
  {
   "cell_type": "code",
   "execution_count": null,
   "id": "2",
   "metadata": {},
   "outputs": [],
   "source": []
  }
 ],
 "metadata": {
  "kernelspec": {
   "display_name": "Python 3 (ipykernel)",
   "language": "python",
   "name": "python3"
  },
  "language_info": {
   "codemirror_mode": {
    "name": "ipython",
    "version": 3
   },
   "file_extension": ".py",
   "mimetype": "text/x-python",
   "name": "python",
   "nbconvert_exporter": "python",
   "pygments_lexer": "ipython3",
   "version": "3.12.3"
  }
 },
 "nbformat": 4,
 "nbformat_minor": 5
}
