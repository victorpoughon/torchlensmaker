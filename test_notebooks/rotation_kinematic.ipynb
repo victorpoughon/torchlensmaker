{
 "cells": [
  {
   "cell_type": "markdown",
   "id": "02a60644-8b3a-4867-854e-8e66a1ca7cf1",
   "metadata": {},
   "source": [
    "# Rotation on the kinematic chain"
   ]
  },
  {
   "cell_type": "code",
   "execution_count": null,
   "id": "75f70c67-bd0f-427f-9fd1-c219332b01b6",
   "metadata": {},
   "outputs": [],
   "source": [
    "import torch\n",
    "import torch.nn as nn\n",
    "import torchlensmaker as tlm\n",
    "import torch.optim as optim\n",
    "\n",
    "surface = tlm.Parabola(diameter=15, A=tlm.parameter(0.01))\n",
    "\n",
    "mirror = tlm.ReflectiveSurface(tlm.SquarePlane(20))\n",
    "\n",
    "lens = tlm.BiLens(surface, material = 'BK7-nd', outer_thickness=1.0)\n",
    "\n",
    "optics = nn.Sequential(\n",
    "    tlm.PointSourceAtInfinity(beam_diameter=18.5),\n",
    "    tlm.Gap(10),\n",
    "    lens,\n",
    "    \n",
    "    tlm.Gap(30),\n",
    "    tlm.Rotate(mirror, (45, 0)),\n",
    "\n",
    "    tlm.Turn((-90, 0)),\n",
    "    tlm.Gap(30),\n",
    "    tlm.FocalPoint(),\n",
    ")\n",
    "\n",
    "tlm.show(optics, dim=2)\n",
    "tlm.show(optics, dim=3, sampling={\"base\":100})"
   ]
  },
  {
   "cell_type": "code",
   "execution_count": null,
   "id": "496179a6-ba26-46a7-8e3f-df99f941b20a",
   "metadata": {},
   "outputs": [],
   "source": []
  }
 ],
 "metadata": {
  "kernelspec": {
   "display_name": "Python 3 (ipykernel)",
   "language": "python",
   "name": "python3"
  },
  "language_info": {
   "codemirror_mode": {
    "name": "ipython",
    "version": 3
   },
   "file_extension": ".py",
   "mimetype": "text/x-python",
   "name": "python",
   "nbconvert_exporter": "python",
   "pygments_lexer": "ipython3",
   "version": "3.12.3"
  }
 },
 "nbformat": 4,
 "nbformat_minor": 5
}
