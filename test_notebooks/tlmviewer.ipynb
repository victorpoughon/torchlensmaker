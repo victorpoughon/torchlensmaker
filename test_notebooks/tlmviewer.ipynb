{
 "cells": [
  {
   "cell_type": "markdown",
   "id": "ce524365-50c7-43b3-abb0-345a090c197a",
   "metadata": {},
   "source": [
    "# tlmviewer examples"
   ]
  },
  {
   "cell_type": "code",
   "execution_count": null,
   "id": "2ba1beec-e5d2-444b-a2cc-91868c796ccb",
   "metadata": {},
   "outputs": [],
   "source": [
    "import torchlensmaker as tlm\n",
    "\n",
    "data = {\n",
    "      \"rays\": [\n",
    "        [\n",
    "          [0, 0, 0],\n",
    "          [10, 10, 10],\n",
    "        ],\n",
    "        [\n",
    "          [10, 10, 10],\n",
    "          [20, 0, 0],\n",
    "        ],\n",
    "      ],\n",
    "      \"surfaces\": [\n",
    "        {\"position\": [5, 0, 0],\n",
    "         \"samples\": [\n",
    "          [0.0, 0.0],\n",
    "          [0.3125, 2.5],\n",
    "          [1.25, 5.0],\n",
    "          [2.8125, 7.5],\n",
    "          [5.0, 10.0],\n",
    "        ]}\n",
    "      ],\n",
    "      \"points\": [\n",
    "        [1.0, 1.0, 1.0],\n",
    "        [2.0, 2.0, 2.0],\n",
    "        [3.0, 3.0, 3.0],\n",
    "        [4.0, 4.0, 4.0],\n",
    "        [5.0, 5.0, 5.0],\n",
    "      ]\n",
    "    }\n",
    "    \n",
    "tlm.viewer(data)"
   ]
  },
  {
   "cell_type": "code",
   "execution_count": null,
   "id": "e15d3f46-180e-4c76-9d52-784a67fedc21",
   "metadata": {},
   "outputs": [],
   "source": []
  }
 ],
 "metadata": {
  "kernelspec": {
   "display_name": "Python 3 (ipykernel)",
   "language": "python",
   "name": "python3"
  },
  "language_info": {
   "codemirror_mode": {
    "name": "ipython",
    "version": 3
   },
   "file_extension": ".py",
   "mimetype": "text/x-python",
   "name": "python",
   "nbconvert_exporter": "python",
   "pygments_lexer": "ipython3",
   "version": "3.12.3"
  }
 },
 "nbformat": 4,
 "nbformat_minor": 5
}
