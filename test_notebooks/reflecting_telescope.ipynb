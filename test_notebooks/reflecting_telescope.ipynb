{
 "cells": [
  {
   "cell_type": "markdown",
   "id": "0",
   "metadata": {},
   "source": [
    "# Reflecting Telescope"
   ]
  },
  {
   "cell_type": "code",
   "execution_count": null,
   "id": "1",
   "metadata": {},
   "outputs": [],
   "source": [
    "import torch\n",
    "import torch.nn as nn\n",
    "import torch.optim as optim\n",
    "import torchlensmaker as tlm\n",
    "\n",
    "# A simple reflecting telescope made of two concave mirrors\n",
    "\n",
    "# In this example we keep the position of the mirrors constant\n",
    "# and optimize their curvature jointly\n",
    "\n",
    "# Note that there is more than one solution because rays can cross N times before focusing on the focal point\n",
    "# We want the solution where they cross at the focal point for the first time\n",
    "# TODO use image loss to account for flips\n",
    "# aka \"intermediate image\"\n",
    "\n",
    "\n",
    "\n",
    "primary = tlm.Parabola(35., a=nn.Parameter(torch.tensor(-0.0001)))\n",
    "secondary = tlm.Sphere(35., r=nn.Parameter(torch.tensor(450.0)))\n",
    "\n",
    "optics = nn.Sequential(\n",
    "    tlm.Gap(-100),\n",
    "    tlm.PointSourceAtInfinity(beam_diameter=30),\n",
    "    tlm.Gap(100),\n",
    "    \n",
    "    tlm.ReflectiveSurface(primary),\n",
    "    tlm.Gap(-80),\n",
    "\n",
    "    tlm.ReflectiveSurface(secondary),\n",
    "\n",
    "    tlm.Gap(100),\n",
    "    tlm.FocalPoint(),\n",
    ")\n",
    "\n",
    "tlm.show(optics, mode=\"2D\")\n",
    "tlm.show(optics, mode=\"3D\")"
   ]
  },
  {
   "cell_type": "code",
   "execution_count": null,
   "id": "2",
   "metadata": {},
   "outputs": [],
   "source": [
    "tlm.optimize(\n",
    "    optics,\n",
    "    optimizer = optim.Adam(optics.parameters(), lr=3e-4),\n",
    "    sampling = {\"dim\": 2, \"dtype\": torch.float64, \"base\": 10},\n",
    "    num_iter = 100\n",
    ").plot()"
   ]
  },
  {
   "cell_type": "code",
   "execution_count": null,
   "id": "28cbc59a-027b-46a0-9c14-1e32a88972d5",
   "metadata": {},
   "outputs": [],
   "source": [
    "tlm.show(optics, mode=\"2D\")\n",
    "tlm.show(optics, mode=\"3D\")"
   ]
  },
  {
   "cell_type": "code",
   "execution_count": null,
   "id": "6d33194a-08b6-4f76-9833-24d3e637c328",
   "metadata": {},
   "outputs": [],
   "source": []
  }
 ],
 "metadata": {
  "kernelspec": {
   "display_name": "Python 3 (ipykernel)",
   "language": "python",
   "name": "python3"
  },
  "language_info": {
   "codemirror_mode": {
    "name": "ipython",
    "version": 3
   },
   "file_extension": ".py",
   "mimetype": "text/x-python",
   "name": "python",
   "nbconvert_exporter": "python",
   "pygments_lexer": "ipython3",
   "version": "3.12.3"
  }
 },
 "nbformat": 4,
 "nbformat_minor": 5
}
