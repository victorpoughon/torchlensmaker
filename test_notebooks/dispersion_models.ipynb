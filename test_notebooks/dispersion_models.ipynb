{
 "cells": [
  {
   "cell_type": "markdown",
   "id": "65225b0c-767d-462f-b2e9-98beaabb8382",
   "metadata": {},
   "source": [
    "# Dispersion models"
   ]
  },
  {
   "cell_type": "raw",
   "id": "5e96da98-7749-4488-9114-f74866190b2f",
   "metadata": {},
   "source": [
    "(µm)                        A       B\n",
    "Fused silica \t            1.4580 \t0.00354\n",
    "Borosilicate glass BK7 \t    1.5046 \t0.00420\n",
    "Hard crown glass K5 \t    1.5220 \t0.00459\n",
    "Barium crown glass BaK4 \t1.5690 \t0.00531\n",
    "Barium flint glass BaF10 \t1.6700 \t0.00743\n",
    "Dense flint glass SF10 \t    1.7280 \t0.01342 "
   ]
  },
  {
   "cell_type": "code",
   "execution_count": null,
   "id": "41941e5e-cfdf-4650-b397-fa60a3ac77ef",
   "metadata": {},
   "outputs": [],
   "source": [
    "class DispersionModel:\n",
    "    def forward(self, W):\n",
    "        raise NotImplementedError\n",
    "\n",
    "\n",
    "class Cauchy(DispersionModel):\n",
    "    def __init__(self, A, B, C):\n",
    "        self.A = A\n",
    "        self.B = B\n",
    "        self.C = C\n",
    "\n",
    "    def forward(self, W):\n",
    "        return self.A + self.B/torch.pow(W, 2) + self.C/torch.pow(W, 4)\n",
    "\n",
    "\n"
   ]
  }
 ],
 "metadata": {
  "kernelspec": {
   "display_name": "Python 3 (ipykernel)",
   "language": "python",
   "name": "python3"
  },
  "language_info": {
   "codemirror_mode": {
    "name": "ipython",
    "version": 3
   },
   "file_extension": ".py",
   "mimetype": "text/x-python",
   "name": "python",
   "nbconvert_exporter": "python",
   "pygments_lexer": "ipython3",
   "version": "3.12.3"
  }
 },
 "nbformat": 4,
 "nbformat_minor": 5
}
