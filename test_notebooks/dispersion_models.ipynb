{
 "cells": [
  {
   "cell_type": "markdown",
   "id": "65225b0c-767d-462f-b2e9-98beaabb8382",
   "metadata": {},
   "source": [
    "# Dispersion models"
   ]
  },
  {
   "cell_type": "code",
   "execution_count": null,
   "id": "41941e5e-cfdf-4650-b397-fa60a3ac77ef",
   "metadata": {},
   "outputs": [],
   "source": [
    "import torch.nn as nn\n",
    "import torch\n",
    "import matplotlib.pyplot as plt\n",
    "import numpy as np\n",
    "\n",
    "from torchlensmaker.materials import *\n",
    "\n",
    "def plot_dispersion_models(models, wmin=400, wmax=700, labels=None):\n",
    "    \"\"\"\n",
    "    Plot multiple dispersion models from wmin to wmax (in nm)\n",
    "\n",
    "    Args:\n",
    "        models: list of DispersionModel objects\n",
    "        labels: optional list of labels\n",
    "    \"\"\"\n",
    "    W = torch.linspace(wmin, wmax, 1000)\n",
    "    \n",
    "    fig, ax = plt.subplots(figsize=(12, 8))\n",
    "\n",
    "    if labels is None:\n",
    "        labels = [type(m) for m in models]\n",
    "\n",
    "    for label, model in zip(labels, models):\n",
    "        N = model.refractive_index(W)\n",
    "        ax.plot(W, N, label=label)\n",
    "\n",
    "    ax.legend()\n",
    "    ax.set_ylabel(\"Index of refraction\")\n",
    "    ax.set_xlabel(\"Wavelength (nm)\")\n",
    "\n",
    "\n",
    "plot_dispersion_models(default_material_models_dict.values(), labels=default_material_models_dict.keys())"
   ]
  },
  {
   "cell_type": "code",
   "execution_count": null,
   "id": "64a06921-e88c-41b0-9acd-4d05addbef2f",
   "metadata": {},
   "outputs": [],
   "source": []
  }
 ],
 "metadata": {
  "kernelspec": {
   "display_name": "Python 3 (ipykernel)",
   "language": "python",
   "name": "python3"
  },
  "language_info": {
   "codemirror_mode": {
    "name": "ipython",
    "version": 3
   },
   "file_extension": ".py",
   "mimetype": "text/x-python",
   "name": "python",
   "nbconvert_exporter": "python",
   "pygments_lexer": "ipython3",
   "version": "3.12.3"
  }
 },
 "nbformat": 4,
 "nbformat_minor": 5
}
