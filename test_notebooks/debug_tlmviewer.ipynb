{
 "cells": [
  {
   "cell_type": "code",
   "execution_count": null,
   "id": "dc93a2d1-e292-44ce-911e-4144eb5075e1",
   "metadata": {},
   "outputs": [],
   "source": [
    "import torchlensmaker as tlm\n",
    "import torch\n",
    "\n",
    "groups = []\n",
    "\n",
    "rays = torch.tensor([\n",
    "    [0, 0, 0, 1, 1, 1],\n",
    "    [10, 10, 10, 1, -1, 1],\n",
    "    [0, 0, 0, 1, 1, -1],\n",
    "    [0, 0, 0, -1, -1, -1],\n",
    "    [-10, 10, 0, -1, -1, -1],\n",
    "    [10, 0, -10, 1, 1, -1],\n",
    "])\n",
    "\n",
    "groups.extend(\n",
    "    tlm.viewer.render(rays=rays, rays_color=\"orange\", rays_length=30)\n",
    ")\n",
    "\n",
    "\n",
    "tlm.viewer.show(groups)"
   ]
  },
  {
   "cell_type": "code",
   "execution_count": null,
   "id": "dc60fb37-f840-414c-9717-2fc63ed98c61",
   "metadata": {},
   "outputs": [],
   "source": [
    "import torchlensmaker as tlm\n",
    "import torch\n",
    "\n",
    "groups = []\n",
    "\n",
    "rays = torch.tensor([\n",
    "    [0, 0, 0, 1, 1, 1],\n",
    "    [10, 10, 10, 1, -1, 1],\n",
    "    [0, 0, 0, 1, 1, -1],\n",
    "    [0, 0, 0, -1, -1, -1],\n",
    "    [-10, 10, 0, -1, -1, -1],\n",
    "    [10, 0, -10, 1, 1, -1],\n",
    "])\n",
    "\n",
    "groups.extend(\n",
    "    tlm.viewer.render(rays=rays, rays_color=\"orange\", rays_length=30)\n",
    ")\n",
    "\n",
    "\n",
    "tlm.viewer.show(groups)\n",
    "\n",
    "tlm.viewer.show(groups)"
   ]
  },
  {
   "cell_type": "code",
   "execution_count": null,
   "id": "d672dc63-3640-4e81-9fd4-afb4f578dc90",
   "metadata": {},
   "outputs": [],
   "source": []
  }
 ],
 "metadata": {
  "kernelspec": {
   "display_name": "Python 3 (ipykernel)",
   "language": "python",
   "name": "python3"
  },
  "language_info": {
   "codemirror_mode": {
    "name": "ipython",
    "version": 3
   },
   "file_extension": ".py",
   "mimetype": "text/x-python",
   "name": "python",
   "nbconvert_exporter": "python",
   "pygments_lexer": "ipython3",
   "version": "3.12.3"
  }
 },
 "nbformat": 4,
 "nbformat_minor": 5
}
