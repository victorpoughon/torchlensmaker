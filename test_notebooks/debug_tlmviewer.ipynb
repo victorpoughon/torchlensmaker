{
 "cells": [
  {
   "cell_type": "code",
   "execution_count": 1,
   "id": "dc93a2d1-e292-44ce-911e-4144eb5075e1",
   "metadata": {},
   "outputs": [
    {
     "data": {
      "text/html": [
       "<div data-jp-suppress-context-menu id='tlmviewer-9e88389b' style='width: 800px; height: 600px;'></div><script type='module'>async function importtlm() {\n",
       "    try {\n",
       "        return await import(\"/files/test_notebooks/tlmviewer.js\");\n",
       "    } catch (error) {\n",
       "        console.log(\"error\", error);\n",
       "        return await import(\"/tlmviewer.js\");\n",
       "    }\n",
       "}\n",
       "\n",
       "const module = await importtlm();\n",
       "const tlmviewer = module.tlmviewer;\n",
       "\n",
       "const data = '[{\"type\": \"rays\", \"data\": [[0, 0, 0, 30, 30, 30], [10, 10, 10, 40, -20, 40], [0, 0, 0, 30, 30, -30], [0, 0, 0, -30, -30, -30], [-10, 10, 0, -40, -20, -30], [10, 0, -10, 40, 30, -40]], \"color\": \"orange\"}]';\n",
       "    \n",
       "tlmviewer(document.getElementById(\"tlmviewer-9e88389b\"), data);    \n",
       "</script>"
      ],
      "text/plain": [
       "<IPython.core.display.HTML object>"
      ]
     },
     "metadata": {},
     "output_type": "display_data"
    }
   ],
   "source": [
    "import torchlensmaker as tlm\n",
    "import torch\n",
    "\n",
    "groups = []\n",
    "\n",
    "rays = torch.tensor([\n",
    "    [0, 0, 0, 1, 1, 1],\n",
    "    [10, 10, 10, 1, -1, 1],\n",
    "    [0, 0, 0, 1, 1, -1],\n",
    "    [0, 0, 0, -1, -1, -1],\n",
    "    [-10, 10, 0, -1, -1, -1],\n",
    "    [10, 0, -10, 1, 1, -1],\n",
    "])\n",
    "\n",
    "groups.extend(\n",
    "    tlm.viewer.render(rays=rays, rays_color=\"orange\", rays_length=30)\n",
    ")\n",
    "\n",
    "\n",
    "tlm.viewer.show(groups)"
   ]
  },
  {
   "cell_type": "code",
   "execution_count": 2,
   "id": "dc60fb37-f840-414c-9717-2fc63ed98c61",
   "metadata": {},
   "outputs": [
    {
     "data": {
      "text/html": [
       "<div data-jp-suppress-context-menu id='tlmviewer-6b2246a3' style='width: 800px; height: 600px;'></div><script type='module'>async function importtlm() {\n",
       "    try {\n",
       "        return await import(\"/files/test_notebooks/tlmviewer.js\");\n",
       "    } catch (error) {\n",
       "        console.log(\"error\", error);\n",
       "        return await import(\"/tlmviewer.js\");\n",
       "    }\n",
       "}\n",
       "\n",
       "const module = await importtlm();\n",
       "const tlmviewer = module.tlmviewer;\n",
       "\n",
       "const data = '[{\"type\": \"rays\", \"data\": [[0, 0, 0, 30, 30, 30], [10, 10, 10, 40, -20, 40], [0, 0, 0, 30, 30, -30], [0, 0, 0, -30, -30, -30], [-10, 10, 0, -40, -20, -30], [10, 0, -10, 40, 30, -40]], \"color\": \"orange\"}]';\n",
       "    \n",
       "tlmviewer(document.getElementById(\"tlmviewer-6b2246a3\"), data);    \n",
       "</script>"
      ],
      "text/plain": [
       "<IPython.core.display.HTML object>"
      ]
     },
     "metadata": {},
     "output_type": "display_data"
    },
    {
     "data": {
      "text/html": [
       "<div data-jp-suppress-context-menu id='tlmviewer-014f14db' style='width: 800px; height: 600px;'></div><script type='module'>async function importtlm() {\n",
       "    try {\n",
       "        return await import(\"/files/test_notebooks/tlmviewer.js\");\n",
       "    } catch (error) {\n",
       "        console.log(\"error\", error);\n",
       "        return await import(\"/tlmviewer.js\");\n",
       "    }\n",
       "}\n",
       "\n",
       "const module = await importtlm();\n",
       "const tlmviewer = module.tlmviewer;\n",
       "\n",
       "const data = '[{\"type\": \"rays\", \"data\": [[0, 0, 0, 30, 30, 30], [10, 10, 10, 40, -20, 40], [0, 0, 0, 30, 30, -30], [0, 0, 0, -30, -30, -30], [-10, 10, 0, -40, -20, -30], [10, 0, -10, 40, 30, -40]], \"color\": \"orange\"}]';\n",
       "    \n",
       "tlmviewer(document.getElementById(\"tlmviewer-014f14db\"), data);    \n",
       "</script>"
      ],
      "text/plain": [
       "<IPython.core.display.HTML object>"
      ]
     },
     "metadata": {},
     "output_type": "display_data"
    }
   ],
   "source": [
    "import torchlensmaker as tlm\n",
    "import torch\n",
    "\n",
    "groups = []\n",
    "\n",
    "rays = torch.tensor([\n",
    "    [0, 0, 0, 1, 1, 1],\n",
    "    [10, 10, 10, 1, -1, 1],\n",
    "    [0, 0, 0, 1, 1, -1],\n",
    "    [0, 0, 0, -1, -1, -1],\n",
    "    [-10, 10, 0, -1, -1, -1],\n",
    "    [10, 0, -10, 1, 1, -1],\n",
    "])\n",
    "\n",
    "groups.extend(\n",
    "    tlm.viewer.render(rays=rays, rays_color=\"orange\", rays_length=30)\n",
    ")\n",
    "\n",
    "\n",
    "tlm.viewer.show(groups)\n",
    "\n",
    "tlm.viewer.show(groups)"
   ]
  },
  {
   "cell_type": "code",
   "execution_count": null,
   "id": "d672dc63-3640-4e81-9fd4-afb4f578dc90",
   "metadata": {},
   "outputs": [],
   "source": []
  }
 ],
 "metadata": {
  "kernelspec": {
   "display_name": "Python 3 (ipykernel)",
   "language": "python",
   "name": "python3"
  },
  "language_info": {
   "codemirror_mode": {
    "name": "ipython",
    "version": 3
   },
   "file_extension": ".py",
   "mimetype": "text/x-python",
   "name": "python",
   "nbconvert_exporter": "python",
   "pygments_lexer": "ipython3",
   "version": "3.12.3"
  }
 },
 "nbformat": 4,
 "nbformat_minor": 5
}
