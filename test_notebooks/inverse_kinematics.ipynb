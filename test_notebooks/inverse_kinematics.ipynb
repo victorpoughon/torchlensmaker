{
 "cells": [
  {
   "cell_type": "markdown",
   "id": "6014db2e-9e80-49e6-b76c-5492b31377df",
   "metadata": {},
   "source": [
    "# Inverse kinematics"
   ]
  },
  {
   "cell_type": "markdown",
   "id": "00884553-93f1-49c6-81df-4edd97cf6c48",
   "metadata": {},
   "source": [
    "An example of how tlm can be used to solve a simple 3D inverse kinematics problem."
   ]
  },
  {
   "cell_type": "code",
   "execution_count": null,
   "id": "0e6fe0d3-effe-4fa5-bccb-42d802365814",
   "metadata": {},
   "outputs": [],
   "source": [
    "import torch\n",
    "import torch.nn as nn\n",
    "import torchlensmaker as tlm\n",
    "\n",
    "alpha1 = tlm.parameter(torch.tensor([-20, 0]))\n",
    "alpha2 = tlm.parameter(torch.tensor([0, 0]))\n",
    "\n",
    "length1 = tlm.parameter(10.)\n",
    "\n",
    "class Target(nn.Module):\n",
    "    def __init__(self, point):\n",
    "        super().__init__()\n",
    "        self.point = point\n",
    "\n",
    "    def forward(self, inputs):\n",
    "        return inputs.replace(loss=torch.linalg.vector_norm(inputs.target() - self.point))\n",
    "\n",
    "model = tlm.Sequential(\n",
    "    tlm.Gap(length1),\n",
    "    tlm.Turn(alpha1),\n",
    "    tlm.Gap(5),\n",
    "    tlm.Turn(alpha2),\n",
    "    tlm.Gap(5),\n",
    "    Target(torch.Tensor([20, 6, 6])),\n",
    ")\n",
    "\n",
    "for name, param in model.named_parameters():\n",
    "    print(name, param)\n",
    "\n",
    "tlm.show3d(model)"
   ]
  },
  {
   "cell_type": "code",
   "execution_count": null,
   "id": "13c2bb3a-aeb6-4b28-a95a-20567dd477a1",
   "metadata": {},
   "outputs": [],
   "source": [
    "import torch.optim as optim\n",
    "\n",
    "\n",
    "tlm.optimize(\n",
    "    model,\n",
    "    optimizer = optim.Adam(model.parameters(), lr=0.5),\n",
    "    sampling = {},\n",
    "    dim = 3,\n",
    "    num_iter = 100\n",
    ").plot()\n",
    "\n",
    "print(\"length:\", length1.item())\n",
    "print(\"alpha1:\", torch.rad2deg(alpha1).detach().numpy())\n",
    "print(\"alpha2:\", torch.rad2deg(alpha2).detach().numpy())\n",
    "\n",
    "tlm.show3d(model)"
   ]
  },
  {
   "cell_type": "code",
   "execution_count": null,
   "id": "a6576821-f400-4c42-a5f3-bb3a20a5ad8e",
   "metadata": {},
   "outputs": [],
   "source": [
    "\n"
   ]
  }
 ],
 "metadata": {
  "kernelspec": {
   "display_name": "Python 3 (ipykernel)",
   "language": "python",
   "name": "python3"
  },
  "language_info": {
   "codemirror_mode": {
    "name": "ipython",
    "version": 3
   },
   "file_extension": ".py",
   "mimetype": "text/x-python",
   "name": "python",
   "nbconvert_exporter": "python",
   "pygments_lexer": "ipython3",
   "version": "3.12.3"
  }
 },
 "nbformat": 4,
 "nbformat_minor": 5
}
