{
 "cells": [
  {
   "cell_type": "markdown",
   "id": "2a01becd-589d-40b7-b821-f5152f468e1f",
   "metadata": {},
   "source": [
    "# Biconcave diverging lens"
   ]
  },
  {
   "cell_type": "code",
   "execution_count": null,
   "id": "94180b05-ed97-4d0a-86fd-2155534912c9",
   "metadata": {},
   "outputs": [],
   "source": [
    "import torch\n",
    "import torch.nn as nn\n",
    "import torchlensmaker as tlm\n",
    "import torch.optim as optim\n",
    "\n",
    "surface = tlm.Parabola(20., a=tlm.parameter(0.005))\n",
    "\n",
    "lens = tlm.BiLens(surface, (1.0, 1.5), inner_thickness=1.0)\n",
    "\n",
    "optics = nn.Sequential(\n",
    "    tlm.PointSourceAtInfinity(15),\n",
    "    tlm.Gap(10), \n",
    "    lens,\n",
    "    tlm.Gap(-25),\n",
    "    tlm.FocalPoint(),\n",
    ")\n",
    "\n",
    "tlm.show(optics, mode=\"2D\")\n",
    "tlm.show(optics, mode=\"3D\")\n",
    "\n",
    "# Perform optimization in 2D\n",
    "tlm.optimize(\n",
    "    optics,\n",
    "    optimizer = optim.Adam(optics.parameters(), lr=3e-4),\n",
    "    sampling = {\"dim\": 2, \"dtype\": torch.float64, \"base\": 10},\n",
    "    num_iter = 100\n",
    ").plot()\n",
    "\n",
    "print(\"Outer thickness:\", lens.outer_thickness().item())\n",
    "print(\"Inner thickness:\", lens.inner_thickness().item())\n",
    "\n",
    "# Render again after optimization\n",
    "tlm.show(optics, mode=\"2D\")\n",
    "tlm.show(optics, mode=\"3D\")"
   ]
  },
  {
   "cell_type": "code",
   "execution_count": null,
   "id": "a8b2f763-ad43-4432-a650-780a1665e63a",
   "metadata": {},
   "outputs": [],
   "source": [
    "from IPython.display import display\n",
    "\n",
    "display(tlm.export.lens_to_part(lens))"
   ]
  },
  {
   "cell_type": "code",
   "execution_count": null,
   "id": "ff310cae-6e4a-4495-8c58-bf201fb89ec9",
   "metadata": {},
   "outputs": [],
   "source": []
  }
 ],
 "metadata": {
  "kernelspec": {
   "display_name": "Python 3 (ipykernel)",
   "language": "python",
   "name": "python3"
  },
  "language_info": {
   "codemirror_mode": {
    "name": "ipython",
    "version": 3
   },
   "file_extension": ".py",
   "mimetype": "text/x-python",
   "name": "python",
   "nbconvert_exporter": "python",
   "pygments_lexer": "ipython3",
   "version": "3.12.3"
  }
 },
 "nbformat": 4,
 "nbformat_minor": 5
}
