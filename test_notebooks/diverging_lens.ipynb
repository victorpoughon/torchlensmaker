{
 "cells": [
  {
   "cell_type": "markdown",
   "id": "2a01becd-589d-40b7-b821-f5152f468e1f",
   "metadata": {},
   "source": [
    "# Biconcave diverging lens"
   ]
  },
  {
   "cell_type": "code",
   "execution_count": null,
   "id": "99080549-8631-4d34-b9cd-7268862351c4",
   "metadata": {},
   "outputs": [],
   "source": [
    "import torch\n",
    "import torch.nn as nn\n",
    "import torchlensmaker as tlm\n",
    "import torch.optim as optim\n",
    "\n",
    "surface = tlm.Parabola(20., A=tlm.parameter(-0.03))\n",
    "\n",
    "lens = tlm.BiLens(surface, material = 'BK7-nd', inner_thickness=1.0)\n",
    "\n",
    "optics = nn.Sequential(\n",
    "    tlm.PointSourceAtInfinity(15),\n",
    "    tlm.Gap(10), \n",
    "    lens,\n",
    "    tlm.Gap(-25),\n",
    "    tlm.FocalPoint(),\n",
    ")\n",
    "\n",
    "tlm.show(optics, dim=2)\n",
    "tlm.show(optics, dim=3)"
   ]
  },
  {
   "cell_type": "code",
   "execution_count": null,
   "id": "7a3ed1f2-fad9-47c8-951b-0c749b02df73",
   "metadata": {},
   "outputs": [],
   "source": [
    "# Perform optimization in 2D\n",
    "tlm.optimize(\n",
    "    optics,\n",
    "    optimizer = optim.Adam(optics.parameters(), lr=1e-3),\n",
    "    sampling = {\"base\": 10},\n",
    "    dim = 2,\n",
    "    num_iter = 100\n",
    ").plot()\n",
    "\n",
    "print(\"Outer thickness:\", lens.outer_thickness().item())\n",
    "print(\"Inner thickness:\", lens.inner_thickness().item())\n",
    "\n",
    "# Render again after optimization\n",
    "tlm.show(optics, dim=2)\n",
    "tlm.show(optics, dim=3)"
   ]
  },
  {
   "cell_type": "code",
   "execution_count": null,
   "id": "a8b2f763-ad43-4432-a650-780a1665e63a",
   "metadata": {},
   "outputs": [],
   "source": [
    "part = tlm.export.lens_to_part(lens)\n",
    "tlm.show_part(part)"
   ]
  },
  {
   "cell_type": "code",
   "execution_count": null,
   "id": "ff310cae-6e4a-4495-8c58-bf201fb89ec9",
   "metadata": {},
   "outputs": [],
   "source": []
  }
 ],
 "metadata": {
  "kernelspec": {
   "display_name": "Python 3 (ipykernel)",
   "language": "python",
   "name": "python3"
  },
  "language_info": {
   "codemirror_mode": {
    "name": "ipython",
    "version": 3
   },
   "file_extension": ".py",
   "mimetype": "text/x-python",
   "name": "python",
   "nbconvert_exporter": "python",
   "pygments_lexer": "ipython3",
   "version": "3.12.3"
  }
 },
 "nbformat": 4,
 "nbformat_minor": 5
}
