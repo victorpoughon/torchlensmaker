{
 "cells": [
  {
   "cell_type": "markdown",
   "id": "0",
   "metadata": {},
   "source": [
    "# Test tlmviewer"
   ]
  },
  {
   "cell_type": "code",
   "execution_count": null,
   "id": "88ba7daf-b411-4721-a6b5-6a187d10a3ab",
   "metadata": {},
   "outputs": [],
   "source": [
    "# RENDERING RAYS\n",
    "\n",
    "import torch\n",
    "import torchlensmaker as tlm\n",
    "\n",
    "start = torch.tensor([[0, 0], [0, 0]])\n",
    "end = torch.tensor([[10, 10], [-10, -10]])\n",
    "variables = {\n",
    "    \"base\": torch.tensor([0.5, 0.6]),\n",
    "    \"object\": torch.tensor([10.0, 11.0]),\n",
    "}\n",
    "domain = {\n",
    "    \"base\": [0, 1],\n",
    "    \"object\": [0, 12]\n",
    "}\n",
    "\n",
    "scene = tlm.viewer.new_scene(\"2D\")\n",
    "scene[\"data\"].append(tlm.viewer.render_rays(start, end, 0, variables, domain))\n",
    "tlm.viewer.display_scene(scene)"
   ]
  },
  {
   "cell_type": "code",
   "execution_count": null,
   "id": "1",
   "metadata": {},
   "outputs": [],
   "source": [
    "# RENDER 2D SURFACES\n",
    "\n",
    "import torchlensmaker as tlm\n",
    "\n",
    "from torchlensmaker.testing.basic_transform import basic_transform\n",
    "\n",
    "\n",
    "test_data = [\n",
    "    (basic_transform(1.0, \"extent\", 0., [35/2., 15]), tlm.SphereR(35.0, 35/2)),\n",
    "    (basic_transform(-1.0, \"extent\", 0., [35/2., 15]), tlm.SphereR(35.0, 35/2)),\n",
    "\n",
    "    (basic_transform(1.0, \"extent\", 50., [40., 5]), tlm.Parabola(125.0, 0.01)),\n",
    "\n",
    "    (basic_transform(1.0, \"extent\", -50., [-40., 5]), tlm.CircularPlane(100.)),\n",
    "    (basic_transform(1.0, \"extent\", 50., [-40., 5]), tlm.SquarePlane(100.)),\n",
    "]\n",
    "\n",
    "test_surfaces = [s for t, s in test_data]\n",
    "test_transforms = [t(s) for t, s in test_data]\n",
    "\n",
    "scene = tlm.viewer.new_scene(\"2D\")\n",
    "\n",
    "\n",
    "scene[\"data\"].append(tlm.viewer.render_surfaces(test_surfaces, test_transforms, dim=2))\n",
    "\n",
    "tlm.viewer.display_scene(scene)\n",
    "#tlm.viewer.display_scene(scene, ndigits=3, dump=True)"
   ]
  },
  {
   "cell_type": "code",
   "execution_count": null,
   "id": "2",
   "metadata": {},
   "outputs": [],
   "source": [
    "# RENDER 3D SURFACES\n",
    "\n",
    "import torchlensmaker as tlm\n",
    "\n",
    "test_data = [\n",
    "    (basic_transform(1.0, \"origin\", [45., 10., 0.], [0., 0., 0.]), tlm.Sphere(15.0, 1e6)),\n",
    "    (basic_transform(1.0, \"origin\", [45., -10., 0.], [10., 0., -10.]), tlm.Sphere(25.0, 20)),\n",
    "    (basic_transform(1.0, \"origin\", [45.0, -25.0, 0.0], [0.0, 0.0, 0.0]), tlm.Parabola(30., 0.05)),\n",
    "    (basic_transform(1.0, \"origin\", [45.0, 0.0, 15.0], [-10.0, 10.0, 5.0]), tlm.SquarePlane(30.)),\n",
    "    (basic_transform(1.0, \"origin\", [45., -60., 0.], [80., 0., 0.]), tlm.CircularPlane(50.)),\n",
    "]\n",
    "\n",
    "test_surfaces = [s for t, s in test_data]\n",
    "test_transforms = [t(s) for t, s in test_data]\n",
    "\n",
    "scene = tlm.viewer.new_scene(\"3D\")\n",
    "scene[\"data\"].append(tlm.viewer.render_surfaces(test_surfaces, test_transforms, dim=3))\n",
    "\n",
    "tlm.viewer.display_scene(scene)\n",
    "#tlm.viewer.display_scene(scene,ndigits=2,dump=True)"
   ]
  },
  {
   "cell_type": "code",
   "execution_count": null,
   "id": "14210e4f-021e-47cc-a4f1-cdf737fc0447",
   "metadata": {},
   "outputs": [],
   "source": [
    "# Setting initial controls state\n",
    "\n",
    "import torch\n",
    "import torch.nn as nn\n",
    "import torchlensmaker as tlm\n",
    "import torch.optim as optim\n",
    "\n",
    "# Setup two spherical surfaces with initial radiuses\n",
    "surface1 = tlm.Sphere(diameter=30, R=tlm.parameter(-60))\n",
    "surface2 = tlm.Sphere(diameter=30, R=tlm.parameter(-35))\n",
    "\n",
    "lens = tlm.Lens(surface1, surface2, material=\"BK7-nd\", outer_thickness=2.2)\n",
    "\n",
    "focal = 120.5\n",
    "\n",
    "# Build the optical sequence\n",
    "optics = nn.Sequential(\n",
    "    tlm.ObjectAtInfinity(beam_diameter=8, angular_size=30),\n",
    "    tlm.Gap(15),\n",
    "    lens,\n",
    "    tlm.Gap(focal),\n",
    "    tlm.ImagePlane(diameter=100, magnification=125.),\n",
    ")\n",
    "\n",
    "tlm.show(optics, dim=2, sampling={\"base\": 10, \"object\": 5, \"sampler\": \"uniform\"}, controls=False)\n",
    "\n",
    "#tlm.export_json(optics, \"test_controls.json\", dim=2, sampling={\"base\": 10, \"object\": 5, \"sampler\": \"uniform\"}, controls=False)"
   ]
  },
  {
   "cell_type": "code",
   "execution_count": null,
   "id": "f7b88361-d736-47bb-8f04-0ee920fc41c4",
   "metadata": {},
   "outputs": [],
   "source": []
  }
 ],
 "metadata": {
  "kernelspec": {
   "display_name": "Python 3 (ipykernel)",
   "language": "python",
   "name": "python3"
  },
  "language_info": {
   "codemirror_mode": {
    "name": "ipython",
    "version": 3
   },
   "file_extension": ".py",
   "mimetype": "text/x-python",
   "name": "python",
   "nbconvert_exporter": "python",
   "pygments_lexer": "ipython3",
   "version": "3.12.3"
  }
 },
 "nbformat": 4,
 "nbformat_minor": 5
}
