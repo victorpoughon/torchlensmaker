{
 "cells": [
  {
   "cell_type": "markdown",
   "id": "79512959-0eb4-41cf-8ebb-48e1cb0492a3",
   "metadata": {},
   "source": [
    "# Index example\n",
    "\n",
    "This is the example script for the documentation index page."
   ]
  },
  {
   "cell_type": "code",
   "execution_count": null,
   "id": "90d39401-3fb0-471e-9be4-6b5d93bdf3d7",
   "metadata": {},
   "outputs": [],
   "source": [
    "import torchlensmaker as tlm\n",
    "import torch.optim as optim\n",
    "\n",
    "# Define the optical sequence\n",
    "optics = tlm.Sequential(\n",
    "    tlm.ObjectAtInfinity(beam_diameter=10, angular_size=20),\n",
    "    tlm.Gap(15),\n",
    "    tlm.RefractiveSurface(tlm.Sphere(diameter=25, R=-45.), material=\"BK7-nd\"),\n",
    "    tlm.Gap(3),\n",
    "    tlm.RefractiveSurface(tlm.Sphere(diameter=25, R=tlm.parameter(-20)), material=\"air\"),\n",
    "    tlm.Gap(100),\n",
    "    tlm.ImagePlane(50),\n",
    ")\n",
    "\n",
    "# Optimize the radius of curvature with 3D rays\n",
    "tlm.optimize(optics, optim.Adam(optics.parameters(), lr=5e-4), {\"base\": 10, \"object\": 5}, dim = 3, num_iter = 100).plot()\n",
    "\n",
    "# Show 2D layout\n",
    "tlm.show2d(optics, title=\"Landscape Lens\")"
   ]
  },
  {
   "cell_type": "code",
   "execution_count": null,
   "id": "1f9b4cda-9430-4fb4-9439-c510dce21dc3",
   "metadata": {},
   "outputs": [],
   "source": []
  }
 ],
 "metadata": {
  "kernelspec": {
   "display_name": "Python 3 (ipykernel)",
   "language": "python",
   "name": "python3"
  },
  "language_info": {
   "codemirror_mode": {
    "name": "ipython",
    "version": 3
   },
   "file_extension": ".py",
   "mimetype": "text/x-python",
   "name": "python",
   "nbconvert_exporter": "python",
   "pygments_lexer": "ipython3",
   "version": "3.12.3"
  }
 },
 "nbformat": 4,
 "nbformat_minor": 5
}
