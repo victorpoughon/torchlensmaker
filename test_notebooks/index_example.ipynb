{
 "cells": [
  {
   "cell_type": "markdown",
   "id": "79512959-0eb4-41cf-8ebb-48e1cb0492a3",
   "metadata": {},
   "source": [
    "# Index example\n",
    "\n",
    "This is the example script for the documentation welcome page."
   ]
  },
  {
   "cell_type": "code",
   "execution_count": null,
   "id": "90d39401-3fb0-471e-9be4-6b5d93bdf3d7",
   "metadata": {},
   "outputs": [],
   "source": [
    "import torchlensmaker as tlm\n",
    "\n",
    "optics = tlm.Sequential(\n",
    "    tlm.ObjectAtInfinity(beam_diameter=10, angular_size=20),\n",
    "    tlm.Gap(15),\n",
    "    tlm.RefractiveSurface(tlm.Sphere(diameter=25, R=-45.0), material=\"BK7-nd\"),\n",
    "    tlm.Gap(3),\n",
    "    tlm.RefractiveSurface(tlm.Sphere(diameter=25, R=tlm.parameter(-20)), material=\"air\"),\n",
    "    tlm.Gap(100),\n",
    "    tlm.ImagePlane(50),\n",
    ")\n",
    "\n",
    "tlm.optimize(optics, tlm.optim.Adam(optics.parameters(), lr=5e-4), {\"base\": 10, \"object\": 5}, 100)\n",
    "\n",
    "tlm.show2d(optics, title=\"Landscape Lens\")"
   ]
  },
  {
   "cell_type": "code",
   "execution_count": null,
   "id": "1f9b4cda-9430-4fb4-9439-c510dce21dc3",
   "metadata": {},
   "outputs": [],
   "source": [
    "import numpy as np\n",
    "\n",
    "# Spot diaggram at 0, 5 and 10 and 15 degrees incidence angles\n",
    "sampling = {\"base\":1000, \"object\": [\n",
    "    [np.deg2rad(0), 0.],\n",
    "    [np.deg2rad(5), 0.],\n",
    "    [np.deg2rad(10), 0.]]\n",
    "}\n",
    "\n",
    "_ = tlm.spot_diagram(optics, sampling, col=\"object\", figsize=(12, 12))"
   ]
  },
  {
   "cell_type": "code",
   "execution_count": null,
   "id": "a92b9371-79b6-4b75-b4f2-78d11bc9796b",
   "metadata": {},
   "outputs": [],
   "source": []
  }
 ],
 "metadata": {
  "kernelspec": {
   "display_name": "Python 3 (ipykernel)",
   "language": "python",
   "name": "python3"
  },
  "language_info": {
   "codemirror_mode": {
    "name": "ipython",
    "version": 3
   },
   "file_extension": ".py",
   "mimetype": "text/x-python",
   "name": "python",
   "nbconvert_exporter": "python",
   "pygments_lexer": "ipython3",
   "version": "3.12.3"
  }
 },
 "nbformat": 4,
 "nbformat_minor": 5
}
