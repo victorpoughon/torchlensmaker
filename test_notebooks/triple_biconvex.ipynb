{
 "cells": [
  {
   "cell_type": "markdown",
   "id": "0",
   "metadata": {},
   "source": [
    "# Triple Lens"
   ]
  },
  {
   "cell_type": "code",
   "execution_count": null,
   "id": "a24bac99-86fc-482e-9c28-b5a14fbb7f13",
   "metadata": {},
   "outputs": [],
   "source": [
    "import torch\n",
    "import torch.nn as nn\n",
    "import torch.optim as optim\n",
    "\n",
    "class Surface:\n",
    "    def __init__(self, p):\n",
    "        self.p = torch.as_tensor(p, dtype=torch.float64)\n",
    "\n",
    "    def parameters(self):\n",
    "        if isinstance(self.p, nn.Parameter):\n",
    "            return {\"p\": self.p}\n",
    "        else:\n",
    "            return {}\n",
    "\n",
    "class Foo(nn.Module):\n",
    "    def __init__(self, surface):\n",
    "        super().__init__()\n",
    "\n",
    "        self.surface = surface\n",
    "\n",
    "        # If surface has parameters, register them\n",
    "        for name, p in surface.parameters().items():\n",
    "            print(type(p), p.dtype)\n",
    "            self.register_parameter(name, p)\n",
    "\n",
    "    def forward(self, x):\n",
    "        return (x + 5)*self.surface.p\n",
    "\n",
    "p = nn.Parameter(torch.tensor(0.5, dtype=torch.float32))\n",
    "s = Surface(p)\n",
    "\n",
    "f = Foo(s)\n",
    "\n",
    "\n",
    "for name, p in f.named_parameters():\n",
    "    print(name, p)\n"
   ]
  },
  {
   "cell_type": "code",
   "execution_count": null,
   "id": "5b8e036b-5774-4ed5-a0ae-c4854f401f13",
   "metadata": {},
   "outputs": [],
   "source": [
    "import torch\n",
    "import torch.nn as nn\n",
    "import torch.optim as optim\n",
    "import torchlensmaker as tlm\n",
    "\n",
    "lens_diameter = 15.0\n",
    "\n",
    "surface = tlm.Parabola(lens_diameter, a=tlm.parameter(-0.005))\n",
    "lens = tlm.BiLens(surface, (1.0, 1.5), outer_thickness=0.5)\n",
    "\n",
    "optics = nn.Sequential(\n",
    "    tlm.PointSourceAtInfinity(0.9*lens_diameter),\n",
    "    tlm.Gap(15),\n",
    "    \n",
    "    lens,\n",
    "    tlm.Gap(5),\n",
    "    lens,\n",
    "    tlm.Gap(5),\n",
    "    lens,\n",
    "    \n",
    "    tlm.Gap(80),\n",
    "    tlm.FocalPoint(),\n",
    ")\n",
    "\n",
    "tlm.show(optics, mode=\"2D\")\n",
    "tlm.show(optics, mode=\"3D\")"
   ]
  },
  {
   "cell_type": "code",
   "execution_count": null,
   "id": "111ba487-f5d4-430e-ad34-dab713a1795a",
   "metadata": {},
   "outputs": [],
   "source": [
    "tlm.optimize(\n",
    "    optics,\n",
    "    optimizer = optim.Adam(optics.parameters(), lr=3e-5),\n",
    "    sampling = {\"dim\": 2, \"dtype\": torch.float64, \"base\": 10},\n",
    "    num_iter = 100\n",
    ").plot()\n",
    "\n",
    "print(\"Final parabola parameter:\", surface.a.item())\n",
    "print(\"Outer thickness:\", lens.outer_thickness())\n",
    "print(\"Inner thickness:\", lens.inner_thickness())"
   ]
  },
  {
   "cell_type": "code",
   "execution_count": null,
   "id": "3",
   "metadata": {},
   "outputs": [],
   "source": [
    "tlm.show(optics, mode=\"2D\")\n",
    "tlm.show(optics, mode=\"3D\")"
   ]
  },
  {
   "cell_type": "code",
   "execution_count": null,
   "id": "28570383-a94a-4c4f-bdd3-73414a2727b2",
   "metadata": {},
   "outputs": [],
   "source": []
  }
 ],
 "metadata": {
  "kernelspec": {
   "display_name": "Python 3 (ipykernel)",
   "language": "python",
   "name": "python3"
  },
  "language_info": {
   "codemirror_mode": {
    "name": "ipython",
    "version": 3
   },
   "file_extension": ".py",
   "mimetype": "text/x-python",
   "name": "python",
   "nbconvert_exporter": "python",
   "pygments_lexer": "ipython3",
   "version": "3.12.3"
  }
 },
 "nbformat": 4,
 "nbformat_minor": 5
}
