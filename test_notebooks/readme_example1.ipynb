{
 "cells": [
  {
   "cell_type": "markdown",
   "id": "eed56d0e-f509-40de-99d2-c876471f6397",
   "metadata": {},
   "source": [
    "# Readme examples"
   ]
  },
  {
   "cell_type": "code",
   "execution_count": null,
   "id": "b563c63e-17fe-4d89-b86c-b6d87ec3451e",
   "metadata": {},
   "outputs": [],
   "source": [
    "import torchlensmaker as tlm\n",
    "\n",
    "shape = tlm.Sphere(diameter=60., r=70.)\n",
    "\n",
    "optics = tlm.Sequential(\n",
    "    tlm.ObjectAtInfinity(beam_diameter=50, angular_size=15),\n",
    "    tlm.Gap(10.),\n",
    "    tlm.BiLens(shape, material = 'BK7-nd', outer_thickness=5.),\n",
    "    tlm.Gap(60.0),\n",
    "    tlm.ImagePlane(diameter=20),\n",
    ")\n",
    "\n",
    "# TODO: color_dim default to object if available\n",
    "tlm.show(optics, dim=2, color_dim=\"object\")"
   ]
  },
  {
   "cell_type": "code",
   "execution_count": null,
   "id": "88d40639-1e18-4df2-b433-3cffccadae04",
   "metadata": {},
   "outputs": [],
   "source": []
  }
 ],
 "metadata": {
  "kernelspec": {
   "display_name": "Python 3 (ipykernel)",
   "language": "python",
   "name": "python3"
  },
  "language_info": {
   "codemirror_mode": {
    "name": "ipython",
    "version": 3
   },
   "file_extension": ".py",
   "mimetype": "text/x-python",
   "name": "python",
   "nbconvert_exporter": "python",
   "pygments_lexer": "ipython3",
   "version": "3.12.3"
  }
 },
 "nbformat": 4,
 "nbformat_minor": 5
}
