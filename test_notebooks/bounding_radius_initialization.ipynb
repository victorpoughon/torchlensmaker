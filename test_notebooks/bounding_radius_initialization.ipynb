{
 "cells": [
  {
   "cell_type": "code",
   "execution_count": null,
   "id": "8cd4842c-c64d-4d15-b412-957d280b905c",
   "metadata": {},
   "outputs": [],
   "source": [
    "import torchlensmaker as tlm\n",
    "import torch\n",
    "import math\n",
    "\n",
    "from torchlensmaker.testing.collision_datasets import FixedRays\n",
    "\n",
    "from typing import TypeAlias\n",
    "\n",
    "Tensor = torch.Tensor\n",
    "\n",
    "from torchlensmaker.core.collision_detection import init_brd\n",
    "\n",
    "\n",
    "def demo_brd_initialization(surface, P, V, rays_length=100):\n",
    "\n",
    "    N, D = P.shape\n",
    "    B = 8\n",
    "    \n",
    "    # :: (B, N)\n",
    "    init_t = init_brd(surface, P, V, B)\n",
    "    print(init_t.shape)\n",
    "\n",
    "    # :: (B, N, D)\n",
    "    points = P.expand((B, -1, -1)) + init_t.unsqueeze(-1).expand((B, N, D)) * V.expand((B, -1, -1))\n",
    "\n",
    "    print(points.shape)\n",
    "    points = points.reshape((-1, D))\n",
    "    print(points.shape)\n",
    "    \n",
    "    scene = tlm.viewer.new_scene(\"2D\" if D == 2 else \"3D\")\n",
    "    scene[\"data\"].append(tlm.viewer.render_surface(surface, D))\n",
    "    \n",
    "    rays_start = P - rays_length*V\n",
    "    rays_end = P + rays_length*V\n",
    "    scene[\"data\"].append(\n",
    "        tlm.viewer.render_rays(rays_start, rays_end, layer=0)\n",
    "    )\n",
    "\n",
    "    scene[\"data\"].append(tlm.viewer.render_points(points))\n",
    "    \n",
    "\n",
    "    tlm.viewer.ipython_display(scene)\n",
    "\n",
    "\n",
    "surface = tlm.Sphere(30, 16)\n",
    "generator = FixedRays(dim=2, N=10, direction=tlm.unit2d_rot(40), offset=30, epsilon=0.05)\n",
    "\n",
    "P, V = generator(surface)\n",
    "\n",
    "demo_brd_initialization(surface, P, V)"
   ]
  },
  {
   "cell_type": "code",
   "execution_count": null,
   "id": "b5d07a93-4ad1-4b6b-bb47-988d1659ef51",
   "metadata": {},
   "outputs": [],
   "source": []
  }
 ],
 "metadata": {
  "kernelspec": {
   "display_name": "Python 3 (ipykernel)",
   "language": "python",
   "name": "python3"
  },
  "language_info": {
   "codemirror_mode": {
    "name": "ipython",
    "version": 3
   },
   "file_extension": ".py",
   "mimetype": "text/x-python",
   "name": "python",
   "nbconvert_exporter": "python",
   "pygments_lexer": "ipython3",
   "version": "3.12.3"
  }
 },
 "nbformat": 4,
 "nbformat_minor": 5
}
