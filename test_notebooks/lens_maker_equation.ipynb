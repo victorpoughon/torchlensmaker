{
 "cells": [
  {
   "cell_type": "markdown",
   "id": "0",
   "metadata": {},
   "source": [
    "# Lens Maker Equation (using Refractive Surface)\n",
    "\n",
    "Here we create a lens with a fixed spherical shape and compute what its focal length should be, using the formula known as the Lens Maker Equation. Then, we use torchlensmaker forward pass to compute the loss and check that it is close to zero, i.e. that the rays correctly converge to the expected focal point.\n",
    "\n",
    "Note that it will not be exactly zero because the lens maker equation is an approximation (and a pretty bad one)."
   ]
  },
  {
   "cell_type": "code",
   "execution_count": null,
   "id": "2",
   "metadata": {},
   "outputs": [],
   "source": [
    "import torch\n",
    "import torch.nn as nn\n",
    "import torch.optim as optim\n",
    "import torchlensmaker as tlm\n",
    "\n",
    "import math\n",
    "import numpy as np\n",
    "import matplotlib.pyplot as plt\n",
    "from itertools import islice\n",
    "\n",
    "# Lens diameter: 40mm\n",
    "lens_diameter = 40.0\n",
    "\n",
    "# Circular surface radius\n",
    "# Using the cartesian sign convention\n",
    "R1, R2 = 200, -250\n",
    "\n",
    "# Indices of refraction\n",
    "N1, N2 = 1.0, 1.5\n",
    "\n",
    "# Lens Maker Equation\n",
    "expected_focal_length = 1 / (\n",
    "    ((N2 - N1) / N1) * (1/R1 - 1/R2)\n",
    ")\n",
    "\n",
    "print(\"Expected focal length (lens's maker equation):\", expected_focal_length)\n",
    "\n",
    "# Surface shapes of the lens\n",
    "surface1 = tlm.Sphere(lens_diameter, R1)\n",
    "surface2 = tlm.Sphere(lens_diameter, R2)\n",
    "\n",
    "# Setup the optical stack with incident parallel rays\n",
    "optics = nn.Sequential(\n",
    "    tlm.PointSourceAtInfinity(lens_diameter,  material=tlm.NonDispersiveMaterial(N1)),\n",
    "    tlm.Gap(10.),\n",
    "\n",
    "    tlm.RefractiveSurface(surface1, material=tlm.NonDispersiveMaterial(N2), anchors=(\"origin\", \"extent\")),\n",
    "    tlm.Gap(10.),\n",
    "    tlm.RefractiveSurface(surface2, material=tlm.NonDispersiveMaterial(N1), anchors=(\"extent\", \"origin\")),\n",
    "    \n",
    "    tlm.Gap(expected_focal_length - 5.),  # focal length wrt to center of lens\n",
    "    tlm.FocalPoint(),\n",
    ")\n",
    "\n",
    "\n",
    "# Evaluate model with 20 rays\n",
    "output = optics(tlm.default_input(dim=2, dtype=torch.float64, sampling={\"base\": 20}))\n",
    "\n",
    "loss = output.loss.item()\n",
    "print(\"Loss:\", loss)\n",
    "\n",
    "# Render\n",
    "tlm.show(optics, dim=2, end=250)\n"
   ]
  },
  {
   "cell_type": "markdown",
   "id": "3",
   "metadata": {},
   "source": [
    "# Next\n",
    "\n",
    "* optimize the gap with VariableGap to improve the best fit focal distance estimation\n",
    "* resample the shape to a parabola to reduce spherical aberation"
   ]
  },
  {
   "cell_type": "code",
   "execution_count": null,
   "id": "4",
   "metadata": {},
   "outputs": [],
   "source": []
  }
 ],
 "metadata": {
  "kernelspec": {
   "display_name": "Python 3 (ipykernel)",
   "language": "python",
   "name": "python3"
  },
  "language_info": {
   "codemirror_mode": {
    "name": "ipython",
    "version": 3
   },
   "file_extension": ".py",
   "mimetype": "text/x-python",
   "name": "python",
   "nbconvert_exporter": "python",
   "pygments_lexer": "ipython3",
   "version": "3.12.3"
  }
 },
 "nbformat": 4,
 "nbformat_minor": 5
}
