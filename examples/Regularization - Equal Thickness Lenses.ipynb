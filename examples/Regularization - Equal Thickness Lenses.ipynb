{
 "cells": [
  {
   "cell_type": "markdown",
   "id": "0",
   "metadata": {},
   "source": [
    "# Regularization - Equal Thickness Lenses"
   ]
  },
  {
   "cell_type": "markdown",
   "id": "1",
   "metadata": {},
   "source": [
    "In this example, we design a two lens system where the first lens is plano-convex, and the second lens is biconvex symmetric. Two parameters are used to describe the curvature of each lens.\n",
    "\n",
    "This problem has many solutions because different shape combinations can achieve the desired focal length. Using regularization, we add the additional constraint that the inner thickness of each lens should be equal. This leads to a unique solution."
   ]
  },
  {
   "cell_type": "code",
   "execution_count": null,
   "id": "2",
   "metadata": {},
   "outputs": [],
   "source": [
    "import math\n",
    "import torch\n",
    "import torch.nn as nn\n",
    "import numpy as np\n",
    "\n",
    "import torch.optim as optim\n",
    "import torchlensmaker as tlm\n",
    "\n",
    "\n",
    "class Optics(tlm.Module):\n",
    "    def __init__(self):\n",
    "        super().__init__()\n",
    "\n",
    "        lens_radius = 30\n",
    "        focal_length = 45\n",
    "        lens_outer_thickness = 1.0\n",
    "        material = (1.0, 1.5) # air and glass\n",
    "\n",
    "        # Shape of the curved surface of the plano convex lens\n",
    "        self.shape_convex = tlm.Parabola(lens_radius, nn.Parameter(torch.tensor(0.005)))\n",
    "\n",
    "        # Shape of the two curved surfaces of the biconvex symmetric lens\n",
    "        self.shape_biconvex = tlm.Parabola(lens_radius, nn.Parameter(torch.tensor(0.005)))\n",
    "    \n",
    "        self.plano = tlm.PlanoLens(\n",
    "            self.shape_convex,\n",
    "            n = material,\n",
    "            outer_thickness = lens_outer_thickness,\n",
    "        )\n",
    "        \n",
    "        self.biconvex = tlm.SymmetricLens(\n",
    "            self.shape_biconvex,\n",
    "            n = material,\n",
    "            outer_thickness = lens_outer_thickness,\n",
    "        )\n",
    "\n",
    "        self.optics = tlm.OpticalSequence(\n",
    "            tlm.PointSourceAtInfinity(0.9*lens_radius),\n",
    "            tlm.Gap(10.),\n",
    "            self.plano,\n",
    "            tlm.Gap(3.),\n",
    "            self.biconvex,\n",
    "            tlm.Gap(focal_length),\n",
    "            tlm.FocalPoint(),\n",
    "        )\n",
    "\n",
    "    def forward(self, inputs, sampling):\n",
    "        return self.optics(inputs, sampling)\n",
    "\n",
    "\n",
    "def regu_equalthickness(optics):\n",
    "    t0 = optics.plano.inner_thickness()\n",
    "    t1 = optics.biconvex.inner_thickness()\n",
    "    return 100*torch.pow(t0 - t1, 2)\n",
    "\n",
    "\n",
    "optics = Optics()\n",
    "\n",
    "print(list(optics.named_parameters()))\n",
    "\n",
    "tlm.render_plt(optics, force_uniform_source=False)\n",
    "\n",
    "tlm.optimize(\n",
    "    optics,\n",
    "    optimizer = optim.Adam(optics.parameters(), lr=5e-4),\n",
    "    sampling = {\"rays\": 10},\n",
    "    num_iter = 250,\n",
    "    regularization = regu_equalthickness,\n",
    ")\n",
    "\n",
    "tlm.render_plt(optics, force_uniform_source=False)\n",
    "\n",
    "print(f\"Plano-convex inner thickness {optics.plano.inner_thickness():.4f}\")\n",
    "print(f\"Bi-convex inner thickness {optics.biconvex.inner_thickness():.4f}\")"
   ]
  },
  {
   "cell_type": "code",
   "execution_count": null,
   "id": "3",
   "metadata": {},
   "outputs": [],
   "source": [
    "from IPython.display import display\n",
    "\n",
    "display(tlm.lens_to_part(optics.plano))\n",
    "display(tlm.lens_to_part(optics.biconvex))"
   ]
  },
  {
   "cell_type": "code",
   "execution_count": null,
   "id": "4",
   "metadata": {},
   "outputs": [],
   "source": []
  }
 ],
 "metadata": {
  "kernelspec": {
   "display_name": "Python 3 (ipykernel)",
   "language": "python",
   "name": "python3"
  },
  "language_info": {
   "codemirror_mode": {
    "name": "ipython",
    "version": 3
   },
   "file_extension": ".py",
   "mimetype": "text/x-python",
   "name": "python",
   "nbconvert_exporter": "python",
   "pygments_lexer": "ipython3",
   "version": "3.12.3"
  }
 },
 "nbformat": 4,
 "nbformat_minor": 5
}
