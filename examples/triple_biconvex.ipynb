{
 "cells": [
  {
   "cell_type": "markdown",
   "id": "0",
   "metadata": {},
   "source": [
    "# Triple Lens"
   ]
  },
  {
   "cell_type": "code",
   "execution_count": null,
   "id": "5b8e036b-5774-4ed5-a0ae-c4854f401f13",
   "metadata": {},
   "outputs": [],
   "source": [
    "import torch\n",
    "import torch.nn as nn\n",
    "import torch.optim as optim\n",
    "import torchlensmaker as tlm\n",
    "\n",
    "lens_diameter = 15.0\n",
    "\n",
    "surface = tlm.Parabola(lens_diameter, A=tlm.parameter(0.005))\n",
    "lens1 = tlm.BiLens(surface, material = 'BK7-nd', outer_thickness=0.5)\n",
    "lens2 = tlm.BiLens(surface, material = 'BK7-nd', outer_thickness=0.5)\n",
    "lens3 = tlm.BiLens(surface, material = 'BK7-nd', outer_thickness=0.5)\n",
    "\n",
    "optics = nn.Sequential(\n",
    "    tlm.PointSourceAtInfinity(0.9*lens_diameter),\n",
    "    tlm.Gap(15),\n",
    "    \n",
    "    lens1,\n",
    "    tlm.Gap(5),\n",
    "    lens2,\n",
    "    tlm.Gap(5),\n",
    "    lens3,\n",
    "    \n",
    "    tlm.Gap(40),\n",
    "    tlm.FocalPoint(),\n",
    ")\n",
    "\n",
    "tlm.show(optics, dim=2)\n",
    "tlm.show(optics, dim=3)"
   ]
  },
  {
   "cell_type": "code",
   "execution_count": null,
   "id": "111ba487-f5d4-430e-ad34-dab713a1795a",
   "metadata": {},
   "outputs": [],
   "source": [
    "tlm.optimize(\n",
    "    optics,\n",
    "    optimizer = optim.Adam(optics.parameters(), lr=1e-4),\n",
    "    sampling = {\"base\": 10},\n",
    "    dim = 2,\n",
    "    num_iter = 100\n",
    ").plot()\n",
    "\n",
    "print(\"Final parabola parameter:\", surface.A.item())\n",
    "print(\"Outer thickness:\", lens1.outer_thickness())\n",
    "print(\"Inner thickness:\", lens1.inner_thickness())"
   ]
  },
  {
   "cell_type": "code",
   "execution_count": null,
   "id": "3",
   "metadata": {},
   "outputs": [],
   "source": [
    "tlm.show(optics, dim=2)\n",
    "tlm.show(optics, dim=3)"
   ]
  },
  {
   "cell_type": "code",
   "execution_count": null,
   "id": "28570383-a94a-4c4f-bdd3-73414a2727b2",
   "metadata": {},
   "outputs": [],
   "source": []
  }
 ],
 "metadata": {
  "kernelspec": {
   "display_name": "Python 3 (ipykernel)",
   "language": "python",
   "name": "python3"
  },
  "language_info": {
   "codemirror_mode": {
    "name": "ipython",
    "version": 3
   },
   "file_extension": ".py",
   "mimetype": "text/x-python",
   "name": "python",
   "nbconvert_exporter": "python",
   "pygments_lexer": "ipython3",
   "version": "3.12.3"
  }
 },
 "nbformat": 4,
 "nbformat_minor": 5
}
