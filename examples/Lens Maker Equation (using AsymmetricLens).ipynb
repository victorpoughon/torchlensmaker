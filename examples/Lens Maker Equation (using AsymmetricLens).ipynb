{
 "cells": [
  {
   "cell_type": "markdown",
   "id": "89f37475-1f9a-43cf-8aa0-28ab602c6a4b",
   "metadata": {},
   "source": [
    "# Lens Maker Equation\n",
    "\n",
    "Here we create a lens with a fixed spherical shape and compute what its focal length should be, using the formula known as the Lens Maker Equation. Then, we use torchlensmaker forward pass to compute the loss and check that it is close to zero, i.e. that the rays correctly converge to the expected focal point.\n",
    "\n",
    "Note that it will not be exactly zero because the lens maker equation is an approximation, but torchlensmaker does exact raytracing."
   ]
  },
  {
   "cell_type": "code",
   "execution_count": null,
   "id": "cde5b90a-e189-46e0-9915-299204dfb5fd",
   "metadata": {},
   "outputs": [],
   "source": [
    "import math\n",
    "import torch\n",
    "import torch.nn as nn\n",
    "import torch.optim as optim\n",
    "import numpy as np\n",
    "\n",
    "import matplotlib.pyplot as plt\n",
    "from itertools import islice\n",
    "\n",
    "import torchlensmaker as tlm\n",
    "\n",
    "from torchlensmaker.optics import default_input\n",
    "\n",
    "# Lens diameter: 40mm\n",
    "lens_diameter = 40.0\n",
    "\n",
    "# Circular surface radius\n",
    "# Using the cartesian sign convention\n",
    "R1, R2 = 200, -250\n",
    "\n",
    "# Indices of refraction\n",
    "N1, N2 = (1.0, 1.5)\n",
    "\n",
    "# Lens Maker Equation\n",
    "expected_focal_length = 1 / (\n",
    "    ((N2 - N1) / N1) * (1/R1 - 1/R2)\n",
    ")\n",
    "\n",
    "print(\"Expected focal length (lens's maker equation):\", expected_focal_length)\n",
    "\n",
    "# Surface shapes of the lens\n",
    "shape1 = tlm.CircularArc(lens_diameter, R1)\n",
    "shape2 = tlm.CircularArc(lens_diameter, R2)\n",
    "\n",
    "# Setup the optical stack with incident parallel rays\n",
    "optics = tlm.OpticalSequence(\n",
    "    tlm.PointSourceAtInfinity(beam_diameter=lens_diameter),\n",
    "    tlm.Gap(10.),\n",
    "\n",
    "    tlm.AsymmetricLens(shape1, shape2, (N1, N2), outer_thickness=3.0),\n",
    "    \n",
    "    tlm.Gap(expected_focal_length - 5.),  # TODO is focal length wrt to the first surface?\n",
    "    tlm.FocalPoint(),\n",
    ")\n",
    "\n",
    "# Evaluate model with 20 rays\n",
    "output = optics(default_input, sampling={\"rays\": 20})\n",
    "\n",
    "loss = output.loss.item()\n",
    "print(\"Loss:\", loss)\n",
    "\n",
    "# Render\n",
    "tlm.render_plt(optics)"
   ]
  },
  {
   "cell_type": "markdown",
   "id": "009dc52c-892d-44aa-a08a-8d3767344683",
   "metadata": {},
   "source": [
    "# Next\n",
    "\n",
    "* optimize the gap with VariableGap to improve the best fit focal distance estimation\n",
    "* resample the shape to a parabola to reduce spherical aberation"
   ]
  },
  {
   "cell_type": "code",
   "execution_count": null,
   "id": "7d60fbd1-f2b1-46cb-a8d7-f8c3c66cde31",
   "metadata": {},
   "outputs": [],
   "source": []
  }
 ],
 "metadata": {
  "kernelspec": {
   "display_name": "Python 3 (ipykernel)",
   "language": "python",
   "name": "python3"
  },
  "language_info": {
   "codemirror_mode": {
    "name": "ipython",
    "version": 3
   },
   "file_extension": ".py",
   "mimetype": "text/x-python",
   "name": "python",
   "nbconvert_exporter": "python",
   "pygments_lexer": "ipython3",
   "version": "3.12.3"
  }
 },
 "nbformat": 4,
 "nbformat_minor": 5
}
