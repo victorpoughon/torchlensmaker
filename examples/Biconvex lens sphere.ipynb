{
 "cells": [
  {
   "cell_type": "markdown",
   "id": "0",
   "metadata": {},
   "source": [
    "# Biconvex lens (sphere)"
   ]
  },
  {
   "cell_type": "code",
   "execution_count": null,
   "id": "1",
   "metadata": {},
   "outputs": [],
   "source": [
    "import torch\n",
    "import torch.nn as nn\n",
    "import torch.optim as optim\n",
    "\n",
    "import torchlensmaker as tlm"
   ]
  },
  {
   "cell_type": "code",
   "execution_count": null,
   "id": "2",
   "metadata": {},
   "outputs": [],
   "source": [
    "class Optics(tlm.Module):\n",
    "    def __init__(self):\n",
    "        super().__init__()\n",
    "\n",
    "        # lens diameter in mm\n",
    "        lens_diameter = 60.\n",
    "\n",
    "        # shape of the lens surface\n",
    "        self.shape = tlm.CircularArc(lens_diameter, nn.Parameter(torch.tensor(-200.)))\n",
    "\n",
    "        self.lens = tlm.SymmetricLens(self.shape, (1.0, 1.5), inner_thickness=20.)\n",
    "        \n",
    "        self.optics = tlm.OpticalSequence(\n",
    "            tlm.PointSourceAtInfinity(beam_diameter=0.6*lens_diameter),\n",
    "            tlm.Gap(50.),\n",
    "            \n",
    "            self.lens,\n",
    "            \n",
    "            tlm.Gap(60.0), # focal length\n",
    "            tlm.FocalPoint(),\n",
    "        )\n",
    "\n",
    "    def forward(self, inputs, sampling):\n",
    "        return self.optics(inputs, sampling)\n",
    "\n",
    "optics = Optics()\n",
    "\n",
    "print(optics.shape.parameters())\n",
    "for p in optics.parameters():\n",
    "    print(p)\n",
    "\n",
    "tlm.render_plt(optics)"
   ]
  },
  {
   "cell_type": "code",
   "execution_count": null,
   "id": "3",
   "metadata": {},
   "outputs": [],
   "source": [
    "tlm.optimize(\n",
    "    optics,\n",
    "    optimizer = optim.Adam(optics.parameters(), lr=1e-3),\n",
    "    sampling = {\"rays\": 10},\n",
    "    num_iter = 150\n",
    ")\n",
    "\n",
    "print(\"Final arc radius:\", optics.shape.coefficients().item())\n",
    "\n",
    "tlm.render_plt(optics)"
   ]
  },
  {
   "cell_type": "code",
   "execution_count": null,
   "id": "4",
   "metadata": {},
   "outputs": [],
   "source": [
    "part = tlm.lens_to_part(optics.lens)\n",
    "part"
   ]
  },
  {
   "cell_type": "code",
   "execution_count": null,
   "id": "5",
   "metadata": {},
   "outputs": [],
   "source": []
  }
 ],
 "metadata": {
  "kernelspec": {
   "display_name": "Python 3 (ipykernel)",
   "language": "python",
   "name": "python3"
  },
  "language_info": {
   "codemirror_mode": {
    "name": "ipython",
    "version": 3
   },
   "file_extension": ".py",
   "mimetype": "text/x-python",
   "name": "python",
   "nbconvert_exporter": "python",
   "pygments_lexer": "ipython3",
   "version": "3.12.3"
  }
 },
 "nbformat": 4,
 "nbformat_minor": 5
}
