{
 "cells": [
  {
   "cell_type": "markdown",
   "id": "0",
   "metadata": {},
   "source": [
    "# Pinhole camera"
   ]
  },
  {
   "cell_type": "code",
   "execution_count": null,
   "id": "1",
   "metadata": {},
   "outputs": [],
   "source": [
    "import torchlensmaker as tlm\n",
    "\n",
    "optics = tlm.OpticalSequence(\n",
    "    tlm.ObjectAtInfinity(beam_diameter=50, angular_size=40),\n",
    "    tlm.Gap(15),\n",
    "    tlm.Aperture(height=50, diameter=0.5),\n",
    "    tlm.Gap(40),\n",
    "    tlm.ImagePlane(height=50),\n",
    ")\n",
    "\n",
    "tlm.render_plt(optics, color_dim=\"object\", sampling={\"rays\": 100, \"object\": 50})\n",
    "tlm.plot_magnification(optics, sampling={\"rays\": 100, \"object\": 50})"
   ]
  }
 ],
 "metadata": {
  "kernelspec": {
   "display_name": "Python 3 (ipykernel)",
   "language": "python",
   "name": "python3"
  },
  "language_info": {
   "codemirror_mode": {
    "name": "ipython",
    "version": 3
   },
   "file_extension": ".py",
   "mimetype": "text/x-python",
   "name": "python",
   "nbconvert_exporter": "python",
   "pygments_lexer": "ipython3",
   "version": "3.12.3"
  }
 },
 "nbformat": 4,
 "nbformat_minor": 5
}
