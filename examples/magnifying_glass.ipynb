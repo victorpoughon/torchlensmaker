{
 "cells": [
  {
   "cell_type": "markdown",
   "id": "d12ff515-136c-46b6-8d11-5824e4a39ea6",
   "metadata": {},
   "source": [
    "# Magnifying glass"
   ]
  },
  {
   "cell_type": "code",
   "execution_count": null,
   "id": "4374b6b2-f1f5-4485-8e48-463fb58f6519",
   "metadata": {},
   "outputs": [],
   "source": [
    "import torch\n",
    "import torchlensmaker as tlm\n",
    "\n",
    "surface = tlm.Sphere(diameter=30, R=50)\n",
    "\n",
    "optics = tlm.Sequential(\n",
    "    tlm.Object(beam_angular_size=10, object_diameter=10),\n",
    "    tlm.Gap(20),\n",
    "    tlm.RefractiveSurface(surface, anchors=(\"origin\", \"extent\"), material=\"BK7-nd\"),\n",
    "    tlm.Gap(3),\n",
    "    tlm.RefractiveSurface(surface, scale=-1, anchors=(\"extent\", \"origin\"), material=\"air\"),\n",
    "    tlm.Gap(-44.5),\n",
    "    tlm.ImagePlane(50),\n",
    ")\n",
    "\n",
    "tlm.show(optics, dim=2, end=10)"
   ]
  },
  {
   "cell_type": "code",
   "execution_count": null,
   "id": "5d713dc6-cd45-4fc7-ad9b-8feed1f20271",
   "metadata": {},
   "outputs": [],
   "source": []
  }
 ],
 "metadata": {
  "kernelspec": {
   "display_name": "Python 3 (ipykernel)",
   "language": "python",
   "name": "python3"
  },
  "language_info": {
   "codemirror_mode": {
    "name": "ipython",
    "version": 3
   },
   "file_extension": ".py",
   "mimetype": "text/x-python",
   "name": "python",
   "nbconvert_exporter": "python",
   "pygments_lexer": "ipython3",
   "version": "3.12.3"
  }
 },
 "nbformat": 4,
 "nbformat_minor": 5
}
