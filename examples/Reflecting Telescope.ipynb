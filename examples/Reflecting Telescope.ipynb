{
 "cells": [
  {
   "cell_type": "markdown",
   "id": "0",
   "metadata": {},
   "source": [
    "# Reflecting Telescope"
   ]
  },
  {
   "cell_type": "code",
   "execution_count": null,
   "id": "1",
   "metadata": {},
   "outputs": [],
   "source": [
    "import torch\n",
    "import torch.nn as nn\n",
    "import torch.optim as optim\n",
    "\n",
    "import torchlensmaker as tlm\n",
    "\n",
    "# A simple reflecting telescope made of two concave mirrors\n",
    "\n",
    "# In this example we keep the position of the mirrors constant\n",
    "# and optimize their curvature jointly\n",
    "\n",
    "# Note that there is more than one solution because rays can cross N times before focusing on the focal point\n",
    "# We want the solution where they cross at the focal point for the first time\n",
    "# TODO use image loss to account for flips\n",
    "# aka \"intermetidate image\"\n",
    "\n",
    "class Optics(tlm.Module):\n",
    "    def __init__(self):\n",
    "        super().__init__()\n",
    "\n",
    "        self.shape_primary = tlm.Parabola(height=35., a=nn.Parameter(torch.tensor(-0.0001)))  # y = a * x^2\n",
    "        self.shape_secondary = tlm.CircularArc(height=35., r=nn.Parameter(torch.tensor(450.0)))\n",
    "\n",
    "        self.optics = tlm.OpticalSequence(\n",
    "            tlm.Gap(-100),\n",
    "            tlm.PointSourceAtInfinity(beam_diameter=30),\n",
    "            tlm.Gap(100),\n",
    "            \n",
    "            tlm.ReflectiveSurface(self.shape_primary),\n",
    "            tlm.Gap(-80),\n",
    "\n",
    "            tlm.ReflectiveSurface(self.shape_secondary),\n",
    "\n",
    "            tlm.Gap(100),\n",
    "            tlm.FocalPoint(),\n",
    "        )\n",
    "\n",
    "    def forward(self, inputs, sampling):\n",
    "        return self.optics(inputs, sampling)\n",
    "\n",
    "optics = Optics()\n",
    "\n",
    "tlm.render_plt(optics)\n",
    "\n",
    "tlm.optimize(\n",
    "    optics,\n",
    "    optimizer = optim.Adam(optics.parameters(), lr=2e-4),\n",
    "    sampling = {\"rays\": 10},\n",
    "    num_iter = 100\n",
    ")\n",
    "\n",
    "tlm.render_plt(optics)"
   ]
  },
  {
   "cell_type": "code",
   "execution_count": null,
   "id": "2",
   "metadata": {},
   "outputs": [],
   "source": []
  }
 ],
 "metadata": {
  "kernelspec": {
   "display_name": "Python 3 (ipykernel)",
   "language": "python",
   "name": "python3"
  },
  "language_info": {
   "codemirror_mode": {
    "name": "ipython",
    "version": 3
   },
   "file_extension": ".py",
   "mimetype": "text/x-python",
   "name": "python",
   "nbconvert_exporter": "python",
   "pygments_lexer": "ipython3",
   "version": "3.12.3"
  }
 },
 "nbformat": 4,
 "nbformat_minor": 5
}
