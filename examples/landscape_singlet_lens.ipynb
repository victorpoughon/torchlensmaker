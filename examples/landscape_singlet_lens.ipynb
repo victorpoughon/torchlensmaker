{
 "cells": [
  {
   "cell_type": "markdown",
   "id": "0",
   "metadata": {},
   "source": [
    "# Landscape Singlet Lens"
   ]
  },
  {
   "cell_type": "markdown",
   "id": "1",
   "metadata": {},
   "source": [
    "Let's design a simple landscape singlet lens. This means two things:\n",
    "\n",
    "* A single lens (two refractive surfaces) made of one material: `tlm.AsymmetricLens`\n",
    "* A light source at infinity: `tlm.ObjectAtInfinity`\n",
    "\n",
    "We will also add an Aperture to model the lens entrance pupil. In the 'rear' case, the light source element acts as the aperture. In the 'front' case, an aperture is added behind the lens."
   ]
  },
  {
   "cell_type": "markdown",
   "id": "2",
   "metadata": {},
   "source": [
    "## Landscape rear configuration"
   ]
  },
  {
   "cell_type": "code",
   "execution_count": null,
   "id": "3",
   "metadata": {},
   "outputs": [],
   "source": [
    "import torch\n",
    "import torchlensmaker as tlm\n",
    "import torch.optim as optim\n",
    "\n",
    "# Setup two spherical surfaces with initial radiuses\n",
    "shape1 = tlm.CircularArc(height=30, r=tlm.Parameter(torch.tensor(-65.)))\n",
    "shape2 = tlm.CircularArc(height=30, r=tlm.Parameter(torch.tensor(-25.)))\n",
    "\n",
    "# Build the optical sequence\n",
    "optics = tlm.OpticalSequence(\n",
    "    tlm.ObjectAtInfinity(beam_diameter=10, angular_size=40),\n",
    "    tlm.Gap(15),\n",
    "    tlm.AsymmetricLens(shape1, shape2, (1.0, 1.5), outer_thickness=3.),\n",
    "    tlm.Gap(120),\n",
    "    tlm.ImagePlane(height=100),\n",
    ")\n",
    "\n",
    "# Render the optical configuration with initial values\n",
    "# Sample 10 rays per location, and 5 object locations: total = 50 rays\n",
    "tlm.render_plt(optics, color_dim=\"object\", sampling={\"rays\": 10, \"object\": 5})\n",
    "tlm.plot_magnification(optics, sampling={\"rays\": 10, \"object\": 5})\n",
    "\n",
    "# Find the best parameters for the shapes\n",
    "tlm.optimize(\n",
    "    optics,\n",
    "    optimizer = optim.Adam(optics.parameters(), lr=1e-4),\n",
    "    sampling = {\"rays\": 10, \"object\": 10},\n",
    "    num_iter = 100,\n",
    ")\n",
    "\n",
    "# Render with final values\n",
    "tlm.render_plt(optics, sampling={\"rays\": 10, \"object\": 5}, color_dim=\"object\")\n",
    "tlm.plot_magnification(optics, sampling={\"rays\": 10, \"object\": 5})"
   ]
  },
  {
   "cell_type": "markdown",
   "id": "4",
   "metadata": {},
   "source": [
    "## Landscape front configuration"
   ]
  },
  {
   "cell_type": "code",
   "execution_count": null,
   "id": "5",
   "metadata": {},
   "outputs": [],
   "source": [
    "import torch\n",
    "import torchlensmaker as tlm\n",
    "import torch.optim as optim\n",
    "\n",
    "# Setup two spherical surfaces with initial radiuses\n",
    "shape1 = tlm.CircularArc(height=30, r=tlm.Parameter(torch.tensor(25.)))\n",
    "shape2 = tlm.CircularArc(height=30, r=tlm.Parameter(torch.tensor(65.)))\n",
    "\n",
    "lens = tlm.AsymmetricLens(shape1, shape2, (1.0, 1.5), outer_thickness=3.)\n",
    "\n",
    "# Build the optical sequence\n",
    "optics = tlm.OpticalSequence(\n",
    "    tlm.ObjectAtInfinity(beam_diameter=40, angular_size=40),\n",
    "    tlm.Gap(15),\n",
    "    lens,\n",
    "    tlm.Gap(20),\n",
    "    tlm.Aperture(height=50, diameter=10),\n",
    "    tlm.Gap(100),\n",
    "    tlm.ImagePlane(height=100),\n",
    ")\n",
    "\n",
    "# Render the optical configuration with initial values\n",
    "# Sample 10 rays per location, and 5 object locations: total = 50 rays\n",
    "tlm.render_plt(optics, color_dim=\"object\", sampling={\"rays\": 10, \"object\": 5})\n",
    "tlm.plot_magnification(optics, sampling={\"rays\": 10, \"object\": 5})\n",
    "\n",
    "# Find the best parameters for the shapes\n",
    "tlm.optimize(\n",
    "    optics,\n",
    "    optimizer = optim.Adam(optics.parameters(), lr=1e-4),\n",
    "    sampling = {\"rays\": 10, \"object\": 10},\n",
    "    num_iter = 200,\n",
    ")\n",
    "\n",
    "# Render with final values\n",
    "tlm.render_plt(optics, sampling={\"rays\": 30, \"object\": 5}, color_dim=\"object\")\n",
    "tlm.plot_magnification(optics, sampling={\"rays\": 10, \"object\": 5})"
   ]
  },
  {
   "cell_type": "code",
   "execution_count": null,
   "id": "6",
   "metadata": {},
   "outputs": [],
   "source": [
    "from IPython.display import display\n",
    "import build123d as bd\n",
    "\n",
    "part = tlm.lens_to_part(lens)\n",
    "display(part)"
   ]
  }
 ],
 "metadata": {
  "kernelspec": {
   "display_name": "Python 3 (ipykernel)",
   "language": "python",
   "name": "python3"
  },
  "language_info": {
   "codemirror_mode": {
    "name": "ipython",
    "version": 3
   },
   "file_extension": ".py",
   "mimetype": "text/x-python",
   "name": "python",
   "nbconvert_exporter": "python",
   "pygments_lexer": "ipython3",
   "version": "3.12.3"
  }
 },
 "nbformat": 4,
 "nbformat_minor": 5
}
