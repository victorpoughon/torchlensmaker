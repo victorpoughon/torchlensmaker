{
 "cells": [
  {
   "cell_type": "markdown",
   "id": "3a842fec-9768-4e52-8826-e5580c573846",
   "metadata": {},
   "source": [
    "# Landscape lens"
   ]
  },
  {
   "cell_type": "code",
   "execution_count": null,
   "id": "71f3d90d-50bc-4c25-9afe-cfd19115b10c",
   "metadata": {},
   "outputs": [],
   "source": [
    "import torchlensmaker as tlm\n",
    "\n",
    "optics = tlm.Sequential(\n",
    "    tlm.ObjectAtInfinity(beam_diameter=10, angular_size=20),\n",
    "    tlm.Wavelength(400, 800),\n",
    "    tlm.Gap(15),\n",
    "    tlm.RefractiveSurface(tlm.Sphere(diameter=25, R=-45.759), material=\"BK7\"),\n",
    "    tlm.Gap(3.419),\n",
    "    tlm.RefractiveSurface(tlm.Sphere(diameter=25, R=-24.887), material=\"air\"),\n",
    "    tlm.Gap(97.5088),\n",
    "    tlm.ImagePlane(50),\n",
    ")\n",
    "\n",
    "tlm.show2d(optics, title=\"Landscape Lens\")"
   ]
  },
  {
   "cell_type": "code",
   "execution_count": null,
   "id": "d9d307c2-d7e7-4a4f-af15-3aa17b247693",
   "metadata": {},
   "outputs": [],
   "source": [
    "tlm.show3d(optics, title=\"Landscape Lens\")"
   ]
  },
  {
   "cell_type": "code",
   "execution_count": null,
   "id": "ff2184b3-fc76-4c67-a845-bde94a4125b8",
   "metadata": {},
   "outputs": [],
   "source": [
    "f, _ = tlm.spot_diagram(optics, {\"base\":1000, \"object\": 4, \"wavelength\": [400, 500, 600]}, row=\"object\", col=\"wavelength\", figsize=(12, 12))"
   ]
  },
  {
   "cell_type": "code",
   "execution_count": null,
   "id": "05bf2891-0925-42ed-9514-2dd452f9bb67",
   "metadata": {},
   "outputs": [],
   "source": [
    "f, _ = tlm.spot_diagram(optics, {\"base\": tlm.sampling.random_uniform(1000), \"object\": 4, \"wavelength\": [400, 500, 600]}, row=\"object\", col=\"wavelength\", figsize=(12, 12))"
   ]
  },
  {
   "cell_type": "code",
   "execution_count": null,
   "id": "211a445c-c586-44b6-a880-fd43ae3bfb0f",
   "metadata": {},
   "outputs": [],
   "source": []
  }
 ],
 "metadata": {
  "kernelspec": {
   "display_name": "Python 3 (ipykernel)",
   "language": "python",
   "name": "python3"
  },
  "language_info": {
   "codemirror_mode": {
    "name": "ipython",
    "version": 3
   },
   "file_extension": ".py",
   "mimetype": "text/x-python",
   "name": "python",
   "nbconvert_exporter": "python",
   "pygments_lexer": "ipython3",
   "version": "3.12.3"
  }
 },
 "nbformat": 4,
 "nbformat_minor": 5
}
