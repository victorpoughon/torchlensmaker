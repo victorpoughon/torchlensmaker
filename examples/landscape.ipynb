{
 "cells": [
  {
   "cell_type": "markdown",
   "id": "3a842fec-9768-4e52-8826-e5580c573846",
   "metadata": {},
   "source": [
    "# Landscape lens"
   ]
  },
  {
   "cell_type": "code",
   "execution_count": null,
   "id": "71f3d90d-50bc-4c25-9afe-cfd19115b10c",
   "metadata": {},
   "outputs": [],
   "source": [
    "import torchlensmaker as tlm\n",
    "\n",
    "surface1 = tlm.Sphere(diameter=25, r=-45.759)\n",
    "surface2 = tlm.Sphere(diameter=25, r=-24.887)\n",
    "\n",
    "optics = tlm.Sequential(\n",
    "    tlm.ObjectAtInfinity(beam_diameter=10, angular_size=20),\n",
    "    tlm.Multichromatic([450, 600, 750]),\n",
    "    tlm.Gap(15),\n",
    "    tlm.RefractiveSurface(surface1, material=\"BK7\"),\n",
    "    tlm.Gap(3.419),\n",
    "    tlm.RefractiveSurface(surface2, material=\"air\"),\n",
    "    tlm.Gap(97.5088),\n",
    "    tlm.ImagePlane(50),\n",
    ")\n",
    "\n",
    "tlm.show(optics, dim=2)"
   ]
  },
  {
   "cell_type": "code",
   "execution_count": null,
   "id": "0208c751-d123-42ab-83fb-23891cdb50d9",
   "metadata": {},
   "outputs": [],
   "source": []
  }
 ],
 "metadata": {
  "kernelspec": {
   "display_name": "Python 3 (ipykernel)",
   "language": "python",
   "name": "python3"
  },
  "language_info": {
   "codemirror_mode": {
    "name": "ipython",
    "version": 3
   },
   "file_extension": ".py",
   "mimetype": "text/x-python",
   "name": "python",
   "nbconvert_exporter": "python",
   "pygments_lexer": "ipython3",
   "version": "3.12.3"
  }
 },
 "nbformat": 4,
 "nbformat_minor": 5
}
