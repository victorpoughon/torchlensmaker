{
 "cells": [
  {
   "cell_type": "markdown",
   "id": "3a842fec-9768-4e52-8826-e5580c573846",
   "metadata": {},
   "source": [
    "# Landscape lens"
   ]
  },
  {
   "cell_type": "code",
   "execution_count": null,
   "id": "71f3d90d-50bc-4c25-9afe-cfd19115b10c",
   "metadata": {},
   "outputs": [],
   "source": [
    "import torch\n",
    "import torchlensmaker as tlm\n",
    "\n",
    "diameter = 25\n",
    "\n",
    "surface1 = tlm.Sphere(diameter, tlm.parameter(-45.759))\n",
    "surface2 = tlm.Sphere(diameter, -24.887)\n",
    "\n",
    "optics = tlm.Sequential(\n",
    "    tlm.ObjectAtInfinity(beam_diameter=0.4*diameter, angular_size=20),\n",
    "    tlm.Multichromatic([450, 600, 750]),\n",
    "    tlm.Gap(15),\n",
    "    tlm.RefractiveSurface(surface1, material=\"BK7\"),\n",
    "    tlm.Gap(3.419),\n",
    "    tlm.RefractiveSurface(surface2, material=\"air\"),\n",
    "    tlm.Gap(99.843),\n",
    "    tlm.ImagePlane(50),\n",
    ")\n",
    "\n",
    "tlm.show(optics, dim=2)"
   ]
  },
  {
   "cell_type": "code",
   "execution_count": null,
   "id": "542bc191-1ce8-4020-ae79-73793e2b8a50",
   "metadata": {},
   "outputs": [],
   "source": []
  }
 ],
 "metadata": {
  "kernelspec": {
   "display_name": "Python 3 (ipykernel)",
   "language": "python",
   "name": "python3"
  },
  "language_info": {
   "codemirror_mode": {
    "name": "ipython",
    "version": 3
   },
   "file_extension": ".py",
   "mimetype": "text/x-python",
   "name": "python",
   "nbconvert_exporter": "python",
   "pygments_lexer": "ipython3",
   "version": "3.12.3"
  }
 },
 "nbformat": 4,
 "nbformat_minor": 5
}
