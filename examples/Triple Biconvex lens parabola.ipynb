{
 "cells": [
  {
   "cell_type": "markdown",
   "id": "0",
   "metadata": {},
   "source": [
    "# Triple Lens"
   ]
  },
  {
   "cell_type": "code",
   "execution_count": null,
   "id": "1",
   "metadata": {},
   "outputs": [],
   "source": [
    "import torch\n",
    "import torch.nn as nn\n",
    "import torch.optim as optim\n",
    "\n",
    "import torchlensmaker as tlm"
   ]
  },
  {
   "cell_type": "code",
   "execution_count": null,
   "id": "2",
   "metadata": {},
   "outputs": [],
   "source": [
    "    \n",
    "lens_width = 15.0\n",
    "\n",
    "class Optics(tlm.Module):\n",
    "    def __init__(self):\n",
    "        super().__init__()\n",
    "\n",
    "        self.shape = tlm.Parabola(lens_width, a=nn.Parameter(torch.tensor(-0.005)))\n",
    "        \n",
    "        surface1 = tlm.RefractiveSurface(self.shape, (1.0, 1.49), anchors=(\"origin\", \"extent\"))\n",
    "        surface2 = tlm.RefractiveSurface(self.shape, (1.49, 1.0), scale=-1, anchors=(\"extent\", \"origin\"))\n",
    "\n",
    "        lens = [surface1, tlm.Gap(5.0), surface2]\n",
    "        \n",
    "        self.optics = tlm.OpticalSequence(\n",
    "            tlm.PointSourceAtInfinity(beam_diameter=0.9*lens_width),\n",
    "            tlm.Gap(15.),\n",
    "            \n",
    "            *lens,\n",
    "            tlm.Gap(5.),\n",
    "            *lens,\n",
    "            tlm.Gap(5.),\n",
    "            *lens,\n",
    "            \n",
    "            tlm.Gap(80.), # focal length\n",
    "            tlm.FocalPoint(),\n",
    "        )\n",
    "\n",
    "    def forward(self, inputs, sampling):\n",
    "        return self.optics(inputs, sampling)\n",
    "\n",
    "\n",
    "optics = Optics()\n",
    "\n",
    "\n",
    "tlm.render_plt(optics)\n",
    "\n",
    "tlm.optimize(\n",
    "    optics,\n",
    "    optimizer = optim.Adam(optics.parameters(), lr=5e-4),\n",
    "    sampling = {\"rays\": 10},\n",
    "    num_iter = 100\n",
    ")\n",
    "\n",
    "tlm.render_plt(optics)"
   ]
  },
  {
   "cell_type": "code",
   "execution_count": null,
   "id": "3",
   "metadata": {},
   "outputs": [],
   "source": []
  }
 ],
 "metadata": {
  "kernelspec": {
   "display_name": "Python 3 (ipykernel)",
   "language": "python",
   "name": "python3"
  },
  "language_info": {
   "codemirror_mode": {
    "name": "ipython",
    "version": 3
   },
   "file_extension": ".py",
   "mimetype": "text/x-python",
   "name": "python",
   "nbconvert_exporter": "python",
   "pygments_lexer": "ipython3",
   "version": "3.12.3"
  }
 },
 "nbformat": 4,
 "nbformat_minor": 5
}
