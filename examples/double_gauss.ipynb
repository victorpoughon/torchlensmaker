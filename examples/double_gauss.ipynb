{
 "cells": [
  {
   "cell_type": "markdown",
   "id": "f8027840-f985-4586-ad19-61d5aa48ae0a",
   "metadata": {},
   "source": [
    "# Double Gauss F/5"
   ]
  },
  {
   "cell_type": "code",
   "execution_count": null,
   "id": "ad453658-4e65-4758-aed9-6f87d6ec4448",
   "metadata": {},
   "outputs": [],
   "source": [
    "# from https://sterncat.github.io/files/Double_Gauss.html\n",
    "\n",
    "\n",
    "import torch\n",
    "import torchlensmaker as tlm\n",
    "\n",
    "# Materials used in this design are from the Schott catalog\n",
    "# Define them using Sellmeir models\n",
    "nssk2 = tlm.SellmeierMaterial(1.4306027, 0.153150554, 1.01390904, 0.00823982975, 0.0333736841, 106.870822)\n",
    "nsk2 = tlm.SellmeierMaterial(1.28189012, 0.257738258, 0.96818604, 0.0072719164, 0.0242823527, 110.377773)\n",
    "f5 = tlm.SellmeierMaterial(1.3104463, 0.19603426, 0.96612977, 0.00958633048, 0.0457627627, 115.011883)\n",
    "nsk16 = tlm.SellmeierMaterial(1.34317774, 0.241144399, 0.994317969, 0.00704687339, 0.0229005, 92.7508526)\n",
    "\n",
    "tlm.plot_material_models([nssk2, nsk2, f5, nsk16], 400, 800, [\"nssk2\", \"nsk2\", \"f5\", \"nsk16\"])"
   ]
  },
  {
   "cell_type": "code",
   "execution_count": null,
   "id": "c30499e5-05c8-41b5-bfa4-60a9a2a8c435",
   "metadata": {},
   "outputs": [],
   "source": [
    "diameter = 55\n",
    "\n",
    "optics = tlm.Sequential(\n",
    "    tlm.Offset(\n",
    "        tlm.ObjectAtInfinity(20, angular_size=30),\n",
    "        y=-10),\n",
    "    tlm.Wavelength(400, 600),\n",
    "    tlm.Gap(20),\n",
    "    \n",
    "    # Lens 1\n",
    "    tlm.RefractiveSurface(tlm.Sphere(diameter, 56.20238), material=nssk2),\n",
    "    tlm.Gap(8.75),\n",
    "    tlm.RefractiveSurface(tlm.Sphere(diameter, 152.28580), material='air'),\n",
    "\n",
    "    tlm.Gap(0.5),\n",
    "\n",
    "    # Lens 2\n",
    "    tlm.RefractiveSurface(tlm.Sphere(0.8*diameter, 37.68262), material=nsk2),\n",
    "    tlm.Gap(12.5),\n",
    "    tlm.RefractiveSurface(tlm.CircularPlane(0.9*diameter), material=f5),\n",
    "    tlm.Gap(3.8),\n",
    "    tlm.RefractiveSurface(tlm.Sphere(0.8*diameter, 24.23130), material='air'),\n",
    "\n",
    "    tlm.Gap(16.369445),\n",
    "    \n",
    "    # Aperture\n",
    "    tlm.Aperture(0.5*diameter),\n",
    "    \n",
    "    tlm.Gap(13.747957),\n",
    "\n",
    "    # Lens 3\n",
    "    tlm.RefractiveSurface(tlm.Sphere(0.8*diameter, -28.37731), material=f5),\n",
    "    tlm.Gap(3.8),\n",
    "    tlm.RefractiveSurface(tlm.CircularPlane(0.8*diameter), material=nsk16),\n",
    "    tlm.Gap(11),\n",
    "    tlm.RefractiveSurface(tlm.Sphere(0.7*diameter, -37.92546), material='air'),\n",
    "\n",
    "    tlm.Gap(0.5),\n",
    "\n",
    "    # Lens 4\n",
    "    tlm.RefractiveSurface(tlm.Sphere(0.8*diameter, 177.41176), material=nsk16),\n",
    "    tlm.Gap(7),\n",
    "    tlm.RefractiveSurface(tlm.Sphere(0.8*diameter, -79.41143), material='air'),\n",
    "\n",
    "    tlm.Gap(61.487536),\n",
    "\n",
    "    tlm.ImagePlane(80),\n",
    ")\n",
    "\n",
    "tlm.show(optics, dim=2, end=10, sampling={\"base\": 5, \"object\": 3, \"wavelength\": 3})"
   ]
  },
  {
   "cell_type": "code",
   "execution_count": null,
   "id": "d4d2c760-90d8-46de-a76f-c4c618c7c0df",
   "metadata": {},
   "outputs": [],
   "source": []
  }
 ],
 "metadata": {
  "kernelspec": {
   "display_name": "Python 3 (ipykernel)",
   "language": "python",
   "name": "python3"
  },
  "language_info": {
   "codemirror_mode": {
    "name": "ipython",
    "version": 3
   },
   "file_extension": ".py",
   "mimetype": "text/x-python",
   "name": "python",
   "nbconvert_exporter": "python",
   "pygments_lexer": "ipython3",
   "version": "3.12.3"
  }
 },
 "nbformat": 4,
 "nbformat_minor": 5
}
